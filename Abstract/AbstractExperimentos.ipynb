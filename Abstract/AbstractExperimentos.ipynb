{
  "nbformat": 4,
  "nbformat_minor": 0,
  "metadata": {
    "colab": {
      "provenance": [],
      "mount_file_id": "191LFn7u-N9KGTOy5tP3jjxi5yBxB26Z3",
      "authorship_tag": "ABX9TyOIm1itD+f3v3rGp8r6kfkc",
      "include_colab_link": true
    },
    "kernelspec": {
      "name": "python3",
      "display_name": "Python 3"
    },
    "language_info": {
      "name": "python"
    }
  },
  "cells": [
    {
      "cell_type": "markdown",
      "metadata": {
        "id": "view-in-github",
        "colab_type": "text"
      },
      "source": [
        "<a href=\"https://colab.research.google.com/github/IvanDiazCC/PruebasP/blob/main/Abstract/AbstractExperimentos.ipynb\" target=\"_parent\"><img src=\"https://colab.research.google.com/assets/colab-badge.svg\" alt=\"Open In Colab\"/></a>"
      ]
    },
    {
      "cell_type": "code",
      "source": [
        "!pip install spacy\n",
        "!python -m spacy download en_core_web_sm"
      ],
      "metadata": {
        "colab": {
          "base_uri": "https://localhost:8080/"
        },
        "id": "k6rB5c5ucAYB",
        "outputId": "dc7daf55-2a7b-4b58-a5a1-c5f6fdf7272d"
      },
      "execution_count": null,
      "outputs": [
        {
          "output_type": "stream",
          "name": "stdout",
          "text": [
            "Requirement already satisfied: spacy in /usr/local/lib/python3.11/dist-packages (3.7.5)\n",
            "Requirement already satisfied: spacy-legacy<3.1.0,>=3.0.11 in /usr/local/lib/python3.11/dist-packages (from spacy) (3.0.12)\n",
            "Requirement already satisfied: spacy-loggers<2.0.0,>=1.0.0 in /usr/local/lib/python3.11/dist-packages (from spacy) (1.0.5)\n",
            "Requirement already satisfied: murmurhash<1.1.0,>=0.28.0 in /usr/local/lib/python3.11/dist-packages (from spacy) (1.0.11)\n",
            "Requirement already satisfied: cymem<2.1.0,>=2.0.2 in /usr/local/lib/python3.11/dist-packages (from spacy) (2.0.10)\n",
            "Requirement already satisfied: preshed<3.1.0,>=3.0.2 in /usr/local/lib/python3.11/dist-packages (from spacy) (3.0.9)\n",
            "Requirement already satisfied: thinc<8.3.0,>=8.2.2 in /usr/local/lib/python3.11/dist-packages (from spacy) (8.2.5)\n",
            "Requirement already satisfied: wasabi<1.2.0,>=0.9.1 in /usr/local/lib/python3.11/dist-packages (from spacy) (1.1.3)\n",
            "Requirement already satisfied: srsly<3.0.0,>=2.4.3 in /usr/local/lib/python3.11/dist-packages (from spacy) (2.5.0)\n",
            "Requirement already satisfied: catalogue<2.1.0,>=2.0.6 in /usr/local/lib/python3.11/dist-packages (from spacy) (2.0.10)\n",
            "Requirement already satisfied: weasel<0.5.0,>=0.1.0 in /usr/local/lib/python3.11/dist-packages (from spacy) (0.4.1)\n",
            "Requirement already satisfied: typer<1.0.0,>=0.3.0 in /usr/local/lib/python3.11/dist-packages (from spacy) (0.15.1)\n",
            "Requirement already satisfied: tqdm<5.0.0,>=4.38.0 in /usr/local/lib/python3.11/dist-packages (from spacy) (4.67.1)\n",
            "Requirement already satisfied: requests<3.0.0,>=2.13.0 in /usr/local/lib/python3.11/dist-packages (from spacy) (2.32.3)\n",
            "Requirement already satisfied: pydantic!=1.8,!=1.8.1,<3.0.0,>=1.7.4 in /usr/local/lib/python3.11/dist-packages (from spacy) (2.10.5)\n",
            "Requirement already satisfied: jinja2 in /usr/local/lib/python3.11/dist-packages (from spacy) (3.1.5)\n",
            "Requirement already satisfied: setuptools in /usr/local/lib/python3.11/dist-packages (from spacy) (75.1.0)\n",
            "Requirement already satisfied: packaging>=20.0 in /usr/local/lib/python3.11/dist-packages (from spacy) (24.2)\n",
            "Requirement already satisfied: langcodes<4.0.0,>=3.2.0 in /usr/local/lib/python3.11/dist-packages (from spacy) (3.5.0)\n",
            "Requirement already satisfied: numpy>=1.19.0 in /usr/local/lib/python3.11/dist-packages (from spacy) (1.26.4)\n",
            "Requirement already satisfied: language-data>=1.2 in /usr/local/lib/python3.11/dist-packages (from langcodes<4.0.0,>=3.2.0->spacy) (1.3.0)\n",
            "Requirement already satisfied: annotated-types>=0.6.0 in /usr/local/lib/python3.11/dist-packages (from pydantic!=1.8,!=1.8.1,<3.0.0,>=1.7.4->spacy) (0.7.0)\n",
            "Requirement already satisfied: pydantic-core==2.27.2 in /usr/local/lib/python3.11/dist-packages (from pydantic!=1.8,!=1.8.1,<3.0.0,>=1.7.4->spacy) (2.27.2)\n",
            "Requirement already satisfied: typing-extensions>=4.12.2 in /usr/local/lib/python3.11/dist-packages (from pydantic!=1.8,!=1.8.1,<3.0.0,>=1.7.4->spacy) (4.12.2)\n",
            "Requirement already satisfied: charset-normalizer<4,>=2 in /usr/local/lib/python3.11/dist-packages (from requests<3.0.0,>=2.13.0->spacy) (3.4.1)\n",
            "Requirement already satisfied: idna<4,>=2.5 in /usr/local/lib/python3.11/dist-packages (from requests<3.0.0,>=2.13.0->spacy) (3.10)\n",
            "Requirement already satisfied: urllib3<3,>=1.21.1 in /usr/local/lib/python3.11/dist-packages (from requests<3.0.0,>=2.13.0->spacy) (2.3.0)\n",
            "Requirement already satisfied: certifi>=2017.4.17 in /usr/local/lib/python3.11/dist-packages (from requests<3.0.0,>=2.13.0->spacy) (2024.12.14)\n",
            "Requirement already satisfied: blis<0.8.0,>=0.7.8 in /usr/local/lib/python3.11/dist-packages (from thinc<8.3.0,>=8.2.2->spacy) (0.7.11)\n",
            "Requirement already satisfied: confection<1.0.0,>=0.0.1 in /usr/local/lib/python3.11/dist-packages (from thinc<8.3.0,>=8.2.2->spacy) (0.1.5)\n",
            "Requirement already satisfied: click>=8.0.0 in /usr/local/lib/python3.11/dist-packages (from typer<1.0.0,>=0.3.0->spacy) (8.1.8)\n",
            "Requirement already satisfied: shellingham>=1.3.0 in /usr/local/lib/python3.11/dist-packages (from typer<1.0.0,>=0.3.0->spacy) (1.5.4)\n",
            "Requirement already satisfied: rich>=10.11.0 in /usr/local/lib/python3.11/dist-packages (from typer<1.0.0,>=0.3.0->spacy) (13.9.4)\n",
            "Requirement already satisfied: cloudpathlib<1.0.0,>=0.7.0 in /usr/local/lib/python3.11/dist-packages (from weasel<0.5.0,>=0.1.0->spacy) (0.20.0)\n",
            "Requirement already satisfied: smart-open<8.0.0,>=5.2.1 in /usr/local/lib/python3.11/dist-packages (from weasel<0.5.0,>=0.1.0->spacy) (7.1.0)\n",
            "Requirement already satisfied: MarkupSafe>=2.0 in /usr/local/lib/python3.11/dist-packages (from jinja2->spacy) (3.0.2)\n",
            "Requirement already satisfied: marisa-trie>=1.1.0 in /usr/local/lib/python3.11/dist-packages (from language-data>=1.2->langcodes<4.0.0,>=3.2.0->spacy) (1.2.1)\n",
            "Requirement already satisfied: markdown-it-py>=2.2.0 in /usr/local/lib/python3.11/dist-packages (from rich>=10.11.0->typer<1.0.0,>=0.3.0->spacy) (3.0.0)\n",
            "Requirement already satisfied: pygments<3.0.0,>=2.13.0 in /usr/local/lib/python3.11/dist-packages (from rich>=10.11.0->typer<1.0.0,>=0.3.0->spacy) (2.18.0)\n",
            "Requirement already satisfied: wrapt in /usr/local/lib/python3.11/dist-packages (from smart-open<8.0.0,>=5.2.1->weasel<0.5.0,>=0.1.0->spacy) (1.17.0)\n",
            "Requirement already satisfied: mdurl~=0.1 in /usr/local/lib/python3.11/dist-packages (from markdown-it-py>=2.2.0->rich>=10.11.0->typer<1.0.0,>=0.3.0->spacy) (0.1.2)\n",
            "Collecting en-core-web-sm==3.7.1\n",
            "  Downloading https://github.com/explosion/spacy-models/releases/download/en_core_web_sm-3.7.1/en_core_web_sm-3.7.1-py3-none-any.whl (12.8 MB)\n",
            "\u001b[2K     \u001b[90m━━━━━━━━━━━━━━━━━━━━━━━━━━━━━━━━━━━━━━━━\u001b[0m \u001b[32m12.8/12.8 MB\u001b[0m \u001b[31m36.3 MB/s\u001b[0m eta \u001b[36m0:00:00\u001b[0m\n",
            "\u001b[?25hRequirement already satisfied: spacy<3.8.0,>=3.7.2 in /usr/local/lib/python3.11/dist-packages (from en-core-web-sm==3.7.1) (3.7.5)\n",
            "Requirement already satisfied: spacy-legacy<3.1.0,>=3.0.11 in /usr/local/lib/python3.11/dist-packages (from spacy<3.8.0,>=3.7.2->en-core-web-sm==3.7.1) (3.0.12)\n",
            "Requirement already satisfied: spacy-loggers<2.0.0,>=1.0.0 in /usr/local/lib/python3.11/dist-packages (from spacy<3.8.0,>=3.7.2->en-core-web-sm==3.7.1) (1.0.5)\n",
            "Requirement already satisfied: murmurhash<1.1.0,>=0.28.0 in /usr/local/lib/python3.11/dist-packages (from spacy<3.8.0,>=3.7.2->en-core-web-sm==3.7.1) (1.0.11)\n",
            "Requirement already satisfied: cymem<2.1.0,>=2.0.2 in /usr/local/lib/python3.11/dist-packages (from spacy<3.8.0,>=3.7.2->en-core-web-sm==3.7.1) (2.0.10)\n",
            "Requirement already satisfied: preshed<3.1.0,>=3.0.2 in /usr/local/lib/python3.11/dist-packages (from spacy<3.8.0,>=3.7.2->en-core-web-sm==3.7.1) (3.0.9)\n",
            "Requirement already satisfied: thinc<8.3.0,>=8.2.2 in /usr/local/lib/python3.11/dist-packages (from spacy<3.8.0,>=3.7.2->en-core-web-sm==3.7.1) (8.2.5)\n",
            "Requirement already satisfied: wasabi<1.2.0,>=0.9.1 in /usr/local/lib/python3.11/dist-packages (from spacy<3.8.0,>=3.7.2->en-core-web-sm==3.7.1) (1.1.3)\n",
            "Requirement already satisfied: srsly<3.0.0,>=2.4.3 in /usr/local/lib/python3.11/dist-packages (from spacy<3.8.0,>=3.7.2->en-core-web-sm==3.7.1) (2.5.0)\n",
            "Requirement already satisfied: catalogue<2.1.0,>=2.0.6 in /usr/local/lib/python3.11/dist-packages (from spacy<3.8.0,>=3.7.2->en-core-web-sm==3.7.1) (2.0.10)\n",
            "Requirement already satisfied: weasel<0.5.0,>=0.1.0 in /usr/local/lib/python3.11/dist-packages (from spacy<3.8.0,>=3.7.2->en-core-web-sm==3.7.1) (0.4.1)\n",
            "Requirement already satisfied: typer<1.0.0,>=0.3.0 in /usr/local/lib/python3.11/dist-packages (from spacy<3.8.0,>=3.7.2->en-core-web-sm==3.7.1) (0.15.1)\n",
            "Requirement already satisfied: tqdm<5.0.0,>=4.38.0 in /usr/local/lib/python3.11/dist-packages (from spacy<3.8.0,>=3.7.2->en-core-web-sm==3.7.1) (4.67.1)\n",
            "Requirement already satisfied: requests<3.0.0,>=2.13.0 in /usr/local/lib/python3.11/dist-packages (from spacy<3.8.0,>=3.7.2->en-core-web-sm==3.7.1) (2.32.3)\n",
            "Requirement already satisfied: pydantic!=1.8,!=1.8.1,<3.0.0,>=1.7.4 in /usr/local/lib/python3.11/dist-packages (from spacy<3.8.0,>=3.7.2->en-core-web-sm==3.7.1) (2.10.5)\n",
            "Requirement already satisfied: jinja2 in /usr/local/lib/python3.11/dist-packages (from spacy<3.8.0,>=3.7.2->en-core-web-sm==3.7.1) (3.1.5)\n",
            "Requirement already satisfied: setuptools in /usr/local/lib/python3.11/dist-packages (from spacy<3.8.0,>=3.7.2->en-core-web-sm==3.7.1) (75.1.0)\n",
            "Requirement already satisfied: packaging>=20.0 in /usr/local/lib/python3.11/dist-packages (from spacy<3.8.0,>=3.7.2->en-core-web-sm==3.7.1) (24.2)\n",
            "Requirement already satisfied: langcodes<4.0.0,>=3.2.0 in /usr/local/lib/python3.11/dist-packages (from spacy<3.8.0,>=3.7.2->en-core-web-sm==3.7.1) (3.5.0)\n",
            "Requirement already satisfied: numpy>=1.19.0 in /usr/local/lib/python3.11/dist-packages (from spacy<3.8.0,>=3.7.2->en-core-web-sm==3.7.1) (1.26.4)\n",
            "Requirement already satisfied: language-data>=1.2 in /usr/local/lib/python3.11/dist-packages (from langcodes<4.0.0,>=3.2.0->spacy<3.8.0,>=3.7.2->en-core-web-sm==3.7.1) (1.3.0)\n",
            "Requirement already satisfied: annotated-types>=0.6.0 in /usr/local/lib/python3.11/dist-packages (from pydantic!=1.8,!=1.8.1,<3.0.0,>=1.7.4->spacy<3.8.0,>=3.7.2->en-core-web-sm==3.7.1) (0.7.0)\n",
            "Requirement already satisfied: pydantic-core==2.27.2 in /usr/local/lib/python3.11/dist-packages (from pydantic!=1.8,!=1.8.1,<3.0.0,>=1.7.4->spacy<3.8.0,>=3.7.2->en-core-web-sm==3.7.1) (2.27.2)\n",
            "Requirement already satisfied: typing-extensions>=4.12.2 in /usr/local/lib/python3.11/dist-packages (from pydantic!=1.8,!=1.8.1,<3.0.0,>=1.7.4->spacy<3.8.0,>=3.7.2->en-core-web-sm==3.7.1) (4.12.2)\n",
            "Requirement already satisfied: charset-normalizer<4,>=2 in /usr/local/lib/python3.11/dist-packages (from requests<3.0.0,>=2.13.0->spacy<3.8.0,>=3.7.2->en-core-web-sm==3.7.1) (3.4.1)\n",
            "Requirement already satisfied: idna<4,>=2.5 in /usr/local/lib/python3.11/dist-packages (from requests<3.0.0,>=2.13.0->spacy<3.8.0,>=3.7.2->en-core-web-sm==3.7.1) (3.10)\n",
            "Requirement already satisfied: urllib3<3,>=1.21.1 in /usr/local/lib/python3.11/dist-packages (from requests<3.0.0,>=2.13.0->spacy<3.8.0,>=3.7.2->en-core-web-sm==3.7.1) (2.3.0)\n",
            "Requirement already satisfied: certifi>=2017.4.17 in /usr/local/lib/python3.11/dist-packages (from requests<3.0.0,>=2.13.0->spacy<3.8.0,>=3.7.2->en-core-web-sm==3.7.1) (2024.12.14)\n",
            "Requirement already satisfied: blis<0.8.0,>=0.7.8 in /usr/local/lib/python3.11/dist-packages (from thinc<8.3.0,>=8.2.2->spacy<3.8.0,>=3.7.2->en-core-web-sm==3.7.1) (0.7.11)\n",
            "Requirement already satisfied: confection<1.0.0,>=0.0.1 in /usr/local/lib/python3.11/dist-packages (from thinc<8.3.0,>=8.2.2->spacy<3.8.0,>=3.7.2->en-core-web-sm==3.7.1) (0.1.5)\n",
            "Requirement already satisfied: click>=8.0.0 in /usr/local/lib/python3.11/dist-packages (from typer<1.0.0,>=0.3.0->spacy<3.8.0,>=3.7.2->en-core-web-sm==3.7.1) (8.1.8)\n",
            "Requirement already satisfied: shellingham>=1.3.0 in /usr/local/lib/python3.11/dist-packages (from typer<1.0.0,>=0.3.0->spacy<3.8.0,>=3.7.2->en-core-web-sm==3.7.1) (1.5.4)\n",
            "Requirement already satisfied: rich>=10.11.0 in /usr/local/lib/python3.11/dist-packages (from typer<1.0.0,>=0.3.0->spacy<3.8.0,>=3.7.2->en-core-web-sm==3.7.1) (13.9.4)\n",
            "Requirement already satisfied: cloudpathlib<1.0.0,>=0.7.0 in /usr/local/lib/python3.11/dist-packages (from weasel<0.5.0,>=0.1.0->spacy<3.8.0,>=3.7.2->en-core-web-sm==3.7.1) (0.20.0)\n",
            "Requirement already satisfied: smart-open<8.0.0,>=5.2.1 in /usr/local/lib/python3.11/dist-packages (from weasel<0.5.0,>=0.1.0->spacy<3.8.0,>=3.7.2->en-core-web-sm==3.7.1) (7.1.0)\n",
            "Requirement already satisfied: MarkupSafe>=2.0 in /usr/local/lib/python3.11/dist-packages (from jinja2->spacy<3.8.0,>=3.7.2->en-core-web-sm==3.7.1) (3.0.2)\n",
            "Requirement already satisfied: marisa-trie>=1.1.0 in /usr/local/lib/python3.11/dist-packages (from language-data>=1.2->langcodes<4.0.0,>=3.2.0->spacy<3.8.0,>=3.7.2->en-core-web-sm==3.7.1) (1.2.1)\n",
            "Requirement already satisfied: markdown-it-py>=2.2.0 in /usr/local/lib/python3.11/dist-packages (from rich>=10.11.0->typer<1.0.0,>=0.3.0->spacy<3.8.0,>=3.7.2->en-core-web-sm==3.7.1) (3.0.0)\n",
            "Requirement already satisfied: pygments<3.0.0,>=2.13.0 in /usr/local/lib/python3.11/dist-packages (from rich>=10.11.0->typer<1.0.0,>=0.3.0->spacy<3.8.0,>=3.7.2->en-core-web-sm==3.7.1) (2.18.0)\n",
            "Requirement already satisfied: wrapt in /usr/local/lib/python3.11/dist-packages (from smart-open<8.0.0,>=5.2.1->weasel<0.5.0,>=0.1.0->spacy<3.8.0,>=3.7.2->en-core-web-sm==3.7.1) (1.17.0)\n",
            "Requirement already satisfied: mdurl~=0.1 in /usr/local/lib/python3.11/dist-packages (from markdown-it-py>=2.2.0->rich>=10.11.0->typer<1.0.0,>=0.3.0->spacy<3.8.0,>=3.7.2->en-core-web-sm==3.7.1) (0.1.2)\n",
            "\u001b[38;5;2m✔ Download and installation successful\u001b[0m\n",
            "You can now load the package via spacy.load('en_core_web_sm')\n",
            "\u001b[38;5;3m⚠ Restart to reload dependencies\u001b[0m\n",
            "If you are in a Jupyter or Colab notebook, you may need to restart Python in\n",
            "order to load all the package's dependencies. You can do this by selecting the\n",
            "'Restart kernel' or 'Restart runtime' option.\n"
          ]
        }
      ]
    },
    {
      "cell_type": "code",
      "source": [
        "import json\n",
        "import re\n",
        "import spacy\n",
        "import pickle\n",
        "import torch\n",
        "from transformers import BertTokenizer, BertForSequenceClassification, pipeline"
      ],
      "metadata": {
        "id": "e1B3RdtXExxv"
      },
      "execution_count": null,
      "outputs": []
    },
    {
      "cell_type": "code",
      "source": [
        "# Carga de modelo spaCy (idioma inglés)\n",
        "# Depende el idioma del texto cargar/lanzar el modelo correspondiente.\n",
        "try:\n",
        "    nlp = spacy.load(\"en_core_web_sm\")\n",
        "except OSError:\n",
        "    # Si no está instalado, mostrar un mensaje o manejar la excepción según tu caso\n",
        "    nlp = None"
      ],
      "metadata": {
        "id": "0Hg48GzicTJ9"
      },
      "execution_count": null,
      "outputs": []
    },
    {
      "cell_type": "code",
      "execution_count": null,
      "metadata": {
        "id": "OJO6CIkmEWsn"
      },
      "outputs": [],
      "source": [
        "def extract_metadata(email_data: dict) -> dict:\n",
        "    \"\"\"\n",
        "    Recibe un diccionario con la información del correo y\n",
        "    regresa otro diccionario con SENDER, RECIPIENT, DATE,\n",
        "    ATTACHMENTS y EMAIL_BODY.\n",
        "    \"\"\"\n",
        "    sender = email_data.get(\"sender\", \"\")\n",
        "    recipient = email_data.get(\"recipient\", [])\n",
        "    date = email_data.get(\"date\", \"\")\n",
        "    attachments = email_data.get(\"attachments\", [])\n",
        "    email_body = email_data.get(\"emailBody\", \"\")\n",
        "\n",
        "    return {\n",
        "        \"SENDER\": sender,\n",
        "        \"RECIPIENT\": recipient,\n",
        "        \"DATE\": date,\n",
        "        \"ATTACHMENTS\": attachments,\n",
        "        \"EMAIL_BODY\": email_body\n",
        "    }"
      ]
    },
    {
      "cell_type": "code",
      "source": [
        "email_json = {\n",
        "      \"_id\": \"674f7b32018fa9697d6efd53\",\n",
        "      \"emailID\": \"AAMkAGQyMmM3MDQ0LWY5NjYtNDc5MC1hNjJlLTVlZGU5MGFmYzdlNABGAAAAAACtCn7TEPB5Tq88sJveFzQGBwCe2-NKKTJQR4kZovzjmBc-AAAAAAEMAACe2-NKKTJQR4kZovzjmBc-AANfj-MFAAA=\",\n",
        "      \"conversationID\": \"AAQkAGQyMmM3MDQ0LWY5NjYtNDc5MC1hNjJlLTVlZGU5MGFmYzdlNAAQAC4HZ07gxE9HhuL8jO-8YW0=\",\n",
        "      \"subject\": \"COCOMARCO1222DOCS.pdf\",\n",
        "      \"sender\": \"joe <joe@blockchainexpedite.com>\",\n",
        "      \"recipient\": [\n",
        "        \"emanifest@customscity.com\"\n",
        "      ],\n",
        "      \"cc\": [],\n",
        "      \"date\": \"2022-12-01T14:19:03\",\n",
        "      \"attachments\": [\n",
        "        {\n",
        "          \"attachment_name\": \"COCOMARCO1222DOCS.pdf\",\n",
        "          \"attachment_url\": \"\"\n",
        "        }\n",
        "      ],\n",
        "      \"emailBody\": \"Good morning team please help me out creating ace manifest for this shipment. Customer cleared this load using PAPS  BEIO0022805, DRIVER CROSSING QUEENSTON/LEWISTON NY BRIDGEUNIT 424DRIVER ROBERT PANDI3 PCS1/12/2022 @11.00LOAD ALREADY CLEARED PLEASE SEE PAPERWORK.THANK YOUMC123203 BLOCKCHAINEXPEDITE Have a great day!!Joe Body   7163614662\",\n",
        "      \"cleanBody\": \"Good morning team please help me out creating ace manifest for this shipment. Customer cleared this load using PAPS BEIO0022805, DRIVER CROSSING QUEENSTON/LEWISTON NY BRIDGE UNIT 424 DRIVER ROBERT PANDI 3 PCS 1/12/2022 @11.00 LOAD ALREADY CLEARED PLEASE SEE PAPERWORK. THANK YOU MC123203 BLOCKCHAINEXPEDITE Have a great day!! Joe Body 7163614662\",\n",
        "      \"emailHTML\": \"<html><head>\\r\\n<meta http-equiv=\\\"Content-Type\\\" content=\\\"text/html; charset=utf-8\\\"></head><body dir=\\\"auto\\\"><div dir=\\\"auto\\\">Good morning team please help me out creating ace manifest for this shipment. Customer cleared this load using PAPS&nbsp; BEIO0022805,&nbsp;</div><div dir=\\\"auto\\\"><br></div><div dir=\\\"auto\\\">DRIVER CROSSING QUEENSTON/LEWISTON NY BRIDGE</div><div dir=\\\"auto\\\"><br></div><div dir=\\\"auto\\\">UNIT 424</div><div dir=\\\"auto\\\"><br></div><div dir=\\\"auto\\\">DRIVER ROBERT PANDI</div><div dir=\\\"auto\\\"><br></div><div dir=\\\"auto\\\">3 PCS</div><div dir=\\\"auto\\\"><br></div><div dir=\\\"auto\\\">1/12/2022 @11.00</div><div dir=\\\"auto\\\"><br></div><div dir=\\\"auto\\\">LOAD ALREADY CLEARED PLEASE SEE PAPERWORK.</div><div dir=\\\"auto\\\"><br></div><div dir=\\\"auto\\\">THANK YOU</div><div dir=\\\"auto\\\"><br></div><div dir=\\\"auto\\\">MC123203 BLOCKCHAINEXPEDITE&nbsp;</div><div dir=\\\"auto\\\"><br></div><div dir=\\\"auto\\\"><br></div><div dir=\\\"auto\\\"><br></div><div id=\\\"composer_signature\\\" dir=\\\"auto\\\">Have a great day!!<div><br></div><div>Joe Body&nbsp; &nbsp;7163614662</div></div><div dir=\\\"auto\\\"><br></div></body></html>\"\n",
        "    }"
      ],
      "metadata": {
        "id": "LZri7ouYIqP-"
      },
      "execution_count": null,
      "outputs": []
    },
    {
      "cell_type": "code",
      "source": [
        "# Extraer los metadatos:\n",
        "metadata = extract_metadata(email_json)\n",
        "\n",
        "# Imprimir o utilizar los metadatos como desees:\n",
        "print(\"SENDER: \", metadata[\"SENDER\"])\n",
        "print(\"RECIPIENT: \", metadata[\"RECIPIENT\"])\n",
        "print(\"DATE: \", metadata[\"DATE\"])\n",
        "print(\"ATTACHMENTS: \", metadata[\"ATTACHMENTS\"])\n",
        "print(\"EMAIL_BODY: \", metadata[\"EMAIL_BODY\"])"
      ],
      "metadata": {
        "colab": {
          "base_uri": "https://localhost:8080/"
        },
        "id": "vUnIqqspJbcb",
        "outputId": "bd13d274-3b39-48de-93d9-e36ddfbff305"
      },
      "execution_count": null,
      "outputs": [
        {
          "output_type": "stream",
          "name": "stdout",
          "text": [
            "SENDER:  joe <joe@blockchainexpedite.com>\n",
            "RECIPIENT:  ['emanifest@customscity.com']\n",
            "DATE:  2022-12-01T14:19:03\n",
            "ATTACHMENTS:  [{'attachment_name': 'COCOMARCO1222DOCS.pdf', 'attachment_url': ''}]\n",
            "EMAIL_BODY:  Good morning team please help me out creating ace manifest for this shipment. Customer cleared this load using PAPS  BEIO0022805, DRIVER CROSSING QUEENSTON/LEWISTON NY BRIDGEUNIT 424DRIVER ROBERT PANDI3 PCS1/12/2022 @11.00LOAD ALREADY CLEARED PLEASE SEE PAPERWORK.THANK YOUMC123203 BLOCKCHAINEXPEDITE Have a great day!!Joe Body   7163614662\n"
          ]
        }
      ]
    },
    {
      "cell_type": "code",
      "source": [
        "with open(\"/content/testP.json\", \"r\", encoding=\"utf-8\") as f:\n",
        "    email_json = json.load(f)\n",
        "\n",
        "# Extraer los metadatos:\n",
        "metadata = extract_metadata(email_json)\n",
        "\n",
        "# Imprimir o utilizar los metadatos como desees:\n",
        "print(\"SENDER: \", metadata[\"SENDER\"])\n",
        "print(\"RECIPIENT: \", metadata[\"RECIPIENT\"])\n",
        "print(\"DATE: \", metadata[\"DATE\"])\n",
        "print(\"ATTACHMENTS: \", metadata[\"ATTACHMENTS\"])\n",
        "print(\"EMAIL_BODY: \", metadata[\"EMAIL_BODY\"])"
      ],
      "metadata": {
        "colab": {
          "base_uri": "https://localhost:8080/"
        },
        "id": "zoQzt6JcOt2T",
        "outputId": "1ec51472-3dfd-412f-c693-9a54cbed284d"
      },
      "execution_count": null,
      "outputs": [
        {
          "output_type": "stream",
          "name": "stdout",
          "text": [
            "SENDER:  Customer Support <service@customscity.com>\n",
            "RECIPIENT:  ['service@customscity.com']\n",
            "DATE:  Wednesday, November 13 2024 01:47 PM\n",
            "ATTACHMENTS:  ['CMDO240411132024.pdf']\n",
            "EMAIL_BODY:  Good Afternoon!Attached is the cover sheet!Regards!Customer  Support Specialist1-888-724-8914 x1 | +1-289-732-2010service@customscity.comwww.customscity.com1315 Pickering Pkwy, Suite 300, Pickering, Ontario, L1V 7G5Schedule a Meeting Here---- on Wed, 13 Nov 2024 08:20:01 -0700 \"Customer Support\"<service@customscity.com> wrote ---- Good Morning!We received your ACE request. Once we have an update we will let you know.Regards!Customer  Support Specialist1-888-724-8914 x1 | +1-289-732-2010service@customscity.comwww.customscity.com1315 Pickering Pkwy, Suite 300, Pickering, Ontario, L1V 7G5Schedule a Meeting Here---- on Wed, 13 Nov 2024 08:18:02 -0700 \"samantha_mannone\"<samantha_mannone@canadacartage.com> wrote ---- Customs City Global Solutions Inc.ACE eManifest Online Request Form\n"
          ]
        }
      ]
    },
    {
      "cell_type": "markdown",
      "source": [
        "## Obtiene Emisor y Receptor del primer correo\n",
        "Recorre cada línea del 'primer_correo' y:\n",
        "- Busca la cadena 'From:' -> extrae todo lo que viene a continuación, hasta toparse con una secuencia del tipo '***:' (letras + ':').\n",
        "- Busca la cadena 'To:' -> extrae de la misma manera.\n",
        "Devuelve (emisor, receptor).\n",
        "  "
      ],
      "metadata": {
        "id": "Zjl2CFIeBVdp"
      }
    },
    {
      "cell_type": "code",
      "source": [
        "def extraer_emisor_y_receptor(primer_correo: str):\n",
        "\n",
        "    emisor = None\n",
        "    receptor = None\n",
        "\n",
        "    # Patrón para identificar \"***:\" => una o más letras (A-Za-z) seguidas de ':'.\n",
        "    # Se permite opcionalmente espacios antes de ':' con \\s* si lo requieres.\n",
        "    pattern_next = r'[A-Za-z]+\\s*:'\n",
        "\n",
        "    for linea in primer_correo.splitlines():\n",
        "        # Mostramos para depurar\n",
        "        #print(linea)\n",
        "\n",
        "        # Hacemos una versión minúscula para buscar 'from:' / 'to:' sin problemas de mayúsculas\n",
        "        linea_lower = linea.lower()\n",
        "\n",
        "        # 1) Buscar \"From:\"\n",
        "        idx_from = linea_lower.find(\"from:\")\n",
        "        if idx_from != -1:\n",
        "            # Extraemos desde el final de \"From:\"\n",
        "            # len(\"from:\") = 5\n",
        "            sub_from = linea[idx_from + 5:]\n",
        "            # Buscamos si existe una siguiente secuencia \"***:\"\n",
        "            match = re.search(pattern_next, sub_from)\n",
        "            if match:\n",
        "                # Cortamos antes de que empiece la secuencia \"xxx:\"\n",
        "                sub_from = sub_from[:match.start()]\n",
        "            emisor = sub_from.strip()\n",
        "\n",
        "        # 2) Buscar \"To:\"\n",
        "        idx_to = linea_lower.find(\"to:\")\n",
        "        if idx_to != -1:\n",
        "            # Extraemos desde el final de \"To:\"\n",
        "            # len(\"to:\") = 3\n",
        "            sub_to = linea[idx_to + 3:]\n",
        "            # Buscamos la siguiente secuencia \"***:\"\n",
        "            match = re.search(pattern_next, sub_to)\n",
        "            if match:\n",
        "                sub_to = sub_to[:match.start()]\n",
        "            receptor = sub_to.strip()\n",
        "\n",
        "    return emisor, receptor"
      ],
      "metadata": {
        "id": "P6eMg4TSAR9r"
      },
      "execution_count": null,
      "outputs": []
    },
    {
      "cell_type": "markdown",
      "source": [
        "##Segundo opción si no lo ecnuentra en el primero formato\n",
        "\n",
        "Busca en la línea el patrón '-0#00' (ej. -0700) y corta hasta\n",
        "encontrar 'wrote', devolviendo el texto intermedio (sin incluir\n",
        "ni el patrón '-0#00' ni la palabra 'wrote').\n",
        "\n",
        "Ejemplo:\n",
        "---- On Wed, 13 Nov 2024 08:20:01 -0700 \"Customer Support\" <service@customscity.com> wrote ----\n",
        "                      ^^^^^\n",
        "                  (este -0700 es el patrón buscado)\n",
        "                                          ^^^^^\n",
        "                             (y 'wrote' indica dónde cortar)\n",
        "    \n",
        "Devuelve:\n",
        "El texto que hay entre el final de '-0700' y\n",
        "el inicio de 'wrote', limpio de espacios.\n",
        "En este ejemplo, retornaría: \"Customer Support <service@customscity.com>\"\n",
        "\n",
        "Si no se encuentran ambos patrones, regresa None.\n",
        "  "
      ],
      "metadata": {
        "id": "-vJHIG6yE09I"
      }
    },
    {
      "cell_type": "code",
      "source": [
        "def obtener_emisor(linea: str) -> str:\n",
        "\n",
        "    # 1) Hallar la posición del patrón '-0#00' (por ejemplo, '-0700', '-0300', etc.)\n",
        "    #    Ajusta si necesitas permitir otras variantes (p. ej. -0500, -0400, etc.)\n",
        "    patron_offset = r'-0\\d00'\n",
        "    match_offset = re.search(patron_offset, linea)\n",
        "    if not match_offset:\n",
        "        # No se encontró el patrón '-0#00'\n",
        "        return None\n",
        "\n",
        "    # La parte que nos interesa comienza justo DESPUÉS del match '-0#00'\n",
        "    start_index = match_offset.end()\n",
        "\n",
        "    # 2) Hallar la palabra 'wrote'\n",
        "    match_wrote = re.search(r'wrote', linea, re.IGNORECASE)\n",
        "    if not match_wrote:\n",
        "        # No se encontró 'wrote'\n",
        "        return None\n",
        "\n",
        "    # Cortamos justo ANTES de 'wrote'\n",
        "    end_index = match_wrote.start()\n",
        "\n",
        "    # 3) Extraemos el texto entre ambos índices\n",
        "    emisor = linea[start_index:end_index]\n",
        "\n",
        "    # 4) Limpiamos espacios al inicio y final\n",
        "    emisor = emisor.strip()\n",
        "\n",
        "    # Si el resultado quedó vacío, puedes decidir si devuelves None o la cadena vacía\n",
        "    if not emisor:\n",
        "        return None\n",
        "\n",
        "    return emisor"
      ],
      "metadata": {
        "id": "zfIkYbteEx54"
      },
      "execution_count": null,
      "outputs": []
    },
    {
      "cell_type": "markdown",
      "source": [
        "##Extrae los metadatos de un JSON que coniene hilo de correos\n",
        "\n",
        "Separa el 'email_body' en una lista de correos individuales basándose en delimitadores típicos y regresa un diccionario con:\n",
        "\n",
        "- 'ultimo_correo': el texto completo del último correo\n",
        "- 'emisor_primer_correo': si el primer y el último correo son distintos, extrae 'From'\n",
        "- 'receptor_primer_correo': si el primer y el último correo son distintos, extrae 'To'\n",
        "\n",
        "En caso de que no haya correos o el primero y el último sean el mismo,\n",
        "'emisor_primer_correo' y 'receptor_primer_correo' serán None."
      ],
      "metadata": {
        "id": "ECI6xAciMxRr"
      }
    },
    {
      "cell_type": "code",
      "source": [
        "def separar_y_extraer(email_body: str):\n",
        "\n",
        "    # Patrón que busca líneas típicas de \"Original message\" o \"---- On ... wrote ----\"\n",
        "    patron_delimitador = r'(?:-------- Original message --------|---- On|---- on)'\n",
        "\n",
        "    # Separamos el cuerpo del correo en fragmentos (posibles 'correos' anteriores)\n",
        "    correos = re.split(patron_delimitador, email_body)\n",
        "\n",
        "    # Limpiamos espacios en blanco y descartamos cadenas vacías\n",
        "    correos = [c.strip() for c in correos if c.strip()]\n",
        "\n",
        "    #print(correos)\n",
        "    #print(len(correos))\n",
        "\n",
        "    # Si no hay correos, regresamos todo en None\n",
        "    if not correos:\n",
        "        return {\n",
        "            \"ultimo_correo\": None,\n",
        "            \"emisor_primer_correo\": None,\n",
        "            \"receptor_primer_correo\": None\n",
        "        }\n",
        "\n",
        "    # Identificamos el primer y el último\n",
        "    primer_correo = correos[-1]\n",
        "    ultimo_correo = correos[0]\n",
        "\n",
        "    # Por defecto, emisor y receptor a None\n",
        "    emisor = None\n",
        "    receptor = None\n",
        "\n",
        "    # Verificamos si el primer y el último son distintos\n",
        "    if primer_correo != ultimo_correo:\n",
        "        # Intentamos extraer \"From:\" y \"To:\" del primer correo\n",
        "        emisor, receptor = extraer_emisor_y_receptor(primer_correo)\n",
        "        if emisor is None:\n",
        "          emisor = obtener_emisor(primer_correo)\n",
        "\n",
        "\n",
        "    # Regresamos el diccionario con la información solicitada\n",
        "    return {\n",
        "        \"ultimo_correo\": ultimo_correo,\n",
        "        \"emisor_primer_correo\": emisor,\n",
        "        \"receptor_primer_correo\": receptor\n",
        "    }"
      ],
      "metadata": {
        "id": "ZIK56NO3N_4Y"
      },
      "execution_count": null,
      "outputs": []
    },
    {
      "cell_type": "code",
      "source": [
        "\n",
        "resultado = separar_y_extraer(metadata[\"EMAIL_BODY\"])\n",
        "print(\"Último correo:\\n\", resultado[\"ultimo_correo\"])\n",
        "print(\"Emisor del primer correo:\", resultado[\"emisor_primer_correo\"])\n",
        "print(\"Receptor del primer correo:\", resultado[\"receptor_primer_correo\"])"
      ],
      "metadata": {
        "colab": {
          "base_uri": "https://localhost:8080/"
        },
        "id": "0CqZinZ_PB7Q",
        "outputId": "a1f9f5e2-b6f7-41df-cf54-17d6da187460"
      },
      "execution_count": null,
      "outputs": [
        {
          "output_type": "stream",
          "name": "stdout",
          "text": [
            "Último correo:\n",
            " Good morning team please help me out creating ace manifest for this shipment. Customer cleared this load using PAPS  BEIO0022805, DRIVER CROSSING QUEENSTON/LEWISTON NY BRIDGEUNIT 424DRIVER ROBERT PANDI3 PCS1/12/2022 @11.00LOAD ALREADY CLEARED PLEASE SEE PAPERWORK.THANK YOUMC123203 BLOCKCHAINEXPEDITE Have a great day!!Joe Body   7163614662\n",
            "Emisor del primer correo: None\n",
            "Receptor del primer correo: None\n"
          ]
        }
      ]
    },
    {
      "cell_type": "code",
      "source": [
        "EMAIL_BODY =   \"\"\"\n",
        "Thank youMc123203 Blockchainexpedite\\u00a0Have a great day!!Joe Body\\u00a0 \\u00a07163614662-------- Original message --------From: Customer Support <service@customscity.com> Date: 9/29/22 4:41 PM (GMT-05:00) To: service@customscity.com Cc: blockchain expedite inc <bids@blockchainexpedite.com>, emanifest@customscity.com, 'joe' <joe@blockchainexpedite.com> Subject: Re:[## 97815 ##] ACE Manifest request form for PAPS: BEIO 0022385 Good afternoon.Attached its the CoverSheet.Best regards!Customer\\u00a0 Support Specialist1-888-724-8914 x1\\u00a0|\\u00a0+1-289-732-2010service@customscity.comwww.customscity.com1315 Pickering Pkwy, Suite 300, Pickering, Ontario, L1V 7G5Schedule a Meeting Here---- On \\u00a0Thu, 29 Sep 2022 14:29:59 -0600\\u00a0\\\"Customer Support\\\"<service@customscity.com>\\u00a0 wrote ---- Good afternoon.Customs City has received your request. We are working on it.Best regards!Customer\\u00a0 Support Specialist1-888-724-8914 x1\\u00a0|\\u00a0+1-289-732-2010service@customscity.comwww.customscity.com1315 Pickering Pkwy, Suite 300, Pickering, Ontario, L1V 7G5Schedule a Meeting Here---- On \\u00a0Thu, 29 Sep 2022 05:42:40 -0600\\u00a0\\\"BLOCKCHAIN EXPEDITE INC \\\"<bids@blockchainexpedite.com>\\u00a0 wrote ---- Hello,\\u00a0Please find attached ACE Manifest request form for PAPS: BEIO 0022385\\u00a0crossing. \\u00a0PORT: ___Queenston \\u2013 Lewiston NY_____ \\u00a0DATE: \\u00a0___September 29, 2022_____\\u00a0TIME:\\u00a0 ___18:00______ \\u00a0Send ACE Manifest to :\\u00a0 bids@blockchainexpedite.com ;\\u00a0 richard@blockchainexpedite.com; joe <joe@blockchainexpedite.com>\\u00a0Thank you\\u00a0\\u00a0Thank you\\u00a0Richard Politewiczrichard@blockchainexpedite.com\\u00a0Joe Bodyjoe@blockchainexpedite.com\\u00a0Tel:289-230-2178, Fax:\\u00a0 905-318-778422 Erminia Crt, Hamilton ON, L8W3K1MC#123203\\u00a0\\u00a0 DOT 3177098\\u00a0\\u00a0\\u00a0 EIN 98-1445995 \\u00a0\\u00a0www.blockchainexpedite.com\\u00a0\"\n",
        "\"\"\"\n",
        "\n",
        "resultado = separar_y_extraer(EMAIL_BODY)\n",
        "print(\"Último correo:\\n\", resultado[\"ultimo_correo\"])\n",
        "print(\"Emisor del primer correo:\", resultado[\"emisor_primer_correo\"])\n",
        "print(\"Receptor del primer correo:\", resultado[\"receptor_primer_correo\"])"
      ],
      "metadata": {
        "colab": {
          "base_uri": "https://localhost:8080/"
        },
        "id": "2WFCpXijSTSt",
        "outputId": "38c6fb1f-b422-4993-eb04-44e08be9d60b"
      },
      "execution_count": null,
      "outputs": [
        {
          "output_type": "stream",
          "name": "stdout",
          "text": [
            "Thu, 29 Sep 2022 05:42:40 -0600 \"BLOCKCHAIN EXPEDITE INC \"<bids@blockchainexpedite.com>  wrote ---- Hello, Please find attached ACE Manifest request form for PAPS: BEIO 0022385 crossing.  PORT: ___Queenston – Lewiston NY_____  DATE:  ___September 29, 2022_____ TIME:  ___18:00______  Send ACE Manifest to :  bids@blockchainexpedite.com ;  richard@blockchainexpedite.com; joe <joe@blockchainexpedite.com> Thank you  Thank you Richard Politewiczrichard@blockchainexpedite.com Joe Bodyjoe@blockchainexpedite.com Tel:289-230-2178, Fax:  905-318-778422 Erminia Crt, Hamilton ON, L8W3K1MC#123203   DOT 3177098    EIN 98-1445995   www.blockchainexpedite.com \"\n",
            "Último correo:\n",
            " Thank youMc123203 Blockchainexpedite Have a great day!!Joe Body   7163614662\n",
            "Emisor del primer correo: \"BLOCKCHAIN EXPEDITE INC \"<bids@blockchainexpedite.com>\n",
            "Receptor del primer correo: None\n"
          ]
        }
      ]
    },
    {
      "cell_type": "code",
      "source": [
        "EMAIL_BODY  = \"\"\"\n",
        "Thank youMc123203 Blockchainexpedite\\u00a0Have a great day!!Joe Body\\u00a0 \\u00a07163614662-------- Original message --------From: Customer Support <service@customscity.com> Date: 5/1/23 5:47 PM (GMT-05:00) To: bids <bids@blockchainexpedite.com> Cc: 'joe' <joe@blockchainexpedite.com>, emanifest@customscity.com Subject: Re:[## 114636 ##] BEIO0023483.pdf Good afternoon.\\u00a0Attached is your coversheet.\\u00a0RegardsCustomer\\u00a0 Support Specialist1-888-724-8914 x1 | +1 289-732-2010service@customscity.comwww.customscity.com1315 Pickering Pkwy, Suite 300, Pickering, Ontario, L1V 7G5Schedule a Meeting Here---- On \\u00a0Mon, 1 May 2023 15:30:32 -0600\\u00a0\\\"bids\\\"<bids@blockchainexpedite.com>\\u00a0 wrote ---- Hello team please send me the ace manifest again, somehow it dissapeared from the email .Thank youMc123203 Blockchainexpedite\\u00a0Have a great day!!Joe Body\\u00a0 \\u00a07163614662-------- Original message --------From: bids <bids@blockchainexpedite.com> Date: 5/1/23 3:25 PM (GMT-05:00) To: service@customscity.com Cc: emanifest@customscity.com Subject: Re:[## 114636 ##] BEIO0023483.pdf Thank youHave a great day!!Joe Body\\u00a0 \\u00a07163614662-------- Original message --------From: Customer Support <service@customscity.com> Date: 5/1/23 2:12 PM (GMT-05:00) To: service@customscity.com Cc: bids <bids@blockchainexpedite.com>, emanifest@customscity.com Subject: Re:[## 114636 ##] BEIO0023483.pdf Sorry Joe\n",
        "\"\"\"\n",
        "resultado = separar_y_extraer(EMAIL_BODY)\n",
        "print(\"Último correo:\\n\", resultado[\"ultimo_correo\"])\n",
        "print(\"Emisor del primer correo:\", resultado[\"emisor_primer_correo\"])\n",
        "print(\"Receptor del primer correo:\", resultado[\"receptor_primer_correo\"])\n"
      ],
      "metadata": {
        "colab": {
          "base_uri": "https://localhost:8080/"
        },
        "id": "6QL2APsWVz-e",
        "outputId": "e391c3ee-325a-4959-a480-3d226c5528ca"
      },
      "execution_count": null,
      "outputs": [
        {
          "output_type": "stream",
          "name": "stdout",
          "text": [
            "Último correo:\n",
            " Thank youMc123203 Blockchainexpedite Have a great day!!Joe Body   7163614662\n",
            "Emisor del primer correo: Customer Support <service@customscity.com>\n",
            "Receptor del primer correo: service@customscity.com\n"
          ]
        }
      ]
    },
    {
      "cell_type": "markdown",
      "source": [
        "##Limpia el mensaje\n",
        "Elimina nombres, número, firmas\n",
        "\n",
        "Limpia el texto según un enfoque mixto:\n",
        "1. Eliminar patrones concretos (emails, teléfonos, urls).\n",
        "2. Eliminar o reemplazar líneas típicas de firma o frases comunes.\n",
        "3. (Opcional) Aplicar NER para remover entidades personales (PERSON), organización (ORG), lugares (GPE).\n",
        "4. Separar correctamente signos de puntuación y normalizar espacios.\n",
        "\n",
        "Retorna el texto limpio."
      ],
      "metadata": {
        "id": "ER3gtjzJcnrr"
      }
    },
    {
      "cell_type": "code",
      "source": [
        "def clean_text(text: str) -> str:\n",
        "\n",
        "    # -----------------------------------\n",
        "    # 4) Normalizar espacios en blanco\n",
        "    # -----------------------------------\n",
        "    # a) Reemplazar saltos de línea por espacios (si prefieres)\n",
        "    text = text.replace('\\n', ' ')\n",
        "\n",
        "    # b) Reemplazar múltiples espacios consecutivos por uno solo\n",
        "    text = re.sub(r'\\s{2,}', ' ', text)\n",
        "\n",
        "    # Inserta un espacio antes de una letra mayúscula únicamente cuando vaya precedida por una letra minúscula\n",
        "    text = re.sub(r'([a-z])([A-Z])', r'\\1 \\2', text)\n",
        "\n",
        "    # -----------------------------------\n",
        "    # 5) Elimina todo des pues de los patrones de la lista\n",
        "    # -----------------------------------\n",
        "\n",
        "    firmas_comunes = [\n",
        "        #r\"Schedule a Meeting Here\",\n",
        "        #r\"Customer\\s+Support\\s+Specialist\",\n",
        "        r\"Have a great day!!\",\n",
        "        r\"Have a great day!\",\n",
        "        r\"Customer Support Specialist\",\n",
        "    ]\n",
        "\n",
        "    # Construimos el patrón con alternación. Usamos dos grupos:\n",
        "    #  1) La firma (que queremos conservar)\n",
        "    #  2) Cualquier cosa que venga después (que queremos eliminar)\n",
        "    #\n",
        "    #  ([\\s\\S]*) permite capturar todo tipo de caracteres (incluyendo saltos de línea)\n",
        "    #  con re.IGNORECASE / re.DOTALL (o su combinación).\n",
        "    pattern = r'((?:' + '|'.join(firmas_comunes) + r'))([\\s\\S]*)'\n",
        "\n",
        "    # Reemplazamos todo match por el grupo 1 => conservamos la firma,\n",
        "    # descartamos lo que viene después (grupo 2).\n",
        "    text = re.sub(pattern, r'\\1', text, flags=re.IGNORECASE)\n",
        "\n",
        "    # -----------------------------------\n",
        "    # 1) Eliminación de patrones concretos con regex\n",
        "    # -----------------------------------\n",
        "    # a) Emails\n",
        "    text = re.sub(r'[A-Za-z0-9._%+\\-]+@[A-Za-z0-9.\\-]+\\.[A-Za-z]{2,}', '', text)\n",
        "\n",
        "    # b) URLs (http, https, etc.)\n",
        "    text = re.sub(r'https?://\\S+', '', text)\n",
        "\n",
        "    # c) Teléfonos (patrón aproximado: secuencias de dígitos con guiones o paréntesis)\n",
        "    #    Ajusta según tus formatos típicos.\n",
        "    text = re.sub(r'\\+?\\d[\\d\\s\\-\\(\\)]{5,}\\d', '', text)\n",
        "\n",
        "    # d) Números solitarios o con un prefijo alfanumérico (e.g. MC123203)\n",
        "    #    Si deseas eliminar TODO número, podrías usar r'\\b\\w*\\d+\\w*\\b'\n",
        "    #    Ajusta a tu caso; aquí un ejemplo que busca algo con dígitos y elimina.\n",
        "    text = re.sub(r'\\b\\w*\\d+\\w*\\b', '', text)\n",
        "\n",
        "    # e) Remover (o reemplazar) direcciones físicas simples\n",
        "    #    Esto es complejo de hacer genéricamente, pero como ejemplo\n",
        "    #    eliminaremos secuencias con dígitos y calle, etc.\n",
        "    #    Ajusta según tu necesidad.\n",
        "    pattern_address = r'\\d{1,5}\\s\\w+(?:\\s\\w+){0,4},?\\s*\\w*,?\\s*\\w*\\s*\\d*\\s*\\w*'\n",
        "    text = re.sub(pattern_address, '', text)\n",
        "\n",
        "    # f) Frases de firma comunes (ejemplo)\n",
        "    #    Ajusta según tu lista de firmas típicas.\n",
        "    #    Buscaremos: \"Regards!\", \"Have a great day!!\", \"Schedule a Meeting Here\", etc.\n",
        "    firmas_comunes = [\n",
        "        #r'Regards!?',\n",
        "        #r'Have a great day!?!?',\n",
        "        r'Schedule a Meeting Here',\n",
        "        r'Customer\\s+Support\\s+Specialist',\n",
        "        r'Blockchainexpedite'\n",
        "        #r'Best\\s+Regards!?',\n",
        "        #r'\\bThanks?\\b',\n",
        "    ]\n",
        "    for firma in firmas_comunes:\n",
        "        text = re.sub(firma, '', text, flags=re.IGNORECASE)\n",
        "\n",
        "    # -----------------------------------\n",
        "    # 2) Aplicar NER con spaCy (opcional)\n",
        "    # -----------------------------------\n",
        "    # Si no cargaste spaCy, omite esta parte.\n",
        "    if nlp:\n",
        "        doc = nlp(text)\n",
        "        # Vamos a eliminar PERSON, ORG, GPE (lugares).\n",
        "        # También podrías buscar otras etiquetas como 'FAC', 'LOC' si deseas.\n",
        "        ents_to_remove = ('PERSON', 'ORG', 'GPE', 'LOC')\n",
        "        new_text = []\n",
        "        last_idx = 0\n",
        "\n",
        "        for ent in doc.ents:\n",
        "            if ent.label_ in ents_to_remove:\n",
        "                # Agregar el texto anterior a la entidad\n",
        "                new_text.append(text[last_idx:ent.start_char])\n",
        "                # Saltar la entidad\n",
        "                last_idx = ent.end_char\n",
        "\n",
        "        # Agregar lo último que quede tras la última entidad\n",
        "        new_text.append(text[last_idx:])\n",
        "        text = \"\".join(new_text)\n",
        "\n",
        "    # -----------------------------------\n",
        "    # 3) Separar signos de puntuación unidos a las palabras\n",
        "    # -----------------------------------\n",
        "    # Insertar un espacio después de un signo de puntuación si va seguido de una letra sin espacio\n",
        "    # Por ejemplo: \"cover sheet!Regards!\" -> \"cover sheet! Regards!\"\n",
        "    text = re.sub(r'([!?.,;])(\\w)', r'\\1 \\2', text)\n",
        "\n",
        "    # -----------------------------------\n",
        "    # 4) Normalizar espacios en blanco\n",
        "    # -----------------------------------\n",
        "    # a) Reemplazar saltos de línea por espacios (si prefieres)\n",
        "    text = text.replace('\\n', ' ')\n",
        "\n",
        "    # b) Reemplazar múltiples espacios consecutivos por uno solo\n",
        "    text = re.sub(r'\\s{2,}', ' ', text)\n",
        "\n",
        "    # c) Quitar espacios al inicio y fin\n",
        "    text = text.strip()\n",
        "\n",
        "    return text"
      ],
      "metadata": {
        "id": "eeckFcwTcmj3"
      },
      "execution_count": null,
      "outputs": []
    },
    {
      "cell_type": "code",
      "source": [
        "caso1 = \"Thank youMc123203 Blockchainexpedite Have a great day!!Joe Body   7163614662\"\n",
        "print(\"Original:\", caso1)\n",
        "limpio1 = clean_text(caso1)\n",
        "print(\"Limpio  :\", limpio1)"
      ],
      "metadata": {
        "colab": {
          "base_uri": "https://localhost:8080/"
        },
        "id": "g9dVMYwOde_S",
        "outputId": "ae38fe53-8a55-416f-f20c-07f022dddcc2"
      },
      "execution_count": null,
      "outputs": [
        {
          "output_type": "stream",
          "name": "stdout",
          "text": [
            "Original: Thank youMc123203 Blockchainexpedite Have a great day!!Joe Body   7163614662\n",
            "Limpio  : Thank you Have a great day!!\n"
          ]
        }
      ]
    },
    {
      "cell_type": "code",
      "source": [
        "caso1 = resultado[\"ultimo_correo\"]\n",
        "print(\"Original:\", caso1)\n",
        "limpio1 = clean_text(caso1)\n",
        "print(\"Limpio  :\", limpio1)"
      ],
      "metadata": {
        "colab": {
          "base_uri": "https://localhost:8080/"
        },
        "id": "fua4Jy4Ji8rb",
        "outputId": "5854b193-7670-4e51-854d-2949a43d527d"
      },
      "execution_count": null,
      "outputs": [
        {
          "output_type": "stream",
          "name": "stdout",
          "text": [
            "Original: Good morning team please help me out creating ace manifest for this shipment. Customer cleared this load using PAPS  BEIO0022805, DRIVER CROSSING QUEENSTON/LEWISTON NY BRIDGEUNIT 424DRIVER ROBERT PANDI3 PCS1/12/2022 @11.00LOAD ALREADY CLEARED PLEASE SEE PAPERWORK.THANK YOUMC123203 BLOCKCHAINEXPEDITE Have a great day!!Joe Body   7163614662\n",
            "Limpio  : Good morning team please help me out creating ace manifest for this shipment. cleared this load using PAPS , DRIVER CROSSING / ROBERT // @. ALREADY CLEARED PLEASE SEE PAPERWORK. THANK Have a great day!!\n"
          ]
        }
      ]
    },
    {
      "cell_type": "code",
      "source": [
        "with open(\"/content/testP.json\", \"r\", encoding=\"utf-8\") as f:\n",
        "    email_json = json.load(f)"
      ],
      "metadata": {
        "id": "PJy70NXdLolB"
      },
      "execution_count": null,
      "outputs": []
    },
    {
      "cell_type": "code",
      "source": [
        "# Extraer los metadatos:\n",
        "metadata = extract_metadata(email_json)\n",
        "\n",
        "email_body = separar_y_extraer(metadata[\"EMAIL_BODY\"])\n",
        "\n",
        "limpio = clean_text(email_body[\"ultimo_correo\"])\n",
        "\n",
        "\n",
        "# Imprimir o utilizar los metadatos como desees:\n",
        "print(\"SENDER: \", metadata[\"SENDER\"])\n",
        "print(\"RECIPIENT: \", metadata[\"RECIPIENT\"])\n",
        "print(\"DATE: \", metadata[\"DATE\"])\n",
        "print(\"ATTACHMENTS: \", metadata[\"ATTACHMENTS\"])\n",
        "#print(\"EMAIL_BODY: \", metadata[\"EMAIL_BODY\"])\n",
        "print(\"Último correo:\", limpio)\n",
        "print(\"Emisor del primer correo:\", email_body[\"emisor_primer_correo\"])\n",
        "print(\"Receptor del primer correo:\", email_body[\"receptor_primer_correo\"])"
      ],
      "metadata": {
        "colab": {
          "base_uri": "https://localhost:8080/"
        },
        "id": "Dt-ZjxjXku5i",
        "outputId": "3bcbae5c-41b8-4015-e5a3-97cb05957bf0"
      },
      "execution_count": null,
      "outputs": [
        {
          "output_type": "stream",
          "name": "stdout",
          "text": [
            "SENDER:  joe <joe@blockchainexpedite.com>\n",
            "RECIPIENT:  ['emanifest@customscity.com']\n",
            "DATE:  2022-12-01T14:19:03\n",
            "ATTACHMENTS:  [{'attachment_name': 'COCOMARCO1222DOCS.pdf', 'attachment_url': ''}]\n",
            "Último correo: Good morning team please help me out creating ace manifest for this shipment. cleared this load using PAPS , DRIVER CROSSING / ROBERT // @. ALREADY CLEARED PLEASE SEE PAPERWORK. THANK Have a great day!!\n",
            "Emisor del primer correo: None\n",
            "Receptor del primer correo: None\n"
          ]
        }
      ]
    },
    {
      "cell_type": "markdown",
      "source": [
        "##Modelo de Predicción"
      ],
      "metadata": {
        "id": "cljd-3XxEJTA"
      }
    },
    {
      "cell_type": "code",
      "source": [
        "def predict_text_class(nuevo_texto: str) -> str:\n",
        "    \"\"\"\n",
        "    Carga un modelo BERT multilingüe (y su tokenizer) entrenado previamente,\n",
        "    junto con un LabelEncoder. Realiza la clasificación del texto dado\n",
        "    y retorna la etiqueta más probable.\n",
        "    \"\"\"\n",
        "    # Rutas a los recursos guardados (ajusta según tu entorno)\n",
        "    model_path = \"/content/drive/MyDrive/ABSTRACT/m1/mbert_multilingual_model/final_model\" #ruta de la carpeta final_model (con el modelo y tokenizer)\n",
        "    label_encoder_path = \"/content/label_encoder.pkl\" #ruta del label_encoder\n",
        "\n",
        "    # 1. Cargar modelo y tokenizer\n",
        "    model = BertForSequenceClassification.from_pretrained(model_path)\n",
        "    tokenizer = BertTokenizer.from_pretrained(model_path)\n",
        "\n",
        "    # 2. Cargar label encoder\n",
        "    with open(label_encoder_path, \"rb\") as f:\n",
        "        label_encoder = pickle.load(f)\n",
        "\n",
        "    # 3. Crear pipeline de inferencia\n",
        "    inference_pipeline = pipeline(\n",
        "        \"text-classification\",\n",
        "        model=model,\n",
        "        tokenizer=tokenizer,\n",
        "        return_all_scores=True\n",
        "    )\n",
        "\n",
        "    # 4. Realizar inferencia\n",
        "    predicciones = inference_pipeline(nuevo_texto)\n",
        "    # 'predicciones' es una lista con un único elemento (para 1 texto),\n",
        "    # que contiene un dict por cada clase: [{'label': 'LABEL_0', 'score': ...}, ...]\n",
        "\n",
        "    # 5. Ordenar las predicciones según el 'score'\n",
        "    sorted_preds = sorted(predicciones[0], key=lambda x: x['score'], reverse=True)\n",
        "\n",
        "    # 6. Tomar la predicción con mayor score (posición 0)\n",
        "    top_pred = sorted_preds[0]\n",
        "    # 'label' suele ser \"LABEL_i\", donde i es el índice de la clase\n",
        "    numeric_class = int(top_pred['label'].split('_')[-1])\n",
        "\n",
        "    # 7. Recuperar la etiqueta original usando el LabelEncoder\n",
        "    class_name = label_encoder.inverse_transform([numeric_class])[0]\n",
        "\n",
        "    return class_name\n"
      ],
      "metadata": {
        "id": "dfikK0msEPMe"
      },
      "execution_count": null,
      "outputs": []
    },
    {
      "cell_type": "code",
      "source": [
        "texto_ejemplo = limpio\n",
        "print(\"Texto de ejemplo:\", texto_ejemplo)\n",
        "clase_predicha = predict_text_class(texto_ejemplo)\n",
        "print(f\"Texto: {texto_ejemplo}\")\n",
        "print(f\"Clase más probable: {clase_predicha}\")"
      ],
      "metadata": {
        "colab": {
          "base_uri": "https://localhost:8080/"
        },
        "id": "zsBHKKe4LTuG",
        "outputId": "377f3323-c25c-4870-f009-e5394e1e2cae"
      },
      "execution_count": null,
      "outputs": [
        {
          "output_type": "stream",
          "name": "stdout",
          "text": [
            "Texto de ejemplo: Good morning team please help me out creating ace manifest for this shipment. cleared this load using PAPS , DRIVER CROSSING / ROBERT // @. ALREADY CLEARED PLEASE SEE PAPERWORK. THANK Have a great day!!\n"
          ]
        },
        {
          "output_type": "stream",
          "name": "stderr",
          "text": [
            "Device set to use cpu\n",
            "/usr/local/lib/python3.11/dist-packages/transformers/pipelines/text_classification.py:106: UserWarning: `return_all_scores` is now deprecated,  if want a similar functionality use `top_k=None` instead of `return_all_scores=True` or `top_k=1` instead of `return_all_scores=False`.\n",
            "  warnings.warn(\n"
          ]
        },
        {
          "output_type": "stream",
          "name": "stdout",
          "text": [
            "Texto: Good morning team please help me out creating ace manifest for this shipment. cleared this load using PAPS , DRIVER CROSSING / ROBERT // @. ALREADY CLEARED PLEASE SEE PAPERWORK. THANK Have a great day!!\n",
            "Clase más probable: Ask for a document\n"
          ]
        }
      ]
    },
    {
      "cell_type": "markdown",
      "source": [
        "## Función que genera el mensaje\n",
        "\n",
        "Retorna dos cadenas (mensaje, estado) para cada frase específica.\n",
        "Si 'phrase' no coincide con ninguna de las 7 frases, devuelve 'No message'.\n",
        "\n"
      ],
      "metadata": {
        "id": "Rop-qRoKU2GH"
      }
    },
    {
      "cell_type": "code",
      "source": [
        "def get_message_and_status(phrase: str):\n",
        "\n",
        "    # Diccionario que mapea cada frase a su par (mensaje, estado)\n",
        "    phrases_map = {\n",
        "        \"Document attached\": (\n",
        "            \"Sent a required document for the process of the request.\",\n",
        "            \"In progress\"\n",
        "        ),\n",
        "        \"Ask for a document\": (\n",
        "            \"Requested a required document to continue the request process.\",\n",
        "            \"In progress\"\n",
        "        ),\n",
        "        \"Ask for information\": (\n",
        "            \"Requested additional details to complete the request.\",\n",
        "            \"In progress\"\n",
        "        ),\n",
        "        \"Working on the request\": (\n",
        "            \"Informed that they are currently working on your request and will keep you updated.\",\n",
        "            \"In progress\"\n",
        "        ),\n",
        "        \"Apologizes\": (\n",
        "            \"Apologized for the inconvenience and appreciates your understanding.\",\n",
        "            \"In progress\"\n",
        "        ),\n",
        "        \"Cover Sheet attached\": (\n",
        "            \"Sent the requested document.\",\n",
        "            \"Request delivered\"\n",
        "        ),\n",
        "        \"Grattitud\": (\n",
        "            \"Expressed gratitude for cooperation.\",\n",
        "            \"Process completed\"\n",
        "        )\n",
        "    }\n",
        "\n",
        "    # Buscamos la frase en el diccionario\n",
        "    if phrase in phrases_map:\n",
        "        return phrases_map[phrase]  # regresa (mensaje, estado)\n",
        "    else:\n",
        "        return \"No message\""
      ],
      "metadata": {
        "id": "QIeOlqoWESwF"
      },
      "execution_count": null,
      "outputs": []
    },
    {
      "cell_type": "code",
      "source": [
        "# Ejemplo de uso\n",
        "if __name__ == \"__main__\":\n",
        "    test_phrases = [\n",
        "        \"Document attached\",\n",
        "        \"Ask for a document\",\n",
        "        \"Ask for information\",\n",
        "        \"Working on the request\",\n",
        "        \"Apologizes\",\n",
        "        \"Cover Sheet attached\",\n",
        "        \"Grattitud \",\n",
        "        \"Other phrase\"\n",
        "    ]\n",
        "\n",
        "    for p in test_phrases:\n",
        "        resultado = get_message_and_status(p)\n",
        "        print(f\"Entrada: {p}\")\n",
        "        print(f\"Salida: {resultado}\")\n",
        "        print(\"-\" * 50)"
      ],
      "metadata": {
        "id": "wH9y5ZZKVVWT",
        "outputId": "ab969ee3-0676-4dd3-df84-a59bef467cc8",
        "colab": {
          "base_uri": "https://localhost:8080/"
        }
      },
      "execution_count": null,
      "outputs": [
        {
          "output_type": "stream",
          "name": "stdout",
          "text": [
            "Entrada: Document attached\n",
            "Salida: ('Sent a required document for the process of the request.', 'In progress')\n",
            "--------------------------------------------------\n",
            "Entrada: Ask for a document\n",
            "Salida: ('Requested a required document to continue the request process.', 'In progress')\n",
            "--------------------------------------------------\n",
            "Entrada: Ask for information\n",
            "Salida: ('Requested additional details to complete the request.', 'In progress')\n",
            "--------------------------------------------------\n",
            "Entrada: Working on the request\n",
            "Salida: ('Informed that they are currently working on your request and will keep you updated.', 'In progress')\n",
            "--------------------------------------------------\n",
            "Entrada: Apologizes\n",
            "Salida: ('Apologized for the inconvenience and appreciates your understanding.', 'In progress')\n",
            "--------------------------------------------------\n",
            "Entrada: Cover Sheet attached\n",
            "Salida: ('Sent the requested document.', 'Request delivered')\n",
            "--------------------------------------------------\n",
            "Entrada: Grattitud \n",
            "Salida: ('Expressed gratitude for your cooperation.', 'Process completed')\n",
            "--------------------------------------------------\n",
            "Entrada: Other phrase\n",
            "Salida: No message\n",
            "--------------------------------------------------\n"
          ]
        }
      ]
    },
    {
      "cell_type": "code",
      "source": [
        "# Extraer los metadatos:\n",
        "metadata = extract_metadata(email_json)\n",
        "\n",
        "email_body = separar_y_extraer(metadata[\"EMAIL_BODY\"])\n",
        "\n",
        "limpio = clean_text(email_body[\"ultimo_correo\"])\n",
        "\n",
        "clase_predicha = predict_text_class(limpio)\n",
        "\n",
        "mensaje = get_message_and_status(clase_predicha)\n",
        "\n",
        "\n",
        "# Imprimir o utilizar los metadatos como desees:\n",
        "print(\"SENDER: \", metadata[\"SENDER\"])\n",
        "print(\"RECIPIENT: \", metadata[\"RECIPIENT\"])\n",
        "print(\"DATE: \", metadata[\"DATE\"])\n",
        "print(\"ATTACHMENTS: \", metadata[\"ATTACHMENTS\"])\n",
        "#print(\"EMAIL_BODY: \", metadata[\"EMAIL_BODY\"])\n",
        "print(\"Último correo:\", limpio)\n",
        "print(\"Clase predicha:\", clase_predicha)\n",
        "print(\"Mensaje:\", mensaje[0])\n",
        "print(\"Estado:\", mensaje[1])\n",
        "print(\"Emisor del primer correo:\", email_body[\"emisor_primer_correo\"])\n",
        "print(\"Receptor del primer correo:\", email_body[\"receptor_primer_correo\"])"
      ],
      "metadata": {
        "colab": {
          "base_uri": "https://localhost:8080/"
        },
        "id": "WNwgwAcbWrbX",
        "outputId": "798e25f3-e1b8-453e-f1cb-dc36db2bcaff"
      },
      "execution_count": null,
      "outputs": [
        {
          "output_type": "stream",
          "name": "stderr",
          "text": [
            "Device set to use cpu\n",
            "/usr/local/lib/python3.11/dist-packages/transformers/pipelines/text_classification.py:106: UserWarning: `return_all_scores` is now deprecated,  if want a similar functionality use `top_k=None` instead of `return_all_scores=True` or `top_k=1` instead of `return_all_scores=False`.\n",
            "  warnings.warn(\n"
          ]
        },
        {
          "output_type": "stream",
          "name": "stdout",
          "text": [
            "SENDER:  joe <joe@blockchainexpedite.com>\n",
            "RECIPIENT:  ['emanifest@customscity.com']\n",
            "DATE:  2022-12-01T14:19:03\n",
            "ATTACHMENTS:  [{'attachment_name': 'COCOMARCO1222DOCS.pdf', 'attachment_url': ''}]\n",
            "Último correo: Good morning team please help me out creating ace manifest for this shipment. cleared this load using PAPS , DRIVER CROSSING / ROBERT // @. ALREADY CLEARED PLEASE SEE PAPERWORK. THANK Have a great day!!\n",
            "Clase predicha: Ask for a document\n",
            "Mensaje: Requested a required document to continue the request process.\n",
            "Estado: In progress\n",
            "Emisor del primer correo: None\n",
            "Receptor del primer correo: None\n"
          ]
        }
      ]
    },
    {
      "cell_type": "markdown",
      "source": [
        "## Formato de Salida\n",
        "\n",
        "Genera y retorna un string con el formato requerido:\n",
        "1) Si emisor_primer_correo es None => se asigna SENDER y RECIPIENT de metadata\n",
        "2) Si receptor_primer_correo es None => se asigna \"Customer Support\"\n",
        "3) Formato final:\n",
        "\n",
        "* email_body[\"emisor_primer_correo\"] to email_body[\"receptor_primer_correo\"]\n",
        "* mensaje[1]\n",
        "* metadata[\"SENDER\"] to metadata[\"RECIPIENT\"]\n",
        "* mensaje[0]\n",
        "* metadata[\"DATE\"]\n",
        "* ATTACHMENTS: metadata[\"ATTACHMENTS\"]"
      ],
      "metadata": {
        "id": "1qxT1mVLb6YP"
      }
    },
    {
      "cell_type": "code",
      "source": [
        "def generar_mensaje(metadata, mensaje, email_body):\n",
        "\n",
        "    # 1) Si emisor_primer_correo es None => asignar SENDER y RECIPIENT\n",
        "    if email_body[\"emisor_primer_correo\"] is None:\n",
        "        email_body[\"emisor_primer_correo\"] = metadata[\"SENDER\"]\n",
        "        email_body[\"receptor_primer_correo\"] = metadata[\"RECIPIENT\"]\n",
        "\n",
        "    # 2) Si receptor_primer_correo es None => \"Customer Support\"\n",
        "    if email_body[\"receptor_primer_correo\"] is None:\n",
        "        email_body[\"receptor_primer_correo\"] = \"Customer Support\"\n",
        "\n",
        "    # Por si metadata[\"RECIPIENT\"] es lista, convertimos a string\n",
        "    recipient_str = (\", \".join(metadata[\"RECIPIENT\"])\n",
        "                     if isinstance(metadata[\"RECIPIENT\"], list)\n",
        "                     else metadata[\"RECIPIENT\"])\n",
        "\n",
        "    # Por si email_body[\"receptor_primer_correo\"] es lista, convertir a string\n",
        "    if isinstance(email_body[\"receptor_primer_correo\"], list):\n",
        "        primer_receptor_str = \", \".join(email_body[\"receptor_primer_correo\"])\n",
        "    else:\n",
        "        primer_receptor_str = email_body[\"receptor_primer_correo\"]\n",
        "\n",
        "    # 3) Formatear el mensaje final\n",
        "    #    - email_body[\"emisor_primer_correo\"] to email_body[\"receptor_primer_correo\"]\n",
        "    #    - mensaje[1]\n",
        "    #    - metadata[\"SENDER\"] to metadata[\"RECIPIENT\"]\n",
        "    #    - mensaje[0]\n",
        "    #    - metadata[\"DATE\"]\n",
        "    #    - ATTACHMENTS: metadata[\"ATTACHMENTS\"]\n",
        "\n",
        "    # Convertir attachments en string (si fuera una lista o un diccionario)\n",
        "    if isinstance(metadata[\"ATTACHMENTS\"], list):\n",
        "        attachments_str = \", \".join([d.get(\"attachment_name\", \"\") for d in metadata[\"ATTACHMENTS\"]])  # Extraer el nombre del archivo\n",
        "    elif isinstance(metadata[\"ATTACHMENTS\"], dict):\n",
        "        attachments_str = metadata[\"ATTACHMENTS\"].get(\"attachment_name\", \"\")  # Extraer el nombre del archivo si es un diccionario\n",
        "    else:\n",
        "        attachments_str = metadata[\"ATTACHMENTS\"] or \"\"  # Mantener el valor original o cadena vacía si es None\n",
        "\n",
        "\n",
        "    final_message = (\n",
        "        f'{email_body[\"emisor_primer_correo\"]} to {primer_receptor_str}\\n'\n",
        "        f'{mensaje[1]}\\n'\n",
        "        f'{metadata[\"SENDER\"]} to {recipient_str}\\n'\n",
        "        f'{mensaje[0]}\\n'\n",
        "        f'{metadata[\"DATE\"]}\\n'\n",
        "        f'ATTACHMENTS: {attachments_str}'\n",
        "    )\n",
        "\n",
        "    return final_message"
      ],
      "metadata": {
        "id": "tLN3cS6kb4TM"
      },
      "execution_count": null,
      "outputs": []
    },
    {
      "cell_type": "code",
      "source": [
        "# ================================\n",
        "# EJEMPLO DE USO\n",
        "# ================================\n",
        "if __name__ == \"__main__\":\n",
        "    # Simulando datos de 'metadata'\n",
        "    metadata = {\n",
        "        \"SENDER\": \"Customer Support <service@customscity.com>\",\n",
        "        \"RECIPIENT\": [\"service@customscity.com\"],\n",
        "        \"DATE\": \"Wednesday, November 13 2024 01:47 PM\",\n",
        "        \"ATTACHMENTS\": [\"CMDO240411132024.pdf\"]\n",
        "    }\n",
        "\n",
        "    # Simulando datos de 'mensaje'\n",
        "    mensaje = (\n",
        "        \"Sent the requested document.\",  # mensaje[0]\n",
        "        \"Request delivered\"             # mensaje[1]\n",
        "    )\n",
        "\n",
        "    # Simulando datos de 'email_body'\n",
        "    email_body = {\n",
        "        \"emisor_primer_correo\": '\"samantha_mannone\"<samantha_mannone@canadacartage.com>',\n",
        "        \"receptor_primer_correo\": None  # para probar la condición\n",
        "    }\n",
        "\n",
        "    # Generar mensaje final\n",
        "    resultado = generar_mensaje(metadata, mensaje, email_body)\n",
        "\n",
        "    print(\"===== RESULTADO =====\")\n",
        "    print(resultado)"
      ],
      "metadata": {
        "colab": {
          "base_uri": "https://localhost:8080/"
        },
        "id": "4tZeSBCbcVx9",
        "outputId": "0ca7bfc1-950c-4992-83fa-511e93db5a99"
      },
      "execution_count": null,
      "outputs": [
        {
          "output_type": "stream",
          "name": "stdout",
          "text": [
            "===== RESULTADO =====\n",
            "\"samantha_mannone\"<samantha_mannone@canadacartage.com> to Customer Support\n",
            "Request delivered\n",
            "Customer Support <service@customscity.com> to service@customscity.com\n",
            "Sent the requested document.\n",
            "Wednesday, November 13 2024 01:47 PM\n",
            "ATTACHMENTS: CMDO240411132024.pdf\n"
          ]
        }
      ]
    },
    {
      "cell_type": "code",
      "source": [
        "    resultado = generar_mensaje(metadata, mensaje, email_body)\n",
        "\n",
        "    print(\"===== RESULTADO =====\")\n",
        "    print(resultado)"
      ],
      "metadata": {
        "colab": {
          "base_uri": "https://localhost:8080/"
        },
        "id": "QANdC8OBctzp",
        "outputId": "828be718-d5f5-422b-f341-12933349c4db"
      },
      "execution_count": null,
      "outputs": [
        {
          "output_type": "stream",
          "name": "stdout",
          "text": [
            "===== RESULTADO =====\n",
            "joe <joe@blockchainexpedite.com> to emanifest@customscity.com\n",
            "In progress\n",
            "joe <joe@blockchainexpedite.com> to emanifest@customscity.com\n",
            "Requested a required document to continue the request process.\n",
            "2022-12-01T14:19:03\n",
            "ATTACHMENTS: COCOMARCO1222DOCS.pdf\n"
          ]
        }
      ]
    },
    {
      "cell_type": "markdown",
      "source": [
        "## Función principal Abstract"
      ],
      "metadata": {
        "id": "F1cs6C7hhYY3"
      }
    },
    {
      "cell_type": "code",
      "source": [
        "def abstract(email_json):\n",
        "\n",
        "    # Extraer los metadatos:\n",
        "    metadata = extract_metadata(email_json)\n",
        "\n",
        "    email_body = separar_y_extraer(metadata[\"EMAIL_BODY\"])\n",
        "    #print(email_body[\"ultimo_correo\"])\n",
        "\n",
        "    if email_body[\"ultimo_correo\"] == \"Customs City Global Solutions Inc.ACE eManifest Online Request Form\":\n",
        "      mensaje = (\"Send a eManifest Online Request Form\",\"Process started\")\n",
        "    else:\n",
        "      limpio = clean_text(email_body[\"ultimo_correo\"])\n",
        "      clase_predicha = predict_text_class(limpio)\n",
        "      #print(clase_predicha)\n",
        "      mensaje = get_message_and_status(clase_predicha)\n",
        "      #print(mensaje)\n",
        "\n",
        "    result = generar_mensaje(metadata, mensaje, email_body)\n",
        "\n",
        "    return result"
      ],
      "metadata": {
        "id": "IgzmFTrChXd3"
      },
      "execution_count": null,
      "outputs": []
    },
    {
      "cell_type": "code",
      "source": [
        "email_json = {\n",
        "      \"_id\": \"674f7b32018fa9697d6efff0\",\n",
        "      \"emailID\": \"AAMkAGQyMmM3MDQ0LWY5NjYtNDc5MC1hNjJlLTVlZGU5MGFmYzdlNABGAAAAAACtCn7TEPB5Tq88sJveFzQGBwCe2-NKKTJQR4kZovzjmBc-AAAAAAEMAACe2-NKKTJQR4kZovzjmBc-AAM4ExulAAA=\",\n",
        "      \"conversationID\": \"AAQkAGQyMmM3MDQ0LWY5NjYtNDc5MC1hNjJlLTVlZGU5MGFmYzdlNAAQAHn_pzljd0h0tjyUUUhZPEo=\",\n",
        "      \"subject\": \"Re:[## 97815 ##]  ACE Manifest request form for PAPS: BEIO 0022385\",\n",
        "      \"sender\": \"joe <joe@blockchainexpedite.com>\",\n",
        "      \"recipient\": [\n",
        "        \"service@customscity.com\"\n",
        "      ],\n",
        "      \"cc\": [\n",
        "        \"blockchain expedite inc <bids@blockchainexpedite.com>\",\n",
        "        \"eManifest <emanifest@customscity.com>\"\n",
        "      ],\n",
        "      \"date\": \"2022-09-29T20:43:18\",\n",
        "      \"attachments\": [\n",
        "        {\n",
        "          \"attachment_name\": \"1664484103956025_237034100.gif\",\n",
        "          \"attachment_url\": \"\"\n",
        "        },\n",
        "        {\n",
        "          \"attachment_name\": \"1664484103972000_459083101.jpg\",\n",
        "          \"attachment_url\": \"\"\n",
        "        }\n",
        "      ],\n",
        "      \"emailBody\": \"Thank youMc123203 Blockchainexpedite Have a great day!!Joe Body   7163614662-------- Original message --------From: Customer Support <service@customscity.com> Date: 9/29/22 4:41 PM (GMT-05:00) To: service@customscity.com Cc: blockchain expedite inc <bids@blockchainexpedite.com>, emanifest@customscity.com, 'joe' <joe@blockchainexpedite.com> Subject: Re:[## 97815 ##] ACE Manifest request form for PAPS: BEIO 0022385 Good afternoon.Attached its the CoverSheet.Best regards!Customer  Support Specialist1-888-724-8914 x1 | +1-289-732-2010service@customscity.comwww.customscity.com1315 Pickering Pkwy, Suite 300, Pickering, Ontario, L1V 7G5Schedule a Meeting Here---- On  Thu, 29 Sep 2022 14:29:59 -0600 \\\"Customer Support\\\"<service@customscity.com>  wrote ---- Good afternoon.Customs City has received your request. We are working on it.Best regards!Customer  Support Specialist1-888-724-8914 x1 | +1-289-732-2010service@customscity.comwww.customscity.com1315 Pickering Pkwy, Suite 300, Pickering, Ontario, L1V 7G5Schedule a Meeting Here---- On  Thu, 29 Sep 2022 05:42:40 -0600 \\\"BLOCKCHAIN EXPEDITE INC \\\"<bids@blockchainexpedite.com>  wrote ---- Hello, Please find attached ACE Manifest request form for PAPS: BEIO 0022385 crossing.  PORT: ___Queenston – Lewiston NY_____  DATE:  ___September 29, 2022_____ TIME:  ___18:00______  Send ACE Manifest to :  bids@blockchainexpedite.com ;  richard@blockchainexpedite.com; joe <joe@blockchainexpedite.com> Thank you  Thank you Richard Politewiczrichard@blockchainexpedite.com Joe Bodyjoe@blockchainexpedite.com Tel:289-230-2178, Fax:  905-318-778422 Erminia Crt, Hamilton ON, L8W3K1MC#123203   DOT 3177098    EIN 98-1445995   www.blockchainexpedite.com \",\n",
        "      \"cleanBody\": \"Thank you Mc123203 Blockchainexpedite Have a great day!! Joe Body 7163614662 Original message From: Customer Support <service@customscity.com> Date: 9/29/22 4:41 PM (GMT-05:00) To: service@customscity.com Cc: blockchain expedite inc <bids@blockchainexpedite.com>, emanifest@customscity.com, 'joe' <joe@blockchainexpedite.com> Subject: Re: ACE Manifest request form for PAPS: BEIO 0022385 Good afternoon. Attached its the CoverSheet. Best regards! Customer Support Specialist 1-888-724-8914 x1 | +1-289-732-2010 service@customscity.com www.customscity.com 1315 Pickering Pkwy, Suite 300, Pickering, Ontario, L1V 7G5 Schedule a Meeting Here On Thu, 29 Sep 2022 14:29:59 -0600 \\\"Customer Support\\\"<service@customscity.com> wrote Good afternoon. Customs City has received your request. We are working on it. Best regards! Customer Support Specialist 1-888-724-8914 x1 | +1-289-732-2010 service@customscity.com www.customscity.com 1315 Pickering Pkwy, Suite 300, Pickering, Ontario, L1V 7G5 Schedule a Meeting Here On Thu, 29 Sep 2022 05:42:40 -0600 \\\"BLOCKCHAIN EXPEDITE INC \\\"<bids@blockchainexpedite.com> wrote Hello, Please find attached ACE Manifest request form for PAPS: BEIO 0022385 crossing. PORT: ___Queenston – Lewiston NY_____ DATE: ___September 29, 2022_____ TIME: ___18:00______ Send ACE Manifest to : bids@blockchainexpedite.com ; richard@blockchainexpedite.com ; joe <joe@blockchainexpedite.com> Thank you Thank you Richard Politewicz richard@blockchainexpedite.com Joe Body joe@blockchainexpedite.com Tel:289-230-2178 , Fax: 905-318-7784 22 Erminia Crt, Hamilton ON, L8W3K1 MC#123203 DOT 3177098 EIN 98-1445995 www.blockchainexpedite.com\"\n",
        "    }"
      ],
      "metadata": {
        "id": "73aFn2o_hd3g"
      },
      "execution_count": null,
      "outputs": []
    },
    {
      "cell_type": "code",
      "source": [
        "mensaje = abstract(email_json)\n",
        "print(mensaje)"
      ],
      "metadata": {
        "colab": {
          "base_uri": "https://localhost:8080/"
        },
        "id": "Hd3sSX_7hRU6",
        "outputId": "4242836e-e3c8-4611-cd4a-08083b09d011"
      },
      "execution_count": null,
      "outputs": [
        {
          "output_type": "stream",
          "name": "stderr",
          "text": [
            "Device set to use cpu\n",
            "/usr/local/lib/python3.11/dist-packages/transformers/pipelines/text_classification.py:106: UserWarning: `return_all_scores` is now deprecated,  if want a similar functionality use `top_k=None` instead of `return_all_scores=True` or `top_k=1` instead of `return_all_scores=False`.\n",
            "  warnings.warn(\n"
          ]
        },
        {
          "output_type": "stream",
          "name": "stdout",
          "text": [
            "\"BLOCKCHAIN EXPEDITE INC \"<bids@blockchainexpedite.com> to Customer Support\n",
            "Process completed\n",
            "joe <joe@blockchainexpedite.com> to service@customscity.com\n",
            "Expressed gratitude for cooperation.\n",
            "2022-09-29T20:43:18\n",
            "ATTACHMENTS: 1664484103956025_237034100.gif, 1664484103972000_459083101.jpg\n"
          ]
        }
      ]
    },
    {
      "cell_type": "code",
      "source": [
        " # Lee el archivo JSON\n",
        "with open(\"/content/DatosRealesCorreo.json\", \"r\", encoding=\"utf-8\") as file:\n",
        "  data = json.load(file)  # Asumiendo que es un array de objetos JSON\n",
        "\n",
        "# Itera sobre cada objeto JSON en la lista\n",
        "for email_json in data:\n",
        "    print(email_json)\n",
        "    mensaje = abstract(email_json)\n",
        "    print(mensaje)\n",
        "    print(\"-------------------------------------------\")\n"
      ],
      "metadata": {
        "colab": {
          "base_uri": "https://localhost:8080/"
        },
        "id": "afJrhrpJyIeB",
        "outputId": "8b1357c7-5dc1-4bd9-bb2d-ae9bb20ef7eb"
      },
      "execution_count": null,
      "outputs": [
        {
          "output_type": "stream",
          "name": "stdout",
          "text": [
            "{'EMAIL_ID': 'AAMkAGQyMmM3MDQ0LWY5NjYtNDc5MC1hNjJlLTVlZGU5MGFmYzdlNABGAAAAAACtCn7TEPB5Tq88sJveFzQGBwCe2-NKKTJQR4kZovzjmBc-AAAAAAEMAACe2-NKKTJQR4kZovzjmBc-AAM4ExulAAA=', 'CONVERSATION_ID': 'AAQkAGQyMmM3MDQ0LWY5NjYtNDc5MC1hNjJlLTVlZGU5MGFmYzdlNAAQAHn_pzljd0h0tjyUUUhZPEo=', 'SUBJECT': 'Re:[## 97815 ##]  ACE Manifest request form for PAPS: BEIO 0022385', 'SENDER': 'joe <joe@blockchainexpedite.com>', 'RECIPIENT': ['service@customscity.com'], 'CC': ['blockchain expedite inc <bids@blockchainexpedite.com>', 'eManifest <emanifest@customscity.com>'], 'DATE': 'Thursday, September 29 2022 01:43 PM', 'ATTACHMENTS': ['1664484103956025_237034100.gif', '1664484103972000_459083101.jpg'], 'EMAIL_BODY': 'Thank youMc123203 Blockchainexpedite\\xa0Have a great day!!Joe Body\\xa0 \\xa07163614662-------- Original message --------From: Customer Support <service@customscity.com> Date: 9/29/22 4:41 PM (GMT-05:00) To: service@customscity.com Cc: blockchain expedite inc <bids@blockchainexpedite.com>, emanifest@customscity.com, \\'joe\\' <joe@blockchainexpedite.com> Subject: Re:[## 97815 ##] ACE Manifest request form for PAPS: BEIO 0022385 Good afternoon.Attached its the CoverSheet.Best regards!Customer\\xa0 Support Specialist1-888-724-8914 x1\\xa0|\\xa0+1-289-732-2010service@customscity.comwww.customscity.com1315 Pickering Pkwy, Suite 300, Pickering, Ontario, L1V 7G5Schedule a Meeting Here---- On \\xa0Thu, 29 Sep 2022 14:29:59 -0600\\xa0\"Customer Support\"<service@customscity.com>\\xa0 wrote ---- Good afternoon.Customs City has received your request. We are working on it.Best regards!Customer\\xa0 Support Specialist1-888-724-8914 x1\\xa0|\\xa0+1-289-732-2010service@customscity.comwww.customscity.com1315 Pickering Pkwy, Suite 300, Pickering, Ontario, L1V 7G5Schedule a Meeting Here---- On \\xa0Thu, 29 Sep 2022 05:42:40 -0600\\xa0\"BLOCKCHAIN EXPEDITE INC \"<bids@blockchainexpedite.com>\\xa0 wrote ---- Hello,\\xa0Please find attached ACE Manifest request form for PAPS: BEIO 0022385\\xa0crossing. \\xa0PORT: ___Queenston – Lewiston NY_____ \\xa0DATE: \\xa0___September 29, 2022_____\\xa0TIME:\\xa0 ___18:00______ \\xa0Send ACE Manifest to :\\xa0 bids@blockchainexpedite.com ;\\xa0 richard@blockchainexpedite.com; joe <joe@blockchainexpedite.com>\\xa0Thank you\\xa0\\xa0Thank you\\xa0Richard Politewiczrichard@blockchainexpedite.com\\xa0Joe Bodyjoe@blockchainexpedite.com\\xa0Tel:289-230-2178, Fax:\\xa0 905-318-778422 Erminia Crt, Hamilton ON, L8W3K1MC#123203\\xa0\\xa0 DOT 3177098\\xa0\\xa0\\xa0 EIN 98-1445995 \\xa0\\xa0www.blockchainexpedite.com\\xa0'}\n"
          ]
        },
        {
          "output_type": "stream",
          "name": "stderr",
          "text": [
            "Device set to use cpu\n",
            "/usr/local/lib/python3.11/dist-packages/transformers/pipelines/text_classification.py:106: UserWarning: `return_all_scores` is now deprecated,  if want a similar functionality use `top_k=None` instead of `return_all_scores=True` or `top_k=1` instead of `return_all_scores=False`.\n",
            "  warnings.warn(\n"
          ]
        },
        {
          "output_type": "stream",
          "name": "stdout",
          "text": [
            "\"BLOCKCHAIN EXPEDITE INC \"<bids@blockchainexpedite.com> to Customer Support\n",
            "Process completed\n",
            "joe <joe@blockchainexpedite.com> to service@customscity.com\n",
            "Expressed gratitude for cooperation.\n",
            "Thursday, September 29 2022 01:43 PM\n",
            "ATTACHMENTS: 1664484103956025_237034100.gif, 1664484103972000_459083101.jpg\n",
            "-------------------------------------------\n",
            "{'EMAIL_ID': 'AAMkAGQyMmM3MDQ0LWY5NjYtNDc5MC1hNjJlLTVlZGU5MGFmYzdlNABGAAAAAACtCn7TEPB5Tq88sJveFzQGBwCe2-NKKTJQR4kZovzjmBc-AAAAAAEMAACe2-NKKTJQR4kZovzjmBc-AAM4vUlIAAA=', 'CONVERSATION_ID': 'AAQkAGQyMmM3MDQ0LWY5NjYtNDc5MC1hNjJlLTVlZGU5MGFmYzdlNAAQAP-KdJu7K0wyqTGnYzybw2g=', 'SUBJECT': 'Re:[## 97861 ##]  ACI request form for PARS:  74EZ PARS 002077', 'SENDER': 'joe <joe@blockchainexpedite.com>', 'RECIPIENT': ['service@customscity.com', 'bids@blockchainexpedite.com', '423serghei@gmail.com'], 'CC': ['eManifest <emanifest@customscity.com>', \"'serghei polisciuc' <423serghei@gmail.com>\"], 'DATE': 'Thursday, September 29 2022 08:20 PM', 'ATTACHMENTS': ['1664507835834000_237034100.png'], 'EMAIL_BODY': 'Thank you,please send one with the entry number once it\\'s cleared.\\xa0 ThxMc123203 Blockchainexpedite\\xa0Have a great day!!Joe Body\\xa0 \\xa07163614662-------- Original message --------From: Customer Support <service@customscity.com> Date: 9/29/22 11:17 PM (GMT-05:00) To: BLOCKCHAIN EXPEDITE INC <bids@blockchainexpedite.com> Cc: emanifest@customscity.com, \\'joe\\' <joe@blockchainexpedite.com>, \\'serghei polisciuc\\' <423serghei@gmail.com> Subject: Re:[## 97861 ##] ACI request form for PARS: 74EZ PARS 002077 Hello,Here\\'s the cover sheet without the entry.Best regards.Customer\\xa0 Support Specialist1-888-724-8914 x1 | +1 289-732-2010service@customscity.comwww.customscity.com1315 Pickering Pkwy, Suite 300, Pickering, Ontario, L1V 7G5Schedule a Meeting Here---- On \\xa0Thu, 29 Sep 2022 04:24:23 -0700\\xa0\"BLOCKCHAIN EXPEDITE INC \"<bids@blockchainexpedite.com>\\xa0 wrote ---- Hello, \\xa0RUSH ORDER REQUEST \\xa0Please find attached ACI request form for PARS: \\xa074EZ PARS 002077\\xa0crossing. \\xa0PORT: __Windsor ON______ \\xa0DATE: \\xa0__September 29, 2022______\\xa0TIME:\\xa0 __23:59_______ \\xa0Send ACE Manifest to :\\xa0 bids@blockchainexpedite.com ;\\xa0 richard@blockchainexpedite.com; Serghei Polisciuc <423serghei@gmail.com>\\xa0\\xa0\\xa0\\xa0\\xa0Thank you\\xa0Richard Politewiczrichard@blockchainexpedite.com\\xa0Joe Bodyjoe@blockchainexpedite.com\\xa0Tel:289-230-2178, Fax:\\xa0 905-318-778422 Erminia Crt, Hamilton ON, L8W3K1MC#123203\\xa0\\xa0 DOT 3177098\\xa0\\xa0\\xa0 EIN 98-1445995 \\xa0\\xa0www.blockchainexpedite.com\\xa0'}\n"
          ]
        },
        {
          "output_type": "stream",
          "name": "stderr",
          "text": [
            "Device set to use cpu\n",
            "/usr/local/lib/python3.11/dist-packages/transformers/pipelines/text_classification.py:106: UserWarning: `return_all_scores` is now deprecated,  if want a similar functionality use `top_k=None` instead of `return_all_scores=True` or `top_k=1` instead of `return_all_scores=False`.\n",
            "  warnings.warn(\n"
          ]
        },
        {
          "output_type": "stream",
          "name": "stdout",
          "text": [
            "\"BLOCKCHAIN EXPEDITE INC \"<bids@blockchainexpedite.com> to Customer Support\n",
            "In progress\n",
            "joe <joe@blockchainexpedite.com> to service@customscity.com, bids@blockchainexpedite.com, 423serghei@gmail.com\n",
            "Requested a required document to continue the request process.\n",
            "Thursday, September 29 2022 08:20 PM\n",
            "ATTACHMENTS: 1664507835834000_237034100.png\n",
            "-------------------------------------------\n",
            "{'EMAIL_ID': 'AAMkAGQyMmM3MDQ0LWY5NjYtNDc5MC1hNjJlLTVlZGU5MGFmYzdlNABGAAAAAACtCn7TEPB5Tq88sJveFzQGBwCe2-NKKTJQR4kZovzjmBc-AAAAAAEMAACe2-NKKTJQR4kZovzjmBc-AAM4vUlKAAA=', 'CONVERSATION_ID': 'AAQkAGQyMmM3MDQ0LWY5NjYtNDc5MC1hNjJlLTVlZGU5MGFmYzdlNAAQAP-KdJu7K0wyqTGnYzybw2g=', 'SUBJECT': 'Re:[## 97861 ##]  ACI request form for PARS:  74EZ PARS 002077', 'SENDER': 'joe <joe@blockchainexpedite.com>', 'RECIPIENT': ['service@customscity.com'], 'CC': ['blockchain expedite inc <bids@blockchainexpedite.com>', 'Serghei Polisciuc <423serghei@gmail.com>', 'eManifest <emanifest@customscity.com>'], 'DATE': 'Thursday, September 29 2022 08:23 PM', 'ATTACHMENTS': ['1664508088635000_459083101.png'], 'EMAIL_BODY': 'Thank you.Mc123203 Blockchainexpedite\\xa0Have a great day!!Joe Body\\xa0 \\xa07163614662-------- Original message --------From: Customer Support <service@customscity.com> Date: 9/29/22 11:21 PM (GMT-05:00) To: joe <joe@blockchainexpedite.com> Cc: blockchain expedite inc <bids@blockchainexpedite.com>, serghei polisciuc <423serghei@gmail.com>, emanifest@customscity.com, \\'serghei polisciuc\\' <423serghei@gmail.com>, joe <joe@blockchainexpedite.com> Subject: Re:[## 97861 ##] ACI request form for PARS: 74EZ PARS 002077 Will do, we already sent the paperwork to the broker, so we just need to wait.Best regardsCustomer\\xa0 Support Specialist1-888-724-8914 x1 | +1 289-732-2010service@customscity.comwww.customscity.com1315 Pickering Pkwy, Suite 300, Pickering, Ontario, L1V 7G5Schedule a Meeting Here---- On \\xa0Thu, 29 Sep 2022 20:20:05 -0700\\xa0\"joe\"<joe@blockchainexpedite.com>\\xa0 wrote ---- Thank you,please send one with the entry number once it\\'s cleared.\\xa0 ThxMc123203 Blockchainexpedite\\xa0Have a great day!!Joe Body\\xa0 \\xa07163614662-------- Original message --------From: Customer Support <service@customscity.com> Date: 9/29/22 11:17 PM (GMT-05:00) To: BLOCKCHAIN EXPEDITE INC <bids@blockchainexpedite.com> Cc: emanifest@customscity.com, \\'joe\\' <joe@blockchainexpedite.com>, \\'serghei polisciuc\\' <423serghei@gmail.com> Subject: Re:[## 97861 ##] ACI request form for PARS: 74EZ PARS 002077 Hello,Here\\'s the cover sheet without the entry.Best regards.Customer\\xa0 Support Specialist1-888-724-8914 x1 | +1 289-732-2010service@customscity.comwww.customscity.com1315 Pickering Pkwy, Suite 300, Pickering, Ontario, L1V 7G5Schedule a Meeting Here---- On \\xa0Thu, 29 Sep 2022 04:24:23 -0700\\xa0\"BLOCKCHAIN EXPEDITE INC \"<bids@blockchainexpedite.com>\\xa0 wrote ---- Hello, \\xa0RUSH ORDER REQUEST \\xa0Please find attached ACI request form for PARS: \\xa074EZ PARS 002077\\xa0crossing. \\xa0PORT: __Windsor ON______ \\xa0DATE: \\xa0__September 29, 2022______\\xa0TIME:\\xa0 __23:59_______ \\xa0Send ACE Manifest to :\\xa0 bids@blockchainexpedite.com ;\\xa0 richard@blockchainexpedite.com; Serghei Polisciuc <423serghei@gmail.com>\\xa0\\xa0\\xa0\\xa0\\xa0Thank you\\xa0Richard Politewiczrichard@blockchainexpedite.com\\xa0Joe Bodyjoe@blockchainexpedite.com\\xa0Tel:289-230-2178, Fax:\\xa0 905-318-778422 Erminia Crt, Hamilton ON, L8W3K1MC#123203\\xa0\\xa0 DOT 3177098\\xa0\\xa0\\xa0 EIN 98-1445995 \\xa0\\xa0www.blockchainexpedite.com\\xa0'}\n"
          ]
        },
        {
          "output_type": "stream",
          "name": "stderr",
          "text": [
            "Device set to use cpu\n",
            "/usr/local/lib/python3.11/dist-packages/transformers/pipelines/text_classification.py:106: UserWarning: `return_all_scores` is now deprecated,  if want a similar functionality use `top_k=None` instead of `return_all_scores=True` or `top_k=1` instead of `return_all_scores=False`.\n",
            "  warnings.warn(\n"
          ]
        },
        {
          "output_type": "stream",
          "name": "stdout",
          "text": [
            "\"BLOCKCHAIN EXPEDITE INC \"<bids@blockchainexpedite.com> to Customer Support\n",
            "Process completed\n",
            "joe <joe@blockchainexpedite.com> to service@customscity.com\n",
            "Expressed gratitude for cooperation.\n",
            "Thursday, September 29 2022 08:23 PM\n",
            "ATTACHMENTS: 1664508088635000_459083101.png\n",
            "-------------------------------------------\n",
            "{'EMAIL_ID': 'AAMkAGQyMmM3MDQ0LWY5NjYtNDc5MC1hNjJlLTVlZGU5MGFmYzdlNABGAAAAAACtCn7TEPB5Tq88sJveFzQGBwCe2-NKKTJQR4kZovzjmBc-AAAAAAEMAACe2-NKKTJQR4kZovzjmBc-AANKkp05AAA=', 'CONVERSATION_ID': 'AAQkAGQyMmM3MDQ0LWY5NjYtNDc5MC1hNjJlLTVlZGU5MGFmYzdlNAAQAL70rqFjGHFAi8l0JucceDI=', 'SUBJECT': 'FW: ID for Robert Pandi', 'SENDER': 'joe <joe@blockchainexpedite.com>', 'RECIPIENT': ['emanifest@customscity.com'], 'CC': [], 'DATE': 'Friday, October 28 2022 02:42 PM', 'ATTACHMENTS': ['DL Backside.jpg', 'DL front.jpg', 'Passport Robert.PDF'], 'EMAIL_BODY': 'Hello team here is the passport and drivers licence info for unit 424 Robert\\xa0 PandiMc123203 Blockchainexpedite\\xa0Have a great day!!Joe Body\\xa0 \\xa07163614662-------- Original message --------From: Robert Pandi <rzpandi@gmail.com> Date: 10/26/22 2:08 PM (GMT-05:00) To: Joe@blockchainexpedite.com, richard@blockchainexpedite.com Subject: ID for Robert Pandi Documents attached,Best regards,Robert6479393706'}\n"
          ]
        },
        {
          "output_type": "stream",
          "name": "stderr",
          "text": [
            "Device set to use cpu\n",
            "/usr/local/lib/python3.11/dist-packages/transformers/pipelines/text_classification.py:106: UserWarning: `return_all_scores` is now deprecated,  if want a similar functionality use `top_k=None` instead of `return_all_scores=True` or `top_k=1` instead of `return_all_scores=False`.\n",
            "  warnings.warn(\n"
          ]
        },
        {
          "output_type": "stream",
          "name": "stdout",
          "text": [
            "Robert Pandi <rzpandi@gmail.com> to Joe@blockchainexpedite.com, richard@blockchainexpedite.com\n",
            "In progress\n",
            "joe <joe@blockchainexpedite.com> to emanifest@customscity.com\n",
            "Requested a required document to continue the request process.\n",
            "Friday, October 28 2022 02:42 PM\n",
            "ATTACHMENTS: DL Backside.jpg, DL front.jpg, Passport Robert.PDF\n",
            "-------------------------------------------\n",
            "{'EMAIL_ID': 'AAMkAGQyMmM3MDQ0LWY5NjYtNDc5MC1hNjJlLTVlZGU5MGFmYzdlNABGAAAAAACtCn7TEPB5Tq88sJveFzQGBwCe2-NKKTJQR4kZovzjmBc-AAAAAAEMAACe2-NKKTJQR4kZovzjmBc-AANfj-MFAAA=', 'CONVERSATION_ID': 'AAQkAGQyMmM3MDQ0LWY5NjYtNDc5MC1hNjJlLTVlZGU5MGFmYzdlNAAQAC4HZ07gxE9HhuL8jO-8YW0=', 'SUBJECT': 'COCOMARCO1222DOCS.pdf', 'SENDER': 'joe <joe@blockchainexpedite.com>', 'RECIPIENT': ['emanifest@customscity.com'], 'CC': [], 'DATE': 'Thursday, December 01 2022 07:19 AM', 'ATTACHMENTS': ['COCOMARCO1222DOCS.pdf'], 'EMAIL_BODY': 'Good morning team please help me out creating ace manifest for this shipment. Customer cleared this load using PAPS\\xa0 BEIO0022805,\\xa0DRIVER CROSSING QUEENSTON/LEWISTON NY BRIDGEUNIT 424DRIVER ROBERT PANDI3 PCS1/12/2022 @11.00LOAD ALREADY CLEARED PLEASE SEE PAPERWORK.THANK YOUMC123203 BLOCKCHAINEXPEDITE\\xa0Have a great day!!Joe Body\\xa0 \\xa07163614662'}\n"
          ]
        },
        {
          "output_type": "stream",
          "name": "stderr",
          "text": [
            "Device set to use cpu\n",
            "/usr/local/lib/python3.11/dist-packages/transformers/pipelines/text_classification.py:106: UserWarning: `return_all_scores` is now deprecated,  if want a similar functionality use `top_k=None` instead of `return_all_scores=True` or `top_k=1` instead of `return_all_scores=False`.\n",
            "  warnings.warn(\n"
          ]
        },
        {
          "output_type": "stream",
          "name": "stdout",
          "text": [
            "joe <joe@blockchainexpedite.com> to emanifest@customscity.com\n",
            "In progress\n",
            "joe <joe@blockchainexpedite.com> to emanifest@customscity.com\n",
            "Requested a required document to continue the request process.\n",
            "Thursday, December 01 2022 07:19 AM\n",
            "ATTACHMENTS: COCOMARCO1222DOCS.pdf\n",
            "-------------------------------------------\n",
            "{'EMAIL_ID': 'AAMkAGQyMmM3MDQ0LWY5NjYtNDc5MC1hNjJlLTVlZGU5MGFmYzdlNABGAAAAAACtCn7TEPB5Tq88sJveFzQGBwCe2-NKKTJQR4kZovzjmBc-AAAAAAEMAACe2-NKKTJQR4kZovzjmBc-AAOElfy9AAA=', 'CONVERSATION_ID': 'AAQkAGQyMmM3MDQ0LWY5NjYtNDc5MC1hNjJlLTVlZGU5MGFmYzdlNAAQAJ7ofamZh-dIuowHqxWkq5s=', 'SUBJECT': 'FW: RE: [## 106067 ##]  request ACI form for PARS: 74EZ PARS 002272  PORT: ___Queenston - Lewiston ON 0427_DATE:  ___January 24, 2023__TIME:  ____18:00 _____ _______', 'SENDER': 'joe <joe@blockchainexpedite.com>', 'RECIPIENT': ['emanifest@customscity.com'], 'CC': [], 'DATE': 'Tuesday, January 24 2023 04:50 PM', 'ATTACHMENTS': ['image006.jpg', 'image003.gif', 'image007.jpg', '23-1826   PARS  74EZ PARS 002272  CAP Logistics Load 2304A4648 Jan 24  2....pdf'], 'EMAIL_BODY': 'Please create aci asap,resending this email againHave a great day!!Joe Body\\xa0 \\xa07163614662-------- Original message --------From: BLOCKCHAIN EXPEDITE INC <bids@blockchainexpedite.com> Date: 1/24/23 6:39 PM (GMT-05:00) To: service@customscity.com Subject: RE: [## 106067 ##] request ACI form for PARS: 74EZ PARS 002272 PORT: ___Queenston - Lewiston ON 0427_DATE: ___January 24, 2023__TIME: ____18:00 _____ _______ See attached , 10 pages\\xa0Thank you\\xa0Richard Politewiczrichard@blockchainexpedite.com\\xa0Joe Bodyjoe@blockchainexpedite.com\\xa0Tel:289-230-2178, Fax:\\xa0 905-318-778422 Erminia Crt, Hamilton ON, L8W3K1MC#123203\\xa0\\xa0 DOT 3177098\\xa0\\xa0\\xa0 EIN 98-1445995 \\xa0\\xa0www.blockchainexpedite.com\\xa0From: Customer Support [mailto:service@customscity.com] Sent: January 24, 2023 6:33 PMTo: BLOCKCHAIN EXPEDITE INC <bids@blockchainexpedite.com>Subject: Re:[## 106067 ##] request ACI form for PARS: 74EZ PARS 002272 PORT: ___Queenston - Lewiston ON 0427_DATE: ___January 24, 2023__TIME: ____18:00 _____ _______\\xa0Good afternoon.\\xa0\\xa0\\xa0Could you please send the information of your shipper and consignee to be able to make your manifest?\\xa0\\xa0\\xa0\\xa0Best regards!Customer\\xa0 Support Specialist1-888-724-8914 x1\\xa0|\\xa0+1-289-732-2010service@customscity.comwww.customscity.com1315 Pickering Pkwy, Suite 300, Pickering, Ontario, L1V 7G5Schedule a Meeting Here\\xa0---- On \\xa0Tue, 24 Jan 2023 07:25:02 -0600\\xa0\"BLOCKCHAIN EXPEDITE INC \"<bids@blockchainexpedite.com>\\xa0 wrote ---- Hello,\\xa0Please find attached request ACI form for PARS: 74EZ PARS 002272\\xa0crossing. \\xa0PORT: ___Queenston – Lewiston ON 0427_____ \\xa0DATE: \\xa0___January 24, 2023_____\\xa0TIME:\\xa0 ____18:00 _____ \\xa0Send ACE Manifest to :\\xa0 bids@blockchainexpedite.com ;\\xa0 richard@blockchainexpedite.com\\xa0\\xa0\\xa0Thank you\\xa0Richard Politewiczrichard@blockchainexpedite.com\\xa0Joe Bodyjoe@blockchainexpedite.com\\xa0Tel:289-230-2178, Fax:\\xa0 905-318-778422 Erminia Crt, Hamilton ON, L8W3K1MC#123203\\xa0\\xa0 DOT 3177098\\xa0\\xa0\\xa0 EIN 98-1445995 \\xa0\\xa0www.blockchainexpedite.com\\xa0\\xa0\\xa0'}\n"
          ]
        },
        {
          "output_type": "stream",
          "name": "stderr",
          "text": [
            "Device set to use cpu\n",
            "/usr/local/lib/python3.11/dist-packages/transformers/pipelines/text_classification.py:106: UserWarning: `return_all_scores` is now deprecated,  if want a similar functionality use `top_k=None` instead of `return_all_scores=True` or `top_k=1` instead of `return_all_scores=False`.\n",
            "  warnings.warn(\n"
          ]
        },
        {
          "output_type": "stream",
          "name": "stdout",
          "text": [
            "\"BLOCKCHAIN EXPEDITE INC \"<bids@blockchainexpedite.com> to Customer Support\n",
            "In progress\n",
            "joe <joe@blockchainexpedite.com> to emanifest@customscity.com\n",
            "Requested a required document to continue the request process.\n",
            "Tuesday, January 24 2023 04:50 PM\n",
            "ATTACHMENTS: image006.jpg, image003.gif, image007.jpg, 23-1826   PARS  74EZ PARS 002272  CAP Logistics Load 2304A4648 Jan 24  2....pdf\n",
            "-------------------------------------------\n",
            "{'EMAIL_ID': 'AAMkAGQyMmM3MDQ0LWY5NjYtNDc5MC1hNjJlLTVlZGU5MGFmYzdlNABGAAAAAACtCn7TEPB5Tq88sJveFzQGBwCe2-NKKTJQR4kZovzjmBc-AAAAAAEMAACe2-NKKTJQR4kZovzjmBc-AAOElfy-AAA=', 'CONVERSATION_ID': 'AAQkAGQyMmM3MDQ0LWY5NjYtNDc5MC1hNjJlLTVlZGU5MGFmYzdlNAAQAAYqQlAuYQhLoN53fxulApc=', 'SUBJECT': 'Re:[## 106067 ##]  request ACI form for PARS: 74EZ PARS 002272  PORT: ___Queenston - Lewiston ON 0427_DATE:  ___January 24, 2023__TIME:  ____18:00 _____ _______', 'SENDER': 'joe <joe@blockchainexpedite.com>', 'RECIPIENT': ['service@customscity.com'], 'CC': ['eManifest <emanifest@customscity.com>'], 'DATE': 'Tuesday, January 24 2023 05:00 PM', 'ATTACHMENTS': ['1674604738822006_2101365159.jpg', '1674604738855000_282144894.gif', '1674604738872000_612120879.jpg'], 'EMAIL_BODY': 'Thank youMc123203 Blockchainexpedite\\xa0Have a great day!!Joe Body\\xa0 \\xa07163614662-------- Original message --------From: Customer Support <service@customscity.com> Date: 1/24/23 6:59 PM (GMT-05:00) To: joe <joe@blockchainexpedite.com> Cc: emanifest@customscity.com Subject: Re:[## 106067 ##] request ACI form for PARS: 74EZ PARS 002272 PORT: ___Queenston - Lewiston ON 0427_DATE: ___January 24, 2023__TIME: ____18:00 _____ _______ Good afternoon.Attached its the CoverSheet.Best regards!Customer\\xa0 Support Specialist1-888-724-8914 x1\\xa0|\\xa0+1-289-732-2010service@customscity.comwww.customscity.com1315 Pickering Pkwy, Suite 300, Pickering, Ontario, L1V 7G5Schedule a Meeting Here---- On \\xa0Tue, 24 Jan 2023 17:49:52 -0600\\xa0\"joe\"<joe@blockchainexpedite.com>\\xa0 wrote ---- Please create aci asap,resending this email againHave a great day!!Joe Body\\xa0 \\xa07163614662-------- Original message --------From: BLOCKCHAIN EXPEDITE INC <bids@blockchainexpedite.com> Date: 1/24/23 6:39 PM (GMT-05:00) To: service@customscity.com Subject: RE: [## 106067 ##] request ACI form for PARS: 74EZ PARS 002272 PORT: ___Queenston - Lewiston ON 0427_DATE: ___January 24, 2023__TIME: ____18:00 _____ _______ See attached , 10 pages\\xa0Thank you\\xa0Richard Politewiczrichard@blockchainexpedite.com\\xa0Joe Bodyjoe@blockchainexpedite.com\\xa0Tel:289-230-2178, Fax:\\xa0 905-318-778422 Erminia Crt, Hamilton ON, L8W3K1MC#123203\\xa0\\xa0 DOT 3177098\\xa0\\xa0\\xa0 EIN 98-1445995 \\xa0\\xa0www.blockchainexpedite.com\\xa0From: Customer Support [mailto:service@customscity.com] Sent: January 24, 2023 6:33 PMTo: BLOCKCHAIN EXPEDITE INC <bids@blockchainexpedite.com>Subject: Re:[## 106067 ##] request ACI form for PARS: 74EZ PARS 002272 PORT: ___Queenston - Lewiston ON 0427_DATE: ___January 24, 2023__TIME: ____18:00 _____ _______\\xa0Good afternoon.\\xa0\\xa0\\xa0Could you please send the information of your shipper and consignee to be able to make your manifest?\\xa0\\xa0\\xa0\\xa0Best regards!Customer\\xa0 Support Specialist1-888-724-8914 x1\\xa0|\\xa0+1-289-732-2010service@customscity.comwww.customscity.com1315 Pickering Pkwy, Suite 300, Pickering, Ontario, L1V 7G5Schedule a Meeting Here\\xa0---- On \\xa0Tue, 24 Jan 2023 07:25:02 -0600\\xa0\"BLOCKCHAIN EXPEDITE INC \"<bids@blockchainexpedite.com>\\xa0 wrote ---- Hello,\\xa0Please find attached request ACI form for PARS: 74EZ PARS 002272\\xa0crossing. \\xa0PORT: ___Queenston – Lewiston ON 0427_____ \\xa0DATE: \\xa0___January 24, 2023_____\\xa0TIME:\\xa0 ____18:00 _____ \\xa0Send ACE Manifest to :\\xa0 bids@blockchainexpedite.com ;\\xa0 richard@blockchainexpedite.com\\xa0\\xa0\\xa0Thank you\\xa0Richard Politewiczrichard@blockchainexpedite.com\\xa0Joe Bodyjoe@blockchainexpedite.com\\xa0Tel:289-230-2178, Fax:\\xa0 905-318-778422 Erminia Crt, Hamilton ON, L8W3K1MC#123203\\xa0\\xa0 DOT 3177098\\xa0\\xa0\\xa0 EIN 98-1445995 \\xa0\\xa0www.blockchainexpedite.com\\xa0\\xa0\\xa0'}\n"
          ]
        },
        {
          "output_type": "stream",
          "name": "stderr",
          "text": [
            "Device set to use cpu\n",
            "/usr/local/lib/python3.11/dist-packages/transformers/pipelines/text_classification.py:106: UserWarning: `return_all_scores` is now deprecated,  if want a similar functionality use `top_k=None` instead of `return_all_scores=True` or `top_k=1` instead of `return_all_scores=False`.\n",
            "  warnings.warn(\n"
          ]
        },
        {
          "output_type": "stream",
          "name": "stdout",
          "text": [
            "\"BLOCKCHAIN EXPEDITE INC \"<bids@blockchainexpedite.com> to Customer Support\n",
            "Process completed\n",
            "joe <joe@blockchainexpedite.com> to service@customscity.com\n",
            "Expressed gratitude for cooperation.\n",
            "Tuesday, January 24 2023 05:00 PM\n",
            "ATTACHMENTS: 1674604738822006_2101365159.jpg, 1674604738855000_282144894.gif, 1674604738872000_612120879.jpg\n",
            "-------------------------------------------\n",
            "{'EMAIL_ID': 'AAMkAGQyMmM3MDQ0LWY5NjYtNDc5MC1hNjJlLTVlZGU5MGFmYzdlNABGAAAAAACtCn7TEPB5Tq88sJveFzQGBwCe2-NKKTJQR4kZovzjmBc-AAAAAAEMAACe2-NKKTJQR4kZovzjmBc-AAO9_MCGAAA=', 'CONVERSATION_ID': 'AAQkAGQyMmM3MDQ0LWY5NjYtNDc5MC1hNjJlLTVlZGU5MGFmYzdlNAAQAFQdtm6bcfhMhkS_t8jqFys=', 'SUBJECT': 'RE: [## 113668 ##]  Re:[## 113607 ##]  ACE Manifest request form for PAPS: BEIO 0022503 PORT: ___Detroit MI - 3801__DATE:  ____April  20,  2023___TIME: ____16:00_____ ____', 'SENDER': 'joe <joe@blockchainexpedite.com>', 'RECIPIENT': ['bids@blockchainexpedite.com', 'service@customscity.com', 'emanifest@customscity.com'], 'CC': [], 'DATE': 'Thursday, April 20 2023 06:26 PM', 'ATTACHMENTS': ['image001.jpg', 'image002.jpg', 'image003.png', 'image004.png', 'image005.png', 'image006.png', 'image007.png', 'image008.png', 'image009.png', 'image010.png', 'image011.png', 'image012.png', 'image003.png', 'image004.png', 'image005.png', 'image006.png', 'image007.png', 'image008.png', 'image009.png', 'image010.png', 'image011.png', 'image012.png', 'image013.gif', 'image014.jpg'], 'EMAIL_BODY': 'Hello team we have a new entry number in the system, please provide a new ce with the new paps.asap...Thank you\\xa0Mc123203 Blockchainexpedite\\xa0Have a great day!!Joe Body\\xa0 \\xa07163614662-------- Original message --------From: BLOCKCHAIN EXPEDITE INC <bids@blockchainexpedite.com> Date: 4/20/23 7:37 PM (GMT-05:00) To: service@customscity.com Cc: \\'joe\\' <joe@blockchainexpedite.com> Subject: RE: [## 113668 ##] Re:[## 113607 ##] ACE Manifest request form for PAPS: BEIO 0022503 PORT: ___Detroit MI - 3801__DATE: ____April 20, 2023___TIME: ____16:00_____ ____ Hi there,\\xa0URGENT ,\\xa0Please use this new PAPS #\\xa0 and make up a new ACE Manifest as soon as humanly possible\\xa0 J\\xa0\\xa0Thank you\\xa0Richard Politewiczrichard@blockchainexpedite.com\\xa0Joe Bodyjoe@blockchainexpedite.com\\xa0Tel:289-230-2178, Fax:\\xa0 905-318-778422 Erminia Crt, Hamilton ON, L8W3K1MC#123203\\xa0\\xa0 DOT 3177098\\xa0\\xa0\\xa0 EIN 98-1445995 \\xa0\\xa0www.blockchainexpedite.com\\xa0From: Customer Support [mailto:service@customscity.com] Sent: April 20, 2023 7:07 PMTo: bids <bids@blockchainexpedite.com>Cc: blockchain expedite inc <bids@blockchainexpedite.com>Subject: Re:[## 113668 ##] Re:[## 113607 ##] ACE Manifest request form for PAPS: BEIO 0022503 PORT: ___Detroit MI - 3801__DATE: ____April 20, 2023___TIME: ____16:00_____ ____\\xa0HelloThe trip got rejected by CBP,\\xa0 this PAPS is already registered in their system with this SCAC.\\xa0You would have to get a new PAPS for this manifest.\\xa0\\xa0 \\xa0 \\xa0 Customer Support Specialist \\xa0\\xa0 \\xa0 1-888-724-8914 \\xa0\\xa0 \\xa0 \\xa0 \\xa0 1-888-724-8914 \\xa0 \\xa0 service@customscity.com \\xa0\\xa0 \\xa0 www.customscity.com \\xa0\\xa0 1315 Pickering Pkwy Suite 300 Pickering, ON L1V 7G5. \\xa0 \\xa0 \\xa0 \\xa0 \\xa0 \\xa0 \\xa0 \\xa0\\xa0\\xa0\\xa0\\xa0---- On \\xa0Thu, 20 Apr 2023 16:36:38 -0600\\xa0\"bids\"<bids@blockchainexpedite.com>\\xa0 wrote ---- Hello team,please send ace manifest asap i am at the border with a hot shipment, there is entry number in the system for the past hour and i cannot cross!!\\xa0\\xa0Mc123203 Blockchainexpedite\\xa0\\xa0\\xa0\\xa0Have a great day!!\\xa0Joe Body\\xa0 \\xa07163614662\\xa0\\xa0-------- Original message --------From: Customer Support <service@customscity.com> Date: 4/20/23 3:11 PM (GMT-05:00) To: BLOCKCHAIN EXPEDITE INC <bids@blockchainexpedite.com> Subject: Re:[## 113607 ##] ACE Manifest request form for PAPS: BEIO 0022503 PORT: ___Detroit MI - 3801__DATE: ____April 20, 2023___TIME: ____16:00_____ ____ \\xa0We working on your request.\\xa0\\xa0\\xa0\\xa0Customer Support Specialist\\xa0\\xa0\\xa0\\xa0\\xa01-888-724-8914\\xa0\\xa0\\xa0\\xa0\\xa0\\xa0\\xa0\\xa0\\xa0\\xa01-888-724-8914\\xa0\\xa0\\xa0\\xa0service@customscity.com\\xa0\\xa0\\xa0\\xa0\\xa0www.customscity.com\\xa0\\xa0\\xa01315 Pickering Pkwy Suite 300 Pickering, ON L1V 7G5.\\xa0\\xa0 \\xa0 \\xa0\\xa0\\xa0\\xa0\\xa0\\xa0\\xa0\\xa0\\xa0\\xa0---- On \\xa0Thu, 20 Apr 2023 09:34:22 -0600\\xa0\"BLOCKCHAIN EXPEDITE INC \"<bids@blockchainexpedite.com>\\xa0 wrote ---- Hello,\\xa0Please find attached ACE Manifest request form for PAPS: BEIO 0022503 \\xa0crossing. \\xa0PORT: ___Detroit MI - 3801_____ \\xa0DATE: \\xa0____April\\xa0 20,\\xa0 2023____\\xa0TIME:\\xa0 ____16:00_____ \\xa0Send ACE Manifest to :\\xa0 bids@blockchainexpedite.com ;\\xa0 richard@blockchainexpedite.com\\xa0\\xa0Thank you\\xa0Richard Politewiczrichard@blockchainexpedite.com\\xa0Joe Bodyjoe@blockchainexpedite.com\\xa0Tel:289-230-2178, Fax:\\xa0 905-318-778422 Erminia Crt, Hamilton ON, L8W3K1MC#123203\\xa0\\xa0 DOT 3177098\\xa0\\xa0\\xa0 EIN 98-1445995 \\xa0\\xa0www.blockchainexpedite.com\\xa0\\xa0\\xa0\\xa0'}\n"
          ]
        },
        {
          "output_type": "stream",
          "name": "stderr",
          "text": [
            "Device set to use cpu\n",
            "/usr/local/lib/python3.11/dist-packages/transformers/pipelines/text_classification.py:106: UserWarning: `return_all_scores` is now deprecated,  if want a similar functionality use `top_k=None` instead of `return_all_scores=True` or `top_k=1` instead of `return_all_scores=False`.\n",
            "  warnings.warn(\n"
          ]
        },
        {
          "output_type": "stream",
          "name": "stdout",
          "text": [
            "\"BLOCKCHAIN EXPEDITE INC \"<bids@blockchainexpedite.com> to Customer Support\n",
            "In progress\n",
            "joe <joe@blockchainexpedite.com> to bids@blockchainexpedite.com, service@customscity.com, emanifest@customscity.com\n",
            "Requested a required document to continue the request process.\n",
            "Thursday, April 20 2023 06:26 PM\n",
            "ATTACHMENTS: image001.jpg, image002.jpg, image003.png, image004.png, image005.png, image006.png, image007.png, image008.png, image009.png, image010.png, image011.png, image012.png, image003.png, image004.png, image005.png, image006.png, image007.png, image008.png, image009.png, image010.png, image011.png, image012.png, image013.gif, image014.jpg\n",
            "-------------------------------------------\n",
            "{'EMAIL_ID': 'AAMkAGQyMmM3MDQ0LWY5NjYtNDc5MC1hNjJlLTVlZGU5MGFmYzdlNABGAAAAAACtCn7TEPB5Tq88sJveFzQGBwCe2-NKKTJQR4kZovzjmBc-AAAAAAEMAACe2-NKKTJQR4kZovzjmBc-AAO9_MCJAAA=', 'CONVERSATION_ID': 'AAQkAGQyMmM3MDQ0LWY5NjYtNDc5MC1hNjJlLTVlZGU5MGFmYzdlNAAQAFQdtm6bcfhMhkS_t8jqFys=', 'SUBJECT': 'Re:[## 113668 ##]  Re:[## 113607 ##]  ACE Manifest request form for PAPS: BEIO 0022503 PORT: ___Detroit MI - 3801__DATE:  ____April  20,  2023___TIME: ____16:00_____ ____', 'SENDER': 'joe <joe@blockchainexpedite.com>', 'RECIPIENT': ['service@customscity.com', 'emanifest@customscity.com', 'bids@blockchainexpedite.com'], 'CC': ['blockchain expedite inc <bids@blockchainexpedite.com>', 'eManifest <emanifest@customscity.com>'], 'DATE': 'Thursday, April 20 2023 07:28 PM', 'ATTACHMENTS': ['1682040430778000_200621128.png', '1682040430802005_1025940350.png', '1682040430823000_307057626.png', '1682040430846000_200621128.png', '1682040430868004_1025940350.png', '1682040430888000_307057626.png', '1682040430917000_200621128.png', '1682040430949000_1025940350.png', '1682040430968000_307057626.png', '1682040431005000_200621128.png', '1682040431037000_1025940350.jpg', '1682040431052000_307057626.jpg', '1682040431072000_200621128.png', '1682040431093000_1025940350.png', '1682040431109001_307057626.png', '1682040431129000_200621128.png', '1682040431149001_1025940350.png', '1682040431164000_307057626.png', '1682040431183000_200621128.png', '1682040431201000_1025940350.png', '1682040431216005_307057626.png', '1682040431235004_200621128.png', '1682040431254000_1025940350.png', '1682040431271000_307057626.png', '1682040431288000_200621128.png', '1682040431308005_1025940350.png', '1682040431322006_307057626.png', '1682040431340002_200621128.png', '1682040431362002_1025940350.png', '1682040431377000_307057626.png', '1682040431394000_200621128.png', '1682040431411000_1025940350.png', '1682040431425007_307057626.gif', '1682040431452000_200621128.jpg'], 'EMAIL_BODY': 'Hello team please send me that ace manifest, i am already 3 hours late for delivery.\\xa0 Thank youMc123203 Blockchainexpedite\\xa0Have a great day!!Joe Body\\xa0 \\xa07163614662-------- Original message --------From: Customer Support <service@customscity.com> Date: 4/20/23 9:27 PM (GMT-05:00) To: joe <joe@blockchainexpedite.com> Cc: blockchain expedite inc <bids@blockchainexpedite.com>, emanifest@customscity.com, joe <joe@blockchainexpedite.com> Subject: Re:[## 113668 ##] Re:[## 113607 ##] ACE Manifest request form for PAPS: BEIO 0022503 PORT: ___Detroit MI - 3801__DATE: ____April 20, 2023___TIME: ____16:00_____ ____ Hello\\xa0We are working on the change.\\xa0 \\xa0 \\xa0  \\xa0 Customer Support Specialist \\xa0  \\xa0 1-888-724-8914 \\xa0\\xa0 \\xa0 \\xa0  \\xa0 1-888-724-8914 \\xa0  \\xa0 service@customscity.com \\xa0\\xa0 \\xa0 www.customscity.com \\xa0\\xa0 1315 Pickering Pkwy Suite 300 Pickering, ON L1V 7G5. \\xa0 \\xa0 \\xa0 \\xa0  \\xa0  \\xa0  \\xa0  ---- On \\xa0Thu, 20 Apr 2023 19:26:14 -0600\\xa0\"joe\"<joe@blockchainexpedite.com>\\xa0 wrote ---- Hello team we have a new entry number in the system, please provide a new ce with the new paps.asap...Thank you\\xa0Mc123203 Blockchainexpedite\\xa0Have a great day!!Joe Body\\xa0 \\xa07163614662-------- Original message --------From: BLOCKCHAIN EXPEDITE INC <bids@blockchainexpedite.com> Date: 4/20/23 7:37 PM (GMT-05:00) To: service@customscity.com Cc: \\'joe\\' <joe@blockchainexpedite.com> Subject: RE: [## 113668 ##] Re:[## 113607 ##] ACE Manifest request form for PAPS: BEIO 0022503 PORT: ___Detroit MI - 3801__DATE: ____April 20, 2023___TIME: ____16:00_____ ____ Hi there,\\xa0URGENT ,\\xa0Please use this new PAPS #\\xa0 and make up a new ACE Manifest as soon as humanly possible\\xa0 J\\xa0\\xa0Thank you\\xa0Richard Politewiczrichard@blockchainexpedite.com\\xa0Joe Bodyjoe@blockchainexpedite.com\\xa0Tel:289-230-2178, Fax:\\xa0 905-318-778422 Erminia Crt, Hamilton ON, L8W3K1MC#123203\\xa0\\xa0 DOT 3177098\\xa0\\xa0\\xa0 EIN 98-1445995 \\xa0\\xa0www.blockchainexpedite.com\\xa0From: Customer Support [mailto:service@customscity.com] Sent: April 20, 2023 7:07 PMTo: bids <bids@blockchainexpedite.com>Cc: blockchain expedite inc <bids@blockchainexpedite.com>Subject: Re:[## 113668 ##] Re:[## 113607 ##] ACE Manifest request form for PAPS: BEIO 0022503 PORT: ___Detroit MI - 3801__DATE: ____April 20, 2023___TIME: ____16:00_____ ____\\xa0HelloThe trip got rejected by CBP,\\xa0 this PAPS is already registered in their system with this SCAC.\\xa0You would have to get a new PAPS for this manifest.\\xa0\\xa0 \\xa0 \\xa0 Customer Support Specialist \\xa0\\xa0 \\xa0 1-888-724-8914 \\xa0\\xa0 \\xa0 \\xa0 \\xa0 1-888-724-8914 \\xa0 \\xa0 service@customscity.com \\xa0\\xa0 \\xa0 www.customscity.com \\xa0\\xa0 1315 Pickering Pkwy Suite 300 Pickering, ON L1V 7G5. \\xa0 \\xa0 \\xa0 \\xa0 \\xa0 \\xa0 \\xa0 \\xa0\\xa0\\xa0\\xa0\\xa0---- On \\xa0Thu, 20 Apr 2023 16:36:38 -0600\\xa0\"bids\"<bids@blockchainexpedite.com>\\xa0 wrote ---- Hello team,please send ace manifest asap i am at the border with a hot shipment, there is entry number in the system for the past hour and i cannot cross!!\\xa0\\xa0Mc123203 Blockchainexpedite\\xa0\\xa0\\xa0\\xa0Have a great day!!\\xa0Joe Body\\xa0 \\xa07163614662\\xa0\\xa0-------- Original message --------From: Customer Support <service@customscity.com> Date: 4/20/23 3:11 PM (GMT-05:00) To: BLOCKCHAIN EXPEDITE INC <bids@blockchainexpedite.com> Subject: Re:[## 113607 ##] ACE Manifest request form for PAPS: BEIO 0022503 PORT: ___Detroit MI - 3801__DATE: ____April 20, 2023___TIME: ____16:00_____ ____ \\xa0We working on your request.\\xa0\\xa0\\xa0\\xa0Customer Support Specialist\\xa0\\xa0\\xa0\\xa0\\xa01-888-724-8914\\xa0\\xa0\\xa0\\xa0\\xa0\\xa0\\xa0\\xa0\\xa0\\xa01-888-724-8914\\xa0\\xa0\\xa0\\xa0service@customscity.com\\xa0\\xa0\\xa0\\xa0\\xa0www.customscity.com\\xa0\\xa0\\xa01315 Pickering Pkwy Suite 300 Pickering, ON L1V 7G5.\\xa0\\xa0 \\xa0 \\xa0\\xa0\\xa0\\xa0\\xa0\\xa0\\xa0\\xa0\\xa0\\xa0---- On \\xa0Thu, 20 Apr 2023 09:34:22 -0600\\xa0\"BLOCKCHAIN EXPEDITE INC \"<bids@blockchainexpedite.com>\\xa0 wrote ---- Hello,\\xa0Please find attached ACE Manifest request form for PAPS: BEIO 0022503 \\xa0crossing. \\xa0PORT: ___Detroit MI - 3801_____ \\xa0DATE: \\xa0____April\\xa0 20,\\xa0 2023____\\xa0TIME:\\xa0 ____16:00_____ \\xa0Send ACE Manifest to :\\xa0 bids@blockchainexpedite.com ;\\xa0 richard@blockchainexpedite.com\\xa0\\xa0Thank you\\xa0Richard Politewiczrichard@blockchainexpedite.com\\xa0Joe Bodyjoe@blockchainexpedite.com\\xa0Tel:289-230-2178, Fax:\\xa0 905-318-778422 Erminia Crt, Hamilton ON, L8W3K1MC#123203\\xa0\\xa0 DOT 3177098\\xa0\\xa0\\xa0 EIN 98-1445995 \\xa0\\xa0www.blockchainexpedite.com\\xa0\\xa0\\xa0\\xa0'}\n"
          ]
        },
        {
          "output_type": "stream",
          "name": "stderr",
          "text": [
            "Device set to use cpu\n",
            "/usr/local/lib/python3.11/dist-packages/transformers/pipelines/text_classification.py:106: UserWarning: `return_all_scores` is now deprecated,  if want a similar functionality use `top_k=None` instead of `return_all_scores=True` or `top_k=1` instead of `return_all_scores=False`.\n",
            "  warnings.warn(\n"
          ]
        },
        {
          "output_type": "stream",
          "name": "stdout",
          "text": [
            "\"BLOCKCHAIN EXPEDITE INC \"<bids@blockchainexpedite.com> to Customer Support\n",
            "In progress\n",
            "joe <joe@blockchainexpedite.com> to service@customscity.com, emanifest@customscity.com, bids@blockchainexpedite.com\n",
            "Requested a required document to continue the request process.\n",
            "Thursday, April 20 2023 07:28 PM\n",
            "ATTACHMENTS: 1682040430778000_200621128.png, 1682040430802005_1025940350.png, 1682040430823000_307057626.png, 1682040430846000_200621128.png, 1682040430868004_1025940350.png, 1682040430888000_307057626.png, 1682040430917000_200621128.png, 1682040430949000_1025940350.png, 1682040430968000_307057626.png, 1682040431005000_200621128.png, 1682040431037000_1025940350.jpg, 1682040431052000_307057626.jpg, 1682040431072000_200621128.png, 1682040431093000_1025940350.png, 1682040431109001_307057626.png, 1682040431129000_200621128.png, 1682040431149001_1025940350.png, 1682040431164000_307057626.png, 1682040431183000_200621128.png, 1682040431201000_1025940350.png, 1682040431216005_307057626.png, 1682040431235004_200621128.png, 1682040431254000_1025940350.png, 1682040431271000_307057626.png, 1682040431288000_200621128.png, 1682040431308005_1025940350.png, 1682040431322006_307057626.png, 1682040431340002_200621128.png, 1682040431362002_1025940350.png, 1682040431377000_307057626.png, 1682040431394000_200621128.png, 1682040431411000_1025940350.png, 1682040431425007_307057626.gif, 1682040431452000_200621128.jpg\n",
            "-------------------------------------------\n",
            "{'EMAIL_ID': 'AAMkAGQyMmM3MDQ0LWY5NjYtNDc5MC1hNjJlLTVlZGU5MGFmYzdlNABGAAAAAACtCn7TEPB5Tq88sJveFzQGBwCe2-NKKTJQR4kZovzjmBc-AAAAAAEMAACe2-NKKTJQR4kZovzjmBc-AAO9_MCNAAA=', 'CONVERSATION_ID': 'AAQkAGQyMmM3MDQ0LWY5NjYtNDc5MC1hNjJlLTVlZGU5MGFmYzdlNAAQAPcVqNm8VBlDuY4gQLiQHqg=', 'SUBJECT': 'Re:[## 113715 ##]  Re:[## 113668 ##]  Re:[## 113607 ##]  ACE Manifest request form for PAPS: BEIO 0022503 PORT: ___Detroit MI - 3801__DATE:  ____April  20, 2023___TIME: ____16:00_____ ____', 'SENDER': 'joe <joe@blockchainexpedite.com>', 'RECIPIENT': ['service@customscity.com', 'bids@blockchainexpedite.com'], 'CC': ['eManifest <emanifest@customscity.com>'], 'DATE': 'Thursday, April 20 2023 07:49 PM', 'ATTACHMENTS': ['1682044493538000_200621128.png', '1682044493606000_1025940350.png', '1682044493628000_307057626.png', '1682044493657003_200621128.png', '1682044493680009_1025940350.png', '1682044493700000_307057626.png', '1682044493727008_200621128.png', '1682044493751003_1025940350.png', '1682044493776000_307057626.png', '1682044493801000_200621128.png', '1682044493817002_1025940350.png', '1682044493833000_307057626.png', '1682044493849000_200621128.png', '1682044493867000_1025940350.png', '1682044493882000_307057626.jpg', '1682044493898000_200621128.jpg', '1682044493917007_1025940350.png', '1682044493935000_307057626.png', '1682044493951000_200621128.png', '1682044493967001_1025940350.png', '1682044493981001_307057626.png', '1682044493997000_200621128.png', '1682044494016000_1025940350.png', '1682044494036000_200621128.png', '1682044494059001_1025940350.png', '1682044494078000_307057626.png', '1682044494095001_200621128.png', '1682044494114002_1025940350.png', '1682044494128000_307057626.png', '1682044494151000_200621128.png'], 'EMAIL_BODY': 'Thank youHave a great day!!Joe Body\\xa0 \\xa07163614662-------- Original message --------From: Customer Support <service@customscity.com> Date: 4/20/23 10:34 PM (GMT-05:00) To: bids <bids@blockchainexpedite.com> Cc: joe <joe@blockchainexpedite.com>, blockchain expedite inc <bids@blockchainexpedite.com>, emanifest@customscity.com Subject: Re:[## 113715 ##] Re:[## 113668 ##] Re:[## 113607 ##] ACE Manifest request form for PAPS: BEIO 0022503 PORT: ___Detroit MI - 3801__DATE: ____April 20, 2023___TIME: ____16:00_____ ____ Attached is cover sheet, we apologize for the delay CBP is having issues with their network.https://content.govdelivery.com/bulletins/gd/USDHSCBP-356322a?wgt_ref=USDHSCBP_WIDGET_2Regards.\\xa0 \\xa0 \\xa0  \\xa0 Customer Support Specialist \\xa0  \\xa0 1-888-724-8914 \\xa0\\xa0 \\xa0 \\xa0  \\xa0 1-888-724-8914 \\xa0  \\xa0 service@customscity.com \\xa0\\xa0 \\xa0 www.customscity.com \\xa0\\xa0 1315 Pickering Pkwy Suite 300 Pickering, ON L1V 7G5. \\xa0 \\xa0 \\xa0 \\xa0  \\xa0  \\xa0  \\xa0  ---- On \\xa0Thu, 20 Apr 2023 20:06:36 -0600\\xa0\"bids\"<bids@blockchainexpedite.com>\\xa0 wrote ---- How much longer is this going to take?\\xa0\\xa0Mc123203 Blockchainexpedite\\xa0Have a great day!!Joe Body\\xa0 \\xa07163614662-------- Original message --------From: Customer Support <service@customscity.com> Date: 4/20/23 9:27 PM (GMT-05:00) To: joe <joe@blockchainexpedite.com> Cc: blockchain expedite inc <bids@blockchainexpedite.com>, emanifest@customscity.com, joe <joe@blockchainexpedite.com> Subject: Re:[## 113668 ##] Re:[## 113607 ##] ACE Manifest request form for PAPS: BEIO 0022503 PORT: ___Detroit MI - 3801__DATE: ____April 20, 2023___TIME: ____16:00_____ ____ Hello\\xa0We are working on the change.\\xa0 \\xa0 \\xa0 \\xa0 Customer Support Specialist \\xa0  \\xa0 1-888-724-8914 \\xa0\\xa0 \\xa0 \\xa0  \\xa0 1-888-724-8914 \\xa0 \\xa0 service@customscity.com \\xa0\\xa0 \\xa0 www.customscity.com \\xa0\\xa0 1315 Pickering Pkwy Suite 300 Pickering, ON L1V 7G5. \\xa0 \\xa0 \\xa0 \\xa0 \\xa0 \\xa0  \\xa0  ---- On \\xa0Thu, 20 Apr 2023 19:26:14 -0600\\xa0\"joe\"<joe@blockchainexpedite.com>\\xa0 wrote ---- Hello team we have a new entry number in the system, please provide a new ce with the new paps.asap...Thank you\\xa0Mc123203 Blockchainexpedite\\xa0Have a great day!!Joe Body\\xa0 \\xa07163614662-------- Original message --------From: BLOCKCHAIN EXPEDITE INC <bids@blockchainexpedite.com> Date: 4/20/23 7:37 PM (GMT-05:00) To: service@customscity.com Cc: \\'joe\\' <joe@blockchainexpedite.com> Subject: RE: [## 113668 ##] Re:[## 113607 ##] ACE Manifest request form for PAPS: BEIO 0022503 PORT: ___Detroit MI - 3801__DATE: ____April 20, 2023___TIME: ____16:00_____ ____ Hi there,\\xa0URGENT ,\\xa0Please use this new PAPS #\\xa0 and make up a new ACE Manifest as soon as humanly possible\\xa0 J\\xa0\\xa0Thank you\\xa0Richard Politewiczrichard@blockchainexpedite.com\\xa0Joe Bodyjoe@blockchainexpedite.com\\xa0Tel:289-230-2178, Fax:\\xa0 905-318-778422 Erminia Crt, Hamilton ON, L8W3K1MC#123203\\xa0\\xa0 DOT 3177098\\xa0\\xa0\\xa0 EIN 98-1445995 \\xa0\\xa0www.blockchainexpedite.com\\xa0From: Customer Support [mailto:service@customscity.com] Sent: April 20, 2023 7:07 PMTo: bids <bids@blockchainexpedite.com>Cc: blockchain expedite inc <bids@blockchainexpedite.com>Subject: Re:[## 113668 ##] Re:[## 113607 ##] ACE Manifest request form for PAPS: BEIO 0022503 PORT: ___Detroit MI - 3801__DATE: ____April 20, 2023___TIME: ____16:00_____ ____\\xa0HelloThe trip got rejected by CBP,\\xa0 this PAPS is already registered in their system with this SCAC.\\xa0You would have to get a new PAPS for this manifest.\\xa0\\xa0 \\xa0 \\xa0 Customer Support Specialist \\xa0\\xa0 \\xa0 1-888-724-8914 \\xa0\\xa0 \\xa0 \\xa0 \\xa0 1-888-724-8914 \\xa0 \\xa0 service@customscity.com \\xa0\\xa0 \\xa0 www.customscity.com \\xa0\\xa0 1315 Pickering Pkwy Suite 300 Pickering, ON L1V 7G5. \\xa0 \\xa0 \\xa0 \\xa0 \\xa0 \\xa0 \\xa0 \\xa0\\xa0\\xa0\\xa0\\xa0---- On \\xa0Thu, 20 Apr 2023 16:36:38 -0600\\xa0\"bids\"<bids@blockchainexpedite.com>\\xa0 wrote ---- Hello team,please send ace manifest asap i am at the border with a hot shipment, there is entry number in the system for the past hour and i cannot cross!!\\xa0\\xa0Mc123203 Blockchainexpedite\\xa0\\xa0\\xa0\\xa0Have a great day!!\\xa0Joe Body\\xa0 \\xa07163614662\\xa0\\xa0-------- Original message --------From: Customer Support <service@customscity.com> Date: 4/20/23 3:11 PM (GMT-05:00) To: BLOCKCHAIN EXPEDITE INC <bids@blockchainexpedite.com> Subject: Re:[## 113607 ##] ACE Manifest request form for PAPS: BEIO 0022503 PORT: ___Detroit MI - 3801__DATE: ____April 20, 2023___TIME: ____16:00_____ ____ \\xa0We working on your request.\\xa0\\xa0\\xa0\\xa0Customer Support Specialist\\xa0\\xa0\\xa0\\xa0\\xa01-888-724-8914\\xa0\\xa0\\xa0\\xa0\\xa0\\xa0\\xa0\\xa0\\xa0\\xa01-888-724-8914\\xa0\\xa0\\xa0\\xa0service@customscity.com\\xa0\\xa0\\xa0\\xa0\\xa0www.customscity.com\\xa0\\xa0\\xa01315 Pickering Pkwy Suite 300 Pickering, ON L1V 7G5.\\xa0\\xa0 \\xa0 \\xa0\\xa0\\xa0\\xa0\\xa0\\xa0\\xa0\\xa0\\xa0\\xa0---- On \\xa0Thu, 20 Apr 2023 09:34:22 -0600\\xa0\"BLOCKCHAIN EXPEDITE INC \"<bids@blockchainexpedite.com>\\xa0 wrote ---- Hello,\\xa0Please find attached ACE Manifest request form for PAPS: BEIO 0022503 \\xa0crossing. \\xa0PORT: ___Detroit MI - 3801_____ \\xa0DATE: \\xa0____April\\xa0 20,\\xa0 2023____\\xa0TIME:\\xa0 ____16:00_____ \\xa0Send ACE Manifest to :\\xa0 bids@blockchainexpedite.com ;\\xa0 richard@blockchainexpedite.com\\xa0\\xa0Thank you\\xa0Richard Politewiczrichard@blockchainexpedite.com\\xa0Joe Bodyjoe@blockchainexpedite.com\\xa0Tel:289-230-2178, Fax:\\xa0 905-318-778422 Erminia Crt, Hamilton ON, L8W3K1MC#123203\\xa0\\xa0 DOT 3177098\\xa0\\xa0\\xa0 EIN 98-1445995 \\xa0\\xa0www.blockchainexpedite.com\\xa0\\xa0\\xa0\\xa0'}\n"
          ]
        },
        {
          "output_type": "stream",
          "name": "stderr",
          "text": [
            "Device set to use cpu\n",
            "/usr/local/lib/python3.11/dist-packages/transformers/pipelines/text_classification.py:106: UserWarning: `return_all_scores` is now deprecated,  if want a similar functionality use `top_k=None` instead of `return_all_scores=True` or `top_k=1` instead of `return_all_scores=False`.\n",
            "  warnings.warn(\n"
          ]
        },
        {
          "output_type": "stream",
          "name": "stdout",
          "text": [
            "\"BLOCKCHAIN EXPEDITE INC \"<bids@blockchainexpedite.com> to Customer Support\n",
            "Process completed\n",
            "joe <joe@blockchainexpedite.com> to service@customscity.com, bids@blockchainexpedite.com\n",
            "Expressed gratitude for cooperation.\n",
            "Thursday, April 20 2023 07:49 PM\n",
            "ATTACHMENTS: 1682044493538000_200621128.png, 1682044493606000_1025940350.png, 1682044493628000_307057626.png, 1682044493657003_200621128.png, 1682044493680009_1025940350.png, 1682044493700000_307057626.png, 1682044493727008_200621128.png, 1682044493751003_1025940350.png, 1682044493776000_307057626.png, 1682044493801000_200621128.png, 1682044493817002_1025940350.png, 1682044493833000_307057626.png, 1682044493849000_200621128.png, 1682044493867000_1025940350.png, 1682044493882000_307057626.jpg, 1682044493898000_200621128.jpg, 1682044493917007_1025940350.png, 1682044493935000_307057626.png, 1682044493951000_200621128.png, 1682044493967001_1025940350.png, 1682044493981001_307057626.png, 1682044493997000_200621128.png, 1682044494016000_1025940350.png, 1682044494036000_200621128.png, 1682044494059001_1025940350.png, 1682044494078000_307057626.png, 1682044494095001_200621128.png, 1682044494114002_1025940350.png, 1682044494128000_307057626.png, 1682044494151000_200621128.png\n",
            "-------------------------------------------\n",
            "{'EMAIL_ID': 'AAMkAGQyMmM3MDQ0LWY5NjYtNDc5MC1hNjJlLTVlZGU5MGFmYzdlNABGAAAAAACtCn7TEPB5Tq88sJveFzQGBwCe2-NKKTJQR4kZovzjmBc-AAAAAAEMAACe2-NKKTJQR4kZovzjmBc-AAPFB7i4AAA=', 'CONVERSATION_ID': 'AAQkAGQyMmM3MDQ0LWY5NjYtNDc5MC1hNjJlLTVlZGU5MGFmYzdlNAAQAFVn2LZqSQJMvG_hMw_htT8=', 'SUBJECT': 'Re:[## 114636 ##]  BEIO0023483.pdf', 'SENDER': 'joe <joe@blockchainexpedite.com>', 'RECIPIENT': ['service@customscity.com', 'bids@blockchainexpedite.com'], 'CC': ['eManifest <emanifest@customscity.com>'], 'DATE': 'Monday, May 01 2023 02:50 PM', 'ATTACHMENTS': None, 'EMAIL_BODY': 'Thank youMc123203 Blockchainexpedite\\xa0Have a great day!!Joe Body\\xa0 \\xa07163614662-------- Original message --------From: Customer Support <service@customscity.com> Date: 5/1/23 5:47 PM (GMT-05:00) To: bids <bids@blockchainexpedite.com> Cc: \\'joe\\' <joe@blockchainexpedite.com>, emanifest@customscity.com Subject: Re:[## 114636 ##] BEIO0023483.pdf Good afternoon.\\xa0Attached is your coversheet.\\xa0RegardsCustomer\\xa0 Support Specialist1-888-724-8914 x1 | +1 289-732-2010service@customscity.comwww.customscity.com1315 Pickering Pkwy, Suite 300, Pickering, Ontario, L1V 7G5Schedule a Meeting Here---- On \\xa0Mon, 1 May 2023 15:30:32 -0600\\xa0\"bids\"<bids@blockchainexpedite.com>\\xa0 wrote ---- Hello team please send me the ace manifest again, somehow it dissapeared from the email .Thank youMc123203 Blockchainexpedite\\xa0Have a great day!!Joe Body\\xa0 \\xa07163614662-------- Original message --------From: bids <bids@blockchainexpedite.com> Date: 5/1/23 3:25 PM (GMT-05:00) To: service@customscity.com Cc: emanifest@customscity.com Subject: Re:[## 114636 ##] BEIO0023483.pdf Thank youHave a great day!!Joe Body\\xa0 \\xa07163614662-------- Original message --------From: Customer Support <service@customscity.com> Date: 5/1/23 2:12 PM (GMT-05:00) To: service@customscity.com Cc: bids <bids@blockchainexpedite.com>, emanifest@customscity.com Subject: Re:[## 114636 ##] BEIO0023483.pdf Sorry Joe'}\n"
          ]
        },
        {
          "output_type": "stream",
          "name": "stderr",
          "text": [
            "Device set to use cpu\n",
            "/usr/local/lib/python3.11/dist-packages/transformers/pipelines/text_classification.py:106: UserWarning: `return_all_scores` is now deprecated,  if want a similar functionality use `top_k=None` instead of `return_all_scores=True` or `top_k=1` instead of `return_all_scores=False`.\n",
            "  warnings.warn(\n"
          ]
        },
        {
          "output_type": "stream",
          "name": "stdout",
          "text": [
            "Customer Support <service@customscity.com> to service@customscity.com\n",
            "Process completed\n",
            "joe <joe@blockchainexpedite.com> to service@customscity.com, bids@blockchainexpedite.com\n",
            "Expressed gratitude for cooperation.\n",
            "Monday, May 01 2023 02:50 PM\n",
            "ATTACHMENTS: None\n",
            "-------------------------------------------\n",
            "{'EMAIL_ID': 'AAMkAGQyMmM3MDQ0LWY5NjYtNDc5MC1hNjJlLTVlZGU5MGFmYzdlNABGAAAAAACtCn7TEPB5Tq88sJveFzQGBwCe2-NKKTJQR4kZovzjmBc-AAAAAAEMAACe2-NKKTJQR4kZovzjmBc-AAPNng2kAAA=', 'CONVERSATION_ID': 'AAQkAGQyMmM3MDQ0LWY5NjYtNDc5MC1hNjJlLTVlZGU5MGFmYzdlNAAQAFtlNrpqHsVAjqlWCJ8ZAzY=', 'SUBJECT': 'Re:[## 115585 ##]  E305124 Customs Documents.pdf', 'SENDER': 'joe <joe@blockchainexpedite.com>', 'RECIPIENT': ['service@customscity.com', 'bids@blockchainexpedite.com'], 'CC': ['eManifest <emanifest@customscity.com>'], 'DATE': 'Saturday, May 13 2023 03:16 PM', 'ATTACHMENTS': ['1684013784127000_1177414575.png', '1684013784152000_1025940350.png', '1684013784213008_307057626.png', '1684013784273000_1177414575.png', '1684013784334010_1025940350.png', '1684013784351002_307057626.png', '1684013784410000_1177414575.png', '1684013784460000_1025940350.png', '1684013784477000_307057626.png', '1684013784497000_1177414575.png'], 'EMAIL_BODY': \"Thank you very much!\\xa0 Have a nice weekend!!Have a great day!!Joe Body\\xa0 \\xa07163614662-------- Original message --------From: Customer Support <service@customscity.com> Date: 5/13/23 5:36 PM (GMT-05:00) To: bids <bids@blockchainexpedite.com> Cc: emanifest@customscity.com, 'joe' <joe@blockchainexpedite.com> Subject: Re:[## 115585 ##] E305124 Customs Documents.pdf I apologize for the last response. Our mistake:Attached is cover sheet.Regards \\xa0\\xa0\\xa0Customer Support Specialist\\xa0\\xa0\\xa0\\xa0\\xa01-888-724-8914\\xa0\\xa0\\xa0\\xa0\\xa0\\xa0\\xa0\\xa0\\xa0\\xa01-888-724-8914\\xa0\\xa0\\xa0\\xa0service@customscity.com\\xa0\\xa0\\xa0\\xa0\\xa0www.customscity.com\\xa0\\xa0\\xa01315 Pickering Pkwy Suite 300 Pickering, ON L1V 7G5.\\xa0\\xa0 \\xa0 \\xa0\\xa0\\xa0\\xa0\\xa0\\xa0\\xa0\\xa0\\xa0---- On \\xa0Sat, 13 May 2023 15:31:38 -0600\\xa0Customer Support<service@customscity.com>\\xa0 wrote ---- HelloWe will send the cover sheet as soon as the broker provides us th entry.Can you resend the port of landing please.\"}\n"
          ]
        },
        {
          "output_type": "stream",
          "name": "stderr",
          "text": [
            "Device set to use cpu\n",
            "/usr/local/lib/python3.11/dist-packages/transformers/pipelines/text_classification.py:106: UserWarning: `return_all_scores` is now deprecated,  if want a similar functionality use `top_k=None` instead of `return_all_scores=True` or `top_k=1` instead of `return_all_scores=False`.\n",
            "  warnings.warn(\n"
          ]
        },
        {
          "output_type": "stream",
          "name": "stdout",
          "text": [
            "Customer Support<service@customscity.com> to Customer Support\n",
            "Process completed\n",
            "joe <joe@blockchainexpedite.com> to service@customscity.com, bids@blockchainexpedite.com\n",
            "Expressed gratitude for cooperation.\n",
            "Saturday, May 13 2023 03:16 PM\n",
            "ATTACHMENTS: 1684013784127000_1177414575.png, 1684013784152000_1025940350.png, 1684013784213008_307057626.png, 1684013784273000_1177414575.png, 1684013784334010_1025940350.png, 1684013784351002_307057626.png, 1684013784410000_1177414575.png, 1684013784460000_1025940350.png, 1684013784477000_307057626.png, 1684013784497000_1177414575.png\n",
            "-------------------------------------------\n",
            "{'EMAIL_ID': 'AAMkAGQyMmM3MDQ0LWY5NjYtNDc5MC1hNjJlLTVlZGU5MGFmYzdlNABGAAAAAACtCn7TEPB5Tq88sJveFzQGBwCe2-NKKTJQR4kZovzjmBc-AAAAAAEMAACe2-NKKTJQR4kZovzjmBc-AAP8o9EGAAA=', 'CONVERSATION_ID': 'AAQkAGQyMmM3MDQ0LWY5NjYtNDc5MC1hNjJlLTVlZGU5MGFmYzdlNAAQAGLsGKo83b5Hr1BFLNSJeVU=', 'SUBJECT': 'Re:[## 121947 ##]  PAPS # BEIO 0023973.pdf', 'SENDER': 'joe <joe@blockchainexpedite.com>', 'RECIPIENT': ['service@customscity.com', 'bids@blockchainexpedite.com'], 'CC': ['eManifest <emanifest@customscity.com>'], 'DATE': 'Monday, July 24 2023 02:48 PM', 'ATTACHMENTS': ['1690235081121000_1947901426.png', '1690235081153000_1021664414.png', '1690235081224000_1947901426.png', '1690235081290001_1021664414.png', '1690235081382000_1874549280.png', '1690235081406000_1947901426.png', '1690235081472000_1021664414.png', '1690235081501005_1874549280.png', '1690235081529001_1947901426.png', '1690235081558001_1021664414.png'], 'EMAIL_BODY': 'Thank youMc123203 Blockchainexpedite\\xa0Have a great day!!Joe Body\\xa0 \\xa07163614662-------- Original message --------From: Customer Support <service@customscity.com> Date: 7/24/23 5:44 PM (GMT-05:00) To: bids <bids@blockchainexpedite.com> Cc: emanifest@customscity.com, \\'joe\\' <joe@blockchainexpedite.com> Subject: Re:[## 121947 ##] PAPS # BEIO 0023973.pdf Hello\\xa0Attached is cover sheet.Have a nice day!\\xa0 \\xa0 \\xa0  \\xa0 Customer Support Specialist \\xa0  \\xa0 1-888-724-8914 \\xa0\\xa0 \\xa0 \\xa0  \\xa0 1-888-724-8914 \\xa0  \\xa0 service@customscity.com \\xa0\\xa0 \\xa0 www.customscity.com \\xa0\\xa0 1315 Pickering Pkwy Suite 300 Pickering, ON L1V 7G5. \\xa0 \\xa0 \\xa0 \\xa0  \\xa0  \\xa0  \\xa0  ---- On \\xa0Mon, 24 Jul 2023 15:30:16 -0600\\xa0\"bids\"<bids@blockchainexpedite.com>\\xa0 wrote ---- Good evening team please provide ace for this shipment\\xa0Driver Josif Body\\xa0Unit 402 AX76174 ON\\xa0Broker Expeditor, papers sentvalreadyCrossing Port Huron MiTrip 40224072023Thank youMc123203 Blockchainexpedite\\xa0Have a great day!!Joe Body\\xa0 \\xa07163614662'}\n"
          ]
        },
        {
          "output_type": "stream",
          "name": "stderr",
          "text": [
            "Device set to use cpu\n",
            "/usr/local/lib/python3.11/dist-packages/transformers/pipelines/text_classification.py:106: UserWarning: `return_all_scores` is now deprecated,  if want a similar functionality use `top_k=None` instead of `return_all_scores=True` or `top_k=1` instead of `return_all_scores=False`.\n",
            "  warnings.warn(\n"
          ]
        },
        {
          "output_type": "stream",
          "name": "stdout",
          "text": [
            "\"bids\"<bids@blockchainexpedite.com> to Customer Support\n",
            "Process completed\n",
            "joe <joe@blockchainexpedite.com> to service@customscity.com, bids@blockchainexpedite.com\n",
            "Expressed gratitude for cooperation.\n",
            "Monday, July 24 2023 02:48 PM\n",
            "ATTACHMENTS: 1690235081121000_1947901426.png, 1690235081153000_1021664414.png, 1690235081224000_1947901426.png, 1690235081290001_1021664414.png, 1690235081382000_1874549280.png, 1690235081406000_1947901426.png, 1690235081472000_1021664414.png, 1690235081501005_1874549280.png, 1690235081529001_1947901426.png, 1690235081558001_1021664414.png\n",
            "-------------------------------------------\n",
            "{'EMAIL_ID': 'AAMkAGQyMmM3MDQ0LWY5NjYtNDc5MC1hNjJlLTVlZGU5MGFmYzdlNABGAAAAAACtCn7TEPB5Tq88sJveFzQGBwCe2-NKKTJQR4kZovzjmBc-AAAAAAEMAACe2-NKKTJQR4kZovzjmBc-AAQGKvQ8AAA=', 'CONVERSATION_ID': 'AAQkAGQyMmM3MDQ0LWY5NjYtNDc5MC1hNjJlLTVlZGU5MGFmYzdlNAAQAFwD3SjdqnFMmRobrkXogkw=', 'SUBJECT': 'RE: BEIO 0024135 New Document(242) - 08-Aug-2023, 08:19', 'SENDER': 'joe <joe@blockchainexpedite.com>', 'RECIPIENT': ['bids@blockchainexpedite.com', 'emanifest@customscity.com'], 'CC': [], 'DATE': 'Tuesday, August 08 2023 06:15 AM', 'ATTACHMENTS': None, 'EMAIL_BODY': \"Good morning team, we have entry on file for this shipment,please provide ace manifest when you have a chance.Thank youMc123203 Blockchainexpedite\\xa0Have a great day!!Joe Body\\xa0 \\xa07163614662-------- Original message --------From: bids <bids@blockchainexpedite.com> Date: 8/8/23 8:26 AM (GMT-05:00) To: emanifest@customscity.com, BLOCKCHAIN EXPEDITE INC <bids@blockchainexpedite.com>, Joe@blockchainexpedite.com Subject: BEIO 0024135 New Document(242) - 08-Aug-2023, 08:19 Good morning team,please provide ace for this shipment once it's clearedUnit 402\\xa0 \\xa0AX76174 ON\\xa0Driver Josif Body\\xa0Crossing Queenston/Lewiston NY bridge4 boxes/43lbsBroker DHL, papers already sent, please check for entry once available\\xa0Trip 40208082023Thank youMc123203 Blockchainexpedite\\xa0Have a great day!!Joe Body\\xa0 \\xa07163614662\"}\n"
          ]
        },
        {
          "output_type": "stream",
          "name": "stderr",
          "text": [
            "Device set to use cpu\n",
            "/usr/local/lib/python3.11/dist-packages/transformers/pipelines/text_classification.py:106: UserWarning: `return_all_scores` is now deprecated,  if want a similar functionality use `top_k=None` instead of `return_all_scores=True` or `top_k=1` instead of `return_all_scores=False`.\n",
            "  warnings.warn(\n"
          ]
        },
        {
          "output_type": "stream",
          "name": "stdout",
          "text": [
            "bids <bids@blockchainexpedite.com> to emanifest@customscity.com, BLOCKCHAIN EXPEDITE INC <bids@blockchainexpedite.com>, Joe@blockchainexpedite.com\n",
            "In progress\n",
            "joe <joe@blockchainexpedite.com> to bids@blockchainexpedite.com, emanifest@customscity.com\n",
            "Requested a required document to continue the request process.\n",
            "Tuesday, August 08 2023 06:15 AM\n",
            "ATTACHMENTS: None\n",
            "-------------------------------------------\n",
            "{'EMAIL_ID': 'AAMkAGQyMmM3MDQ0LWY5NjYtNDc5MC1hNjJlLTVlZGU5MGFmYzdlNABGAAAAAACtCn7TEPB5Tq88sJveFzQGBwCe2-NKKTJQR4kZovzjmBc-AAAAAAEMAACe2-NKKTJQR4kZovzjmBc-AAQH5d3WAAA=', 'CONVERSATION_ID': 'AAQkAGQyMmM3MDQ0LWY5NjYtNDc5MC1hNjJlLTVlZGU5MGFmYzdlNAAQAFuFuLrCdadGv1bx7V1JBgA=', 'SUBJECT': 'Re:[## 123533 ##]  74EZPARS002140 New Document(244) - 10-Aug-2023, 16:19', 'SENDER': 'joe <joe@blockchainexpedite.com>', 'RECIPIENT': ['service@customscity.com', 'bids@blockchainexpedite.com', 'joe@blockchainexpedite.com'], 'CC': ['eManifest <emanifest@customscity.com>'], 'DATE': 'Thursday, August 10 2023 03:43 PM', 'ATTACHMENTS': ['1691699767232000_264604121.png'], 'EMAIL_BODY': 'Good evening team, we already have entry in the system, please check and send aci.Thank youMc123203 Blockchainexpedite\\xa0Have a great day!!Joe Body\\xa0 \\xa07163614662-------- Original message --------From: Customer Support <service@customscity.com> Date: 8/10/23 4:36 PM (GMT-05:00) To: bids <bids@blockchainexpedite.com> Cc: emanifest@customscity.com, joe@blockchainexpedite.com Subject: Re:[## 123533 ##] 74EZPARS002140 New Document(244) - 10-Aug-2023, 16:19 HelloCustoms City has received your eManifest request, we are working on it.\\xa0 \\xa0 \\xa0  \\xa0 Customer Support Specialist \\xa0  \\xa0 1-888-724-8914 \\xa0\\xa0 \\xa0 \\xa0  \\xa0 1-888-724-8914 \\xa0  \\xa0 service@customscity.com \\xa0\\xa0 \\xa0 www.customscity.com \\xa0\\xa0 1315 Pickering Pkwy Suite 300 Pickering, ON L1V 7G5. \\xa0 \\xa0 \\xa0 \\xa0  \\xa0  \\xa0  \\xa0  ---- On \\xa0Thu, 10 Aug 2023 14:28:25 -0600\\xa0\"bids\"<bids@blockchainexpedite.com>\\xa0 wrote ---- Hello team, please provide aci for this shipment once it\\'s cleared.Unit 402\\xa0 \\xa0AX76174 ON\\xa0Driver Josif Body\\xa0Crossing Ambasador Bridge Windsor OnBroker Fedex\\xa02 pcs/625 lbsTrip 40210082023Thank youMc123203 Blockchainexpedite\\xa0Have a great day!!Joe Body\\xa0 \\xa07163614662'}\n"
          ]
        },
        {
          "output_type": "stream",
          "name": "stderr",
          "text": [
            "Device set to use cpu\n",
            "/usr/local/lib/python3.11/dist-packages/transformers/pipelines/text_classification.py:106: UserWarning: `return_all_scores` is now deprecated,  if want a similar functionality use `top_k=None` instead of `return_all_scores=True` or `top_k=1` instead of `return_all_scores=False`.\n",
            "  warnings.warn(\n"
          ]
        },
        {
          "output_type": "stream",
          "name": "stdout",
          "text": [
            "\"bids\"<bids@blockchainexpedite.com> to Customer Support\n",
            "In progress\n",
            "joe <joe@blockchainexpedite.com> to service@customscity.com, bids@blockchainexpedite.com, joe@blockchainexpedite.com\n",
            "Requested a required document to continue the request process.\n",
            "Thursday, August 10 2023 03:43 PM\n",
            "ATTACHMENTS: 1691699767232000_264604121.png\n",
            "-------------------------------------------\n",
            "{'EMAIL_ID': 'AAMkAGQyMmM3MDQ0LWY5NjYtNDc5MC1hNjJlLTVlZGU5MGFmYzdlNABGAAAAAACtCn7TEPB5Tq88sJveFzQGBwCe2-NKKTJQR4kZovzjmBc-AAAAAAEMAACe2-NKKTJQR4kZovzjmBc-AAQH5d3YAAA=', 'CONVERSATION_ID': 'AAQkAGQyMmM3MDQ0LWY5NjYtNDc5MC1hNjJlLTVlZGU5MGFmYzdlNAAQAFuFuLrCdadGv1bx7V1JBgA=', 'SUBJECT': 'Re:[## 123533 ##]  74EZPARS002140 New Document(244) - 10-Aug-2023, 16:19', 'SENDER': 'joe <joe@blockchainexpedite.com>', 'RECIPIENT': ['service@customscity.com'], 'CC': ['bids <bids@blockchainexpedite.com>', 'eManifest <emanifest@customscity.com>'], 'DATE': 'Thursday, August 10 2023 03:57 PM', 'ATTACHMENTS': ['1691707949293002_1513847943.png'], 'EMAIL_BODY': 'Thank youMc123203 Blockchainexpedite\\xa0Have a great day!!Joe Body\\xa0 \\xa07163614662-------- Original message --------From: Customer Support <service@customscity.com> Date: 8/10/23 6:52 PM (GMT-05:00) To: joe <joe@blockchainexpedite.com> Cc: bids <bids@blockchainexpedite.com>, joe@blockchainexpedite.com, emanifest@customscity.com Subject: Re:[## 123533 ##] 74EZPARS002140 New Document(244) - 10-Aug-2023, 16:19 Good day\\xa0Attached it\\'s the CoverSheet.Regards!Customer\\xa0 Support Specialist1-888-724-8914 x1\\xa0|\\xa0+1-289-732-2010service@customscity.comwww.customscity.com1315 Pickering Pkwy, Suite 300, Pickering, Ontario, L1V 7G5Schedule a Meeting Here---- On \\xa0Thu, 10 Aug 2023 16:43:11 -0600\\xa0\"joe\"<joe@blockchainexpedite.com>\\xa0 wrote ---- Good evening team, we already have entry in the system, please check and send aci.Thank youMc123203 Blockchainexpedite\\xa0Have a great day!!Joe Body\\xa0 \\xa07163614662-------- Original message --------From: Customer Support <service@customscity.com> Date: 8/10/23 4:36 PM (GMT-05:00) To: bids <bids@blockchainexpedite.com> Cc: emanifest@customscity.com, joe@blockchainexpedite.com Subject: Re:[## 123533 ##] 74EZPARS002140 New Document(244) - 10-Aug-2023, 16:19 HelloCustoms City has received your eManifest request, we are working on it.\\xa0 \\xa0 \\xa0 \\xa0 Customer Support Specialist \\xa0 \\xa0 1-888-724-8914 \\xa0\\xa0 \\xa0 \\xa0 \\xa0 1-888-724-8914 \\xa0 \\xa0 service@customscity.com \\xa0\\xa0 \\xa0 www.customscity.com \\xa0\\xa0 1315 Pickering Pkwy Suite 300 Pickering, ON L1V 7G5. \\xa0 \\xa0 \\xa0 \\xa0 \\xa0 \\xa0 \\xa0  ---- On \\xa0Thu, 10 Aug 2023 14:28:25 -0600\\xa0\"bids\"<bids@blockchainexpedite.com>\\xa0 wrote ---- Hello team, please provide aci for this shipment once it\\'s cleared.Unit 402\\xa0 \\xa0AX76174 ON\\xa0Driver Josif Body\\xa0Crossing Ambasador Bridge Windsor OnBroker Fedex\\xa02 pcs/625 lbsTrip 40210082023Thank youMc123203 Blockchainexpedite\\xa0Have a great day!!Joe Body\\xa0 \\xa07163614662'}\n"
          ]
        },
        {
          "output_type": "stream",
          "name": "stderr",
          "text": [
            "Device set to use cpu\n",
            "/usr/local/lib/python3.11/dist-packages/transformers/pipelines/text_classification.py:106: UserWarning: `return_all_scores` is now deprecated,  if want a similar functionality use `top_k=None` instead of `return_all_scores=True` or `top_k=1` instead of `return_all_scores=False`.\n",
            "  warnings.warn(\n"
          ]
        },
        {
          "output_type": "stream",
          "name": "stdout",
          "text": [
            "\"bids\"<bids@blockchainexpedite.com> to Customer Support\n",
            "Process completed\n",
            "joe <joe@blockchainexpedite.com> to service@customscity.com\n",
            "Expressed gratitude for cooperation.\n",
            "Thursday, August 10 2023 03:57 PM\n",
            "ATTACHMENTS: 1691707949293002_1513847943.png\n",
            "-------------------------------------------\n",
            "{'EMAIL_ID': 'AAMkAGQyMmM3MDQ0LWY5NjYtNDc5MC1hNjJlLTVlZGU5MGFmYzdlNABGAAAAAACtCn7TEPB5Tq88sJveFzQGBwCe2-NKKTJQR4kZovzjmBc-AAAAAAEMAACe2-NKKTJQR4kZovzjmBc-AAQRHdEdAAA=', 'CONVERSATION_ID': 'AAQkAGQyMmM3MDQ0LWY5NjYtNDc5MC1hNjJlLTVlZGU5MGFmYzdlNAAQAOyI-KP-zpZBoJap7J6SgZ4=', 'SUBJECT': 'Re:[## 125154 ##] BEIO0024146- 25-Aug-2023, 17:26', 'SENDER': 'joe <joe@blockchainexpedite.com>', 'RECIPIENT': ['service@customscity.com', 'bids@blockchainexpedite.com'], 'CC': ['eManifest <emanifest@customscity.com>'], 'DATE': 'Friday, August 25 2023 03:01 PM', 'ATTACHMENTS': ['1693000782492001_919023558.png', '1693000782509000_792542966.png', '1693000782527000_1233602022.png', '1693000782547000_919023558.png', '1693000782566000_792542966.png', '1693000782585000_1233602022.png', '1693000782603000_919023558.png', '1693000782622000_792542966.png', '1693000782643000_1233602022.png', '1693000782661000_919023558.png'], 'EMAIL_BODY': 'Thank youHave a great day!!Joe Body\\xa0 \\xa07163614662-------- Original message --------From: Customer Support <service@customscity.com> Date: 8/25/23 5:59 PM (GMT-05:00) To: bids <bids@blockchainexpedite.com> Cc: emanifest@customscity.com, joe <joe@blockchainexpedite.com>, bids <bids@blockchainexpedite.com> Subject: Re:[## 125154 ##] BEIO0024146- 25-Aug-2023, 17:26 Good afternoon.Attached it\\'s the cover sheet.Regards!\\xa0\\xa0\\xa0Customer Support Specialist\\xa0\\xa0\\xa0\\xa0\\xa01-888-724-8914\\xa0\\xa0\\xa0\\xa0\\xa0\\xa0\\xa0\\xa0\\xa0\\xa01-888-724-8914\\xa0\\xa0\\xa0\\xa0service@customscity.com\\xa0\\xa0\\xa0\\xa0\\xa0www.customscity.com\\xa0\\xa0\\xa01315 Pickering Pkwy Suite 300 Pickering, ON L1V 7G5.\\xa0\\xa0 \\xa0 \\xa0\\xa0\\xa0\\xa0\\xa0\\xa0\\xa0\\xa0\\xa0---- on Fri, 25 Aug 2023 17:34:14 -0400 \"bids\"<bids@blockchainexpedite.com> wrote ---- Good evening team please provide ace manifest for this shipment once it\\'s cleared\\xa0Unit 402 AX76174 ON\\xa0Driver Josif Body\\xa0Crossing Queenston/lewiston nyBroker Near North,papers sent out already.1 pc 60lbsTrip40225082023Thank youMc123203 Blockchainexpedite\\xa0Have a great day!!Joe Body\\xa0 \\xa07163614662'}\n"
          ]
        },
        {
          "output_type": "stream",
          "name": "stderr",
          "text": [
            "Device set to use cpu\n",
            "/usr/local/lib/python3.11/dist-packages/transformers/pipelines/text_classification.py:106: UserWarning: `return_all_scores` is now deprecated,  if want a similar functionality use `top_k=None` instead of `return_all_scores=True` or `top_k=1` instead of `return_all_scores=False`.\n",
            "  warnings.warn(\n"
          ]
        },
        {
          "output_type": "stream",
          "name": "stdout",
          "text": [
            "\"bids\"<bids@blockchainexpedite.com> to Customer Support\n",
            "Process completed\n",
            "joe <joe@blockchainexpedite.com> to service@customscity.com, bids@blockchainexpedite.com\n",
            "Expressed gratitude for cooperation.\n",
            "Friday, August 25 2023 03:01 PM\n",
            "ATTACHMENTS: 1693000782492001_919023558.png, 1693000782509000_792542966.png, 1693000782527000_1233602022.png, 1693000782547000_919023558.png, 1693000782566000_792542966.png, 1693000782585000_1233602022.png, 1693000782603000_919023558.png, 1693000782622000_792542966.png, 1693000782643000_1233602022.png, 1693000782661000_919023558.png\n",
            "-------------------------------------------\n",
            "{'EMAIL_ID': 'AAMkAGQyMmM3MDQ0LWY5NjYtNDc5MC1hNjJlLTVlZGU5MGFmYzdlNABGAAAAAACtCn7TEPB5Tq88sJveFzQGBwCe2-NKKTJQR4kZovzjmBc-AAAAAAEMAACe2-NKKTJQR4kZovzjmBc-AAQ0PBEUAAA=', 'CONVERSATION_ID': 'AAQkAGQyMmM3MDQ0LWY5NjYtNDc5MC1hNjJlLTVlZGU5MGFmYzdlNAAQAMYmMr221wtCnCebxS__Aus=', 'SUBJECT': 'Re:[## 129844 ##] Ace Blockchainexpedite', 'SENDER': 'joe <joe@blockchainexpedite.com>', 'RECIPIENT': ['service@customscity.com', 'bids@blockchainexpedite.com'], 'CC': ['eManifest <emanifest@customscity.com>'], 'DATE': 'Monday, October 16 2023 06:20 PM', 'ATTACHMENTS': ['1697505430948000_1015944587.png', '1697505430965000_54524878.png', '1697505431103008_54524878.png', '1697505431121000_812722352.png', '1697505431139006_54524878.png', '1697505431155002_812722352.png', '1697505431172001_1015944587.png', '1697505431189000_54524878.png', '1697505431206005_812722352.png', '1697505431224003_1015944587.png', '1697505431240000_54524878.png', '1697505431257000_812722352.png', '1697505431273000_1015944587.png'], 'EMAIL_BODY': 'Thanks very much, have a good night!Have a great day!!Joe Body\\xa0 \\xa07163614662-------- Original message --------From: Customer Support <service@customscity.com> Date: 2023-10-16 9:17 p.m. (GMT-05:00) To: bids <bids@blockchainexpedite.com> Cc: emanifest@customscity.com, joe@blockchainexpedite.com Subject: Re:[## 129844 ##] Ace Blockchainexpedite Yes,\\xa0 attached it\\'s the cover sheet. Regards.\\xa0\\xa0\\xa0Customer Support Specialist\\xa0\\xa0\\xa0\\xa0\\xa01-888-724-8914\\xa0\\xa0\\xa0\\xa0\\xa0\\xa0\\xa0\\xa0\\xa0\\xa01-888-724-8914\\xa0\\xa0\\xa0\\xa0service@customscity.com\\xa0\\xa0\\xa0\\xa0\\xa0www.customscity.com\\xa0\\xa0\\xa01315 Pickering Pkwy Suite 300 Pickering, ON L1V 7G5.\\xa0\\xa0 \\xa0 \\xa0\\xa0\\xa0\\xa0\\xa0\\xa0\\xa0\\xa0\\xa0---- on Mon, 16 Oct 2023 21:12:16 -0400 \"bids\"<bids@blockchainexpedite.com> wrote ---- Is it cleared? Please check if you can.Thank youMc123203 Blockchainexpedite\\xa0Joe Body\\xa0 \\xa07163614662Have a great day!!-------- Original message --------From: Customer Support <service@customscity.com> Date: 2023-10-16 9:10 p.m. (GMT-05:00) To: bids <bids@blockchainexpedite.com> Cc: emanifest@customscity.com, joe@blockchainexpedite.com, blockchain expedite inc <bids@blockchainexpedite.com> Subject: Re:[## 129844 ##] Ace Blockchainexpedite Attached is cover sheet\\xa0Best Regards.\\xa0 \\xa0 \\xa0  \\xa0 Customer Support Specialist \\xa0  \\xa0 1-888-724-8914 \\xa0\\xa0 \\xa0 \\xa0  \\xa0 1-888-724-8914 \\xa0  \\xa0 service@customscity.com \\xa0\\xa0 \\xa0 www.customscity.com \\xa0\\xa0 1315 Pickering Pkwy Suite 300 Pickering, ON L1V 7G5. \\xa0 \\xa0 \\xa0 \\xa0  \\xa0  \\xa0  \\xa0  ---- on Mon, 16 Oct 2023 18:59:25 -0600 \"bids\"<bids@blockchainexpedite.com> wrote ---- Just got off the phone with the load broker, this is all on 1 skid 1000 lbs.Please check for entry and send ace once it\\'s cleared.Thank youMc123203 Blockchainexpedite\\xa0Joe Body\\xa0 \\xa07163614662Have a great day!!-------- Original message --------From: Customer Support <service@customscity.com> Date: 2023-10-16 8:41 p.m. (GMT-05:00) To: bids <bids@blockchainexpedite.com> Cc: emanifest@customscity.com, blockchain expedite inc <bids@blockchainexpedite.com>, joe@blockchainexpedite.com Subject: Re:[## 129844 ##] Ace Blockchainexpedite HelloWe are working on PAPS 0024522, Please provide weight for:Millwork: 1 unit, weight ?Steel:\\xa01 unit, weight ?\\xa0 \\xa0 \\xa0  \\xa0 Customer Support Specialist \\xa0  \\xa0 1-888-724-8914 \\xa0\\xa0 \\xa0 \\xa0  \\xa0 1-888-724-8914 \\xa0  \\xa0 service@customscity.com \\xa0\\xa0 \\xa0 www.customscity.com \\xa0\\xa0 1315 Pickering Pkwy Suite 300 Pickering, ON L1V 7G5. \\xa0 \\xa0 \\xa0 \\xa0  \\xa0  \\xa0  \\xa0  ---- on Mon, 16 Oct 2023 18:26:47 -0600 \"bids\"<bids@blockchainexpedite.com> wrote ---- Hello team please provide ace for this shipment,please check for entry number alsoUnit 402\\xa0 AX76174 ONDriver Josif Body\\xa0Crossing Ambasador bridge DetroitBroker Traffictec\\xa0 \\xa0 \\xa0email Paps@traffictech.comTrip 40217102023Thank youMc123203 Blockchainexpedite\\xa0Joe Body\\xa0 \\xa07163614662Have a great day!!'}\n"
          ]
        },
        {
          "output_type": "stream",
          "name": "stderr",
          "text": [
            "Device set to use cpu\n",
            "/usr/local/lib/python3.11/dist-packages/transformers/pipelines/text_classification.py:106: UserWarning: `return_all_scores` is now deprecated,  if want a similar functionality use `top_k=None` instead of `return_all_scores=True` or `top_k=1` instead of `return_all_scores=False`.\n",
            "  warnings.warn(\n"
          ]
        },
        {
          "output_type": "stream",
          "name": "stdout",
          "text": [
            "\"bids\"<bids@blockchainexpedite.com> to Customer Support\n",
            "Process completed\n",
            "joe <joe@blockchainexpedite.com> to service@customscity.com, bids@blockchainexpedite.com\n",
            "Expressed gratitude for cooperation.\n",
            "Monday, October 16 2023 06:20 PM\n",
            "ATTACHMENTS: 1697505430948000_1015944587.png, 1697505430965000_54524878.png, 1697505431103008_54524878.png, 1697505431121000_812722352.png, 1697505431139006_54524878.png, 1697505431155002_812722352.png, 1697505431172001_1015944587.png, 1697505431189000_54524878.png, 1697505431206005_812722352.png, 1697505431224003_1015944587.png, 1697505431240000_54524878.png, 1697505431257000_812722352.png, 1697505431273000_1015944587.png\n",
            "-------------------------------------------\n",
            "{'EMAIL_ID': 'AAMkAGQyMmM3MDQ0LWY5NjYtNDc5MC1hNjJlLTVlZGU5MGFmYzdlNABGAAAAAACtCn7TEPB5Tq88sJveFzQGBwCe2-NKKTJQR4kZovzjmBc-AAAAAAEMAACe2-NKKTJQR4kZovzjmBc-AAQ7YP6eAAA=', 'CONVERSATION_ID': 'AAQkAGQyMmM3MDQ0LWY5NjYtNDc5MC1hNjJlLTVlZGU5MGFmYzdlNAAQAE_VWI4D9bJKgiQXZU8PMKg=', 'SUBJECT': 'Re:[## 130902 ##] Ace for Blockchainexpedite(12) - 27-Oct-2023, 15:35', 'SENDER': 'joe <joe@blockchainexpedite.com>', 'RECIPIENT': ['service@customscity.com', 'bids@blockchainexpedite.com'], 'CC': ['eManifest <emanifest@customscity.com>'], 'DATE': 'Friday, October 27 2023 12:55 PM', 'ATTACHMENTS': ['1698436418878002_83818608.png', '1698436418906001_50287606.png', '1698436418966004_1310102949.png', '1698436419159001_83818608.png', '1698436419218027_1310102949.png', '1698436419238000_50287606.png', '1698436419297000_1310102949.png', '1698436419371000_83818608.png', '1698436419415000_83818608.png'], 'EMAIL_BODY': 'Hello team, does it need a sticker if the invoice value is $15.00?\\xa0\\xa0Have a great day!!Joe Body\\xa0 \\xa07163614662-------- Original message --------From: Customer Support <service@customscity.com> Date: 2023-10-27 3:53 p.m. (GMT-05:00) To: bids <bids@blockchainexpedite.com> Cc: emanifest@customscity.com, bids <bids@blockchainexpedite.com>, joe <joe@blockchainexpedite.com> Subject: Re:[## 130902 ##] Ace for Blockchainexpedite(12) - 27-Oct-2023, 15:35 Afternoon, your document doesn´t have any sticker with the shipment control number, can you provide the number please.\\xa0\\xa0\\xa0Customer Support Specialist\\xa0\\xa0\\xa0\\xa0\\xa01-888-724-8914\\xa0\\xa0\\xa0\\xa0\\xa0\\xa0\\xa0\\xa0\\xa0\\xa01-888-724-8914\\xa0\\xa0\\xa0\\xa0service@customscity.com\\xa0\\xa0\\xa0\\xa0\\xa0www.customscity.com\\xa0\\xa0\\xa01315 Pickering Pkwy Suite 300 Pickering, ON L1V 7G5.\\xa0\\xa0 \\xa0 \\xa0\\xa0\\xa0\\xa0\\xa0\\xa0\\xa0\\xa0\\xa0---- on Fri, 27 Oct 2023 15:38:53 -0400 \"bids\"<bids@blockchainexpedite.com> wrote ---- Hello team please provide ace for this shipment, total invoice value is 15 dollars,\\xa0Unit 402 AX76174 ON\\xa0Driver Josif BodyCrossing Port Huron Mi2 skidsValue is $15.00Trip 40227102023Thank youMc123203 Blockchainexpedite\\xa0Joe Body\\xa0 \\xa07163614662Have a great day!!'}\n"
          ]
        },
        {
          "output_type": "stream",
          "name": "stderr",
          "text": [
            "Device set to use cpu\n",
            "/usr/local/lib/python3.11/dist-packages/transformers/pipelines/text_classification.py:106: UserWarning: `return_all_scores` is now deprecated,  if want a similar functionality use `top_k=None` instead of `return_all_scores=True` or `top_k=1` instead of `return_all_scores=False`.\n",
            "  warnings.warn(\n"
          ]
        },
        {
          "output_type": "stream",
          "name": "stdout",
          "text": [
            "\"bids\"<bids@blockchainexpedite.com> to Customer Support\n",
            "In progress\n",
            "joe <joe@blockchainexpedite.com> to service@customscity.com, bids@blockchainexpedite.com\n",
            "Requested a required document to continue the request process.\n",
            "Friday, October 27 2023 12:55 PM\n",
            "ATTACHMENTS: 1698436418878002_83818608.png, 1698436418906001_50287606.png, 1698436418966004_1310102949.png, 1698436419159001_83818608.png, 1698436419218027_1310102949.png, 1698436419238000_50287606.png, 1698436419297000_1310102949.png, 1698436419371000_83818608.png, 1698436419415000_83818608.png\n",
            "-------------------------------------------\n",
            "{'EMAIL_ID': 'AAMkAGQyMmM3MDQ0LWY5NjYtNDc5MC1hNjJlLTVlZGU5MGFmYzdlNABGAAAAAACtCn7TEPB5Tq88sJveFzQGBwCe2-NKKTJQR4kZovzjmBc-AAAAAAEMAACe2-NKKTJQR4kZovzjmBc-AARAG0AHAAA=', 'CONVERSATION_ID': 'AAQkAGQyMmM3MDQ0LWY5NjYtNDc5MC1hNjJlLTVlZGU5MGFmYzdlNAAQAEKSziNkp9xCrYl8DSdZs_M=', 'SUBJECT': 'Re:[## 131515 ##] BEIO0024356 - 03-Nov-2023, 16:06', 'SENDER': 'joe <joe@blockchainexpedite.com>', 'RECIPIENT': ['service@customscity.com', 'bids@blockchainexpedite.com'], 'CC': ['eManifest <emanifest@customscity.com>'], 'DATE': 'Friday, November 03 2023 04:19 PM', 'ATTACHMENTS': ['1699053441809017_146949229.png', '1699053441990003_146949229.png'], 'EMAIL_BODY': 'Got it thank you.Have a great day!!Joe Body\\xa0 \\xa07163614662-------- Original message --------From: Customer Support <service@customscity.com> Date: 2023-11-03 7:17 p.m. (GMT-05:00) To: bids <bids@blockchainexpedite.com> Cc: emanifest@customscity.com, \\'joe\\' <joe@blockchainexpedite.com> Subject: Re:[## 131515 ##] BEIO0024356 - 03-Nov-2023, 16:06 HelloIt isnt clear yet, once we get the entry we will send the coversheet.Regards!\\xa0\\xa0\\xa0\\xa0Customer Support Specialist\\xa0\\xa0\\xa0\\xa0\\xa01-888-724-8914\\xa0\\xa0\\xa0\\xa0\\xa0\\xa0\\xa0\\xa0\\xa0\\xa01-888-724-8914\\xa0\\xa0\\xa0\\xa0service@customscity.com\\xa0\\xa0\\xa0\\xa0\\xa0www.customscity.com\\xa0\\xa0\\xa01315 Pickering Pkwy Suite 300 Pickering, ON L1V 7G5.\\xa0\\xa0 \\xa0 \\xa0\\xa0\\xa0\\xa0\\xa0\\xa0\\xa0\\xa0\\xa0\\xa0---- on Fri, 03 Nov 2023 19:06:12 -0400 \"bids\"<bids@blockchainexpedite.com> wrote ---- Hello team, any update on the entry number? Please check and send ace if its clearedThank youMc123203 Blockchainexpedite\\xa0Joe Body\\xa0 \\xa07163614662Have a great day!!-------- Original message --------From: Customer Support <service@customscity.com> Date: 2023-11-03 4:23 p.m. (GMT-05:00) To: bids <bids@blockchainexpedite.com> Cc: emanifest@customscity.com, bids <bids@blockchainexpedite.com>, \\'joe\\' <joe@blockchainexpedite.com> Subject: Re:[## 131515 ##] BEIO0024356 - 03-Nov-2023, 16:06 Good afternoonWe received your emanifest request, we are working on it, we will send the cover sheet as soon as it gets the entry number.\\xa0 \\xa0 \\xa0  \\xa0 Customer Support Specialist \\xa0  \\xa0 1-888-724-8914 \\xa0\\xa0 \\xa0 \\xa0  \\xa0 1-888-724-8914 \\xa0  \\xa0 service@customscity.com \\xa0\\xa0 \\xa0 www.customscity.com \\xa0\\xa0 1315 Pickering Pkwy Suite 300 Pickering, ON L1V 7G5. \\xa0 \\xa0 \\xa0 \\xa0  \\xa0  \\xa0  \\xa0  ---- on Fri, 03 Nov 2023 14:15:28 -0600 \"bids\"<bids@blockchainexpedite.com> wrote ---- Hello team please provide ace for this shipment once It\\'s cleared\\xa0Driver Josif Body\\xa0Unit 402 AX76174 ON\\xa0Crossing Queenston/Lewiston NY bridge1 skid 1243 lbsBroker UPSTrip 40211032023Mc123203 Blockchainexpedite\\xa0Joe Body\\xa0 \\xa07163614662Have a great day!!'}\n"
          ]
        },
        {
          "output_type": "stream",
          "name": "stderr",
          "text": [
            "Device set to use cpu\n",
            "/usr/local/lib/python3.11/dist-packages/transformers/pipelines/text_classification.py:106: UserWarning: `return_all_scores` is now deprecated,  if want a similar functionality use `top_k=None` instead of `return_all_scores=True` or `top_k=1` instead of `return_all_scores=False`.\n",
            "  warnings.warn(\n"
          ]
        },
        {
          "output_type": "stream",
          "name": "stdout",
          "text": [
            "\"bids\"<bids@blockchainexpedite.com> to Customer Support\n",
            "Process completed\n",
            "joe <joe@blockchainexpedite.com> to service@customscity.com, bids@blockchainexpedite.com\n",
            "Expressed gratitude for cooperation.\n",
            "Friday, November 03 2023 04:19 PM\n",
            "ATTACHMENTS: 1699053441809017_146949229.png, 1699053441990003_146949229.png\n",
            "-------------------------------------------\n",
            "{'EMAIL_ID': 'AAMkAGQyMmM3MDQ0LWY5NjYtNDc5MC1hNjJlLTVlZGU5MGFmYzdlNABGAAAAAACtCn7TEPB5Tq88sJveFzQGBwCe2-NKKTJQR4kZovzjmBc-AAAAAAEMAACe2-NKKTJQR4kZovzjmBc-AARs1cE8AAA=', 'CONVERSATION_ID': 'AAQkAGQyMmM3MDQ0LWY5NjYtNDc5MC1hNjJlLTVlZGU5MGFmYzdlNAAQAEah9mB84rpNgq8e2aprkU8=', 'SUBJECT': 'RE: ACI Manifest request for PARS :   __74EZ PARS 002394____PORT: __Sarnia ON  Bluewater Bridge  0440______DATE:  ___January 10, 2024_____ TIME:  ___16:00 ______ __________', 'SENDER': 'joe <joe@blockchainexpedite.com>', 'RECIPIENT': ['info@eamke-logistics.com', 'bids@blockchainexpedite.com', 'richard@blockchainexpedite.com', '429obaid@gmail.com', 'emanifest@customscity.com'], 'CC': [], 'DATE': 'Wednesday, January 10 2024 03:11 PM', 'ATTACHMENTS': ['image001.jpg'], 'EMAIL_BODY': \"Thank youHave a great day!!Joe Body\\xa0 \\xa07163614662-------- Original message --------From: Ernest Sader <info@eamke-logistics.com> Date: 2024-01-10 5:10\\u202fp.m. (GMT-05:00) To: bids <bids@blockchainexpedite.com>, richard@blockchainexpedite.com, 'joe' <joe@blockchainexpedite.com>, 'Obaid Ahmed' <429obaid@gmail.com>, emanifest@customscity.com Subject: RE: ACI Manifest request for PARS : __74EZ PARS 002394____PORT: __Sarnia ON Bluewater Bridge 0440______DATE: ___January 10, 2024_____ TIME: ___16:00 ______ __________ Hi Joe,\\xa0Search Result:Accepted by customs, ok to cross the borderPARS Number74EZ PARS002394CCBS File Number4-494677Release TypeUndeterminedRelease DateCustoms Office Code440Customs Office NameSarniaTransaction Number12997-06911121-4Carrier Code74EZCarrier NamePOL EXPRESS DIV OF 1073117 ONTBOL / HWB NumberNumber of Packages2Gross Weight1014 KG\\xa0\\xa0RegardsErnest Sader\\xa0Eamke Logistics and Procurement Inc.International Freight Forwarding – LTL Transborder – Warehousing and Distributionwww.eamke-logistics.com - Email: info@eamke-logistics.com \\xa0- Tel: +1 905 616 8916\\xa0From: bids <bids@blockchainexpedite.com> Sent: January 10, 2024 5:07 PMTo: richard@blockchainexpedite.com; 'joe' <joe@blockchainexpedite.com>; 'Obaid Ahmed' <429obaid@gmail.com>; emanifest@customscity.comCc: Ernest Sader <info@eamke-logistics.com>Subject: RE: ACI Manifest request for PARS : __74EZ PARS 002394____PORT: __Sarnia ON Bluewater Bridge 0440______DATE: ___January 10, 2024_____ TIME: ___16:00 ______ __________\\xa0Hello team, please check for entry number and provide aci for this shipment.\\xa0Thank you\\xa0\\xa0\\xa0Mc123203 Blockchainexpedite\\xa0\\xa0Joe Body\\xa0 \\xa07163614662\\xa0Have a great day!!\\xa0\\xa0-------- Original message --------From: richard@blockchainexpedite.com Date: 2024-01-10 2:49\\u202fp.m. (GMT-05:00) To: 'joe' <joe@blockchainexpedite.com>, 'Obaid Ahmed' <429obaid@gmail.com> Cc: 'bids' <bids@blockchainexpedite.com>, 'Ernest Sader' <info@eamke-logistics.com> Subject: ACI Manifest request for PARS : __74EZ PARS 002394____PORT: __Sarnia ON Bluewater Bridge 0440______DATE: ___January 10, 2024_____ TIME: ___16:00 ______ __________ \\xa0Subject: ACI Manifest request for PARS :\\xa0\\xa0 __74EZ PARS 002394______________\\xa0\\xa0Hello,\\xa0Please process ACI \\xa0the attached PARS for crossing. \\xa0PORT: __Sarnia ON\\xa0 Bluewater Bridge\\xa0 0440______ \\xa0DATE: \\xa0___January 10, 2024_____\\xa0TIME:\\xa0 ___16:00 ______ \\xa0\\xa0\\xa0\\xa0\"}\n"
          ]
        },
        {
          "output_type": "stream",
          "name": "stderr",
          "text": [
            "Device set to use cpu\n",
            "/usr/local/lib/python3.11/dist-packages/transformers/pipelines/text_classification.py:106: UserWarning: `return_all_scores` is now deprecated,  if want a similar functionality use `top_k=None` instead of `return_all_scores=True` or `top_k=1` instead of `return_all_scores=False`.\n",
            "  warnings.warn(\n"
          ]
        },
        {
          "output_type": "stream",
          "name": "stdout",
          "text": [
            "richard@blockchainexpedite.com to 'joe' <joe@blockchainexpedite.com>, 'Obaid Ahmed' <429obaid@gmail.com>\n",
            "Process completed\n",
            "joe <joe@blockchainexpedite.com> to info@eamke-logistics.com, bids@blockchainexpedite.com, richard@blockchainexpedite.com, 429obaid@gmail.com, emanifest@customscity.com\n",
            "Expressed gratitude for cooperation.\n",
            "Wednesday, January 10 2024 03:11 PM\n",
            "ATTACHMENTS: image001.jpg\n",
            "-------------------------------------------\n",
            "{'EMAIL_ID': 'AAMkAGQyMmM3MDQ0LWY5NjYtNDc5MC1hNjJlLTVlZGU5MGFmYzdlNABGAAAAAACtCn7TEPB5Tq88sJveFzQGBwCe2-NKKTJQR4kZovzjmBc-AAAAAAEMAACe2-NKKTJQR4kZovzjmBc-AASb4gsGAAA=', 'CONVERSATION_ID': 'AAQkAGQyMmM3MDQ0LWY5NjYtNDc5MC1hNjJlLTVlZGU5MGFmYzdlNAAQABf_sbC2wuxLg6QpSIunCis=', 'SUBJECT': 'Re:[## 147071 ##] BEIO Blockchainexpedite - 22-Mar-2024, 08:09', 'SENDER': 'joe <joe@blockchainexpedite.com>', 'RECIPIENT': ['service@customscity.com', 'bids@blockchainexpedite.com'], 'CC': ['eManifest <emanifest@customscity.com>'], 'DATE': 'Friday, March 22 2024 07:07 AM', 'ATTACHMENTS': ['1711112639323000_1043511938.png', '1711112639355014_1407462424.png', '1711112639583004_1023368200.png', '1711112639609000_1043511938.png'], 'EMAIL_BODY': 'Hello team, any updates on this clearence?\\xa0This is medical equipment, hot shot load...Please look into it and send ace manifest.\\xa0Thank youHave a great day!!Joe Body\\xa0 \\xa07163614662-------- Original message --------From: Customer Support <service@customscity.com> Date: 2024-03-22 9:04\\u202fa.m. (GMT-05:00) To: bids <bids@blockchainexpedite.com> Cc: emanifest@customscity.com, bids@blockchainexpedite.com, \\'joe\\' <joe@blockchainexpedite.com> Subject: Re:[## 147071 ##] BEIO Blockchainexpedite - 22-Mar-2024, 08:09 HelloWe received your emanifest request, we are working on it\\xa0 \\xa0 \\xa0  \\xa0 Customer Support Specialist \\xa0  \\xa0 1-888-724-8914 \\xa0\\xa0 \\xa0 \\xa0  \\xa0 1-888-724-8914 \\xa0  \\xa0 service@customscity.com \\xa0\\xa0 \\xa0 www.customscity.com \\xa0\\xa0 1315 Pickering Pkwy Suite 300 Pickering, ON L1V 7G5. \\xa0 \\xa0 \\xa0 \\xa0  \\xa0  \\xa0  \\xa0  ---- on Fri, 22 Mar 2024 06:50:43 -0600 \"bids\"<bids@blockchainexpedite.com> wrote ---- Hello team, please send papers to ExpeditorsCustom Broker ExpeditorsUnit 402\\xa0 AX76174 ON\\xa0Driver Josif BodyCrossing Queenston/Lewiston NY bridge1 boxTrip Nr 40203222024PLEASE SEND PAPERS TO BROKER ASAP, HOT SHOT LOAD!!THANK YOUMc123203 Blockchainexpedite\\xa0Joe Body\\xa0 \\xa07163614662Have a great day!!'}\n"
          ]
        },
        {
          "output_type": "stream",
          "name": "stderr",
          "text": [
            "Device set to use cpu\n",
            "/usr/local/lib/python3.11/dist-packages/transformers/pipelines/text_classification.py:106: UserWarning: `return_all_scores` is now deprecated,  if want a similar functionality use `top_k=None` instead of `return_all_scores=True` or `top_k=1` instead of `return_all_scores=False`.\n",
            "  warnings.warn(\n"
          ]
        },
        {
          "output_type": "stream",
          "name": "stdout",
          "text": [
            "\"bids\"<bids@blockchainexpedite.com> to Customer Support\n",
            "In progress\n",
            "joe <joe@blockchainexpedite.com> to service@customscity.com, bids@blockchainexpedite.com\n",
            "Requested a required document to continue the request process.\n",
            "Friday, March 22 2024 07:07 AM\n",
            "ATTACHMENTS: 1711112639323000_1043511938.png, 1711112639355014_1407462424.png, 1711112639583004_1023368200.png, 1711112639609000_1043511938.png\n",
            "-------------------------------------------\n",
            "{'EMAIL_ID': 'AAMkAGQyMmM3MDQ0LWY5NjYtNDc5MC1hNjJlLTVlZGU5MGFmYzdlNABGAAAAAACtCn7TEPB5Tq88sJveFzQGBwCe2-NKKTJQR4kZovzjmBc-AAAAAAEMAACe2-NKKTJQR4kZovzjmBc-AASb4gsKAAA=', 'CONVERSATION_ID': 'AAQkAGQyMmM3MDQ0LWY5NjYtNDc5MC1hNjJlLTVlZGU5MGFmYzdlNAAQAGEcjGsIzx5OjIjWgd89yFc=', 'SUBJECT': 'Re:[## 147071 ##] BEIO Blockchainexpedite - 22-Mar-2024, 08:09', 'SENDER': 'joe <joe@blockchainexpedite.com>', 'RECIPIENT': ['service@customscity.com', 'joe@blockchainexpedite.com'], 'CC': ['bids@blockchainexpedite.com <bids@blockchainexpedite.com>', 'eManifest <emanifest@customscity.com>'], 'DATE': 'Friday, March 22 2024 07:19 AM', 'ATTACHMENTS': ['1711116835376008_1043511938.png', '1711116836156022_1043511938.png', '1711116836173000_1407462424.png', '1711116836192003_1023368200.png', '1711116836213001_1407462424.png', '1711116836230017_1023368200.png', '1711116836248000_1043511938.png', '1711116836265000_1407462424.png', '1711116836282001_1043511938.png', '1711116836298011_1407462424.png', '1711116836314000_1023368200.png', '1711116836334000_1043511938.png', '1711116836352000_1407462424.png', '1711116836368000_1023368200.png'], 'EMAIL_BODY': 'Hello team, we have entry in the system now, please provide ace manifest asap.Thank youHave a great day!!Joe Body\\xa0 \\xa07163614662-------- Original message --------From: Customer Support <service@customscity.com> Date: 2024-03-22 10:13\\u202fa.m. (GMT-05:00) To: joe@blockchainexpedite.com Cc: bids@blockchainexpedite.com, emanifest@customscity.com, joe@blockchainexpedite.com Subject: Re:[## 147071 ##] BEIO Blockchainexpedite - 22-Mar-2024, 08:09 Good morning,\\xa0 we just waiting for the broker clearence but please can you confirm the e mail of the broker to be sure of the time of response.\\xa0\\xa0\\xa0Customer Support Specialist\\xa0\\xa0\\xa0\\xa0\\xa01-888-724-8914\\xa0\\xa0\\xa0\\xa0\\xa0\\xa0\\xa0\\xa0\\xa0\\xa01-888-724-8914\\xa0\\xa0\\xa0\\xa0service@customscity.com\\xa0\\xa0\\xa0\\xa0\\xa0www.customscity.com\\xa0\\xa0\\xa01315 Pickering Pkwy Suite 300 Pickering, ON L1V 7G5.\\xa0\\xa0 \\xa0 \\xa0\\xa0\\xa0\\xa0\\xa0\\xa0\\xa0\\xa0\\xa0---- El vie, 22 mar 2024 08:07:03 -0600 \"joe\" escribió ----Hello team, any updates on this clearence?\\xa0This is medical equipment, hot shot load...Please look into it and send ace manifest.\\xa0Thank youHave a great day!!Joe Body\\xa0 \\xa07163614662-------- Original message --------From: Customer Support <service@customscity.com> Date: 2024-03-22 9:04\\u202fa.m. (GMT-05:00) To: bids <bids@blockchainexpedite.com> Cc: emanifest@customscity.com, bids@blockchainexpedite.com, \\'joe\\' <joe@blockchainexpedite.com> Subject: Re:[## 147071 ##] BEIO Blockchainexpedite - 22-Mar-2024, 08:09 HelloWe received your emanifest request, we are working on it\\xa0 \\xa0 \\xa0 \\xa0 Customer Support Specialist \\xa0  \\xa0 1-888-724-8914 \\xa0\\xa0 \\xa0 \\xa0  \\xa0 1-888-724-8914 \\xa0 \\xa0 service@customscity.com \\xa0\\xa0 \\xa0 www.customscity.com \\xa0\\xa0 1315 Pickering Pkwy Suite 300 Pickering, ON L1V 7G5. \\xa0 \\xa0 \\xa0 \\xa0  \\xa0  \\xa0 \\xa0 ---- on Fri, 22 Mar 2024 06:50:43 -0600 \"bids\"<bids@blockchainexpedite.com> wrote ---- Hello team, please send papers to ExpeditorsCustom Broker ExpeditorsUnit 402\\xa0 AX76174 ON\\xa0Driver Josif BodyCrossing Queenston/Lewiston NY bridge1 boxTrip Nr 40203222024PLEASE SEND PAPERS TO BROKER ASAP, HOT SHOT LOAD!!THANK YOUMc123203 Blockchainexpedite\\xa0Joe Body\\xa0 \\xa07163614662Have a great day!!'}\n"
          ]
        },
        {
          "output_type": "stream",
          "name": "stderr",
          "text": [
            "Device set to use cpu\n",
            "/usr/local/lib/python3.11/dist-packages/transformers/pipelines/text_classification.py:106: UserWarning: `return_all_scores` is now deprecated,  if want a similar functionality use `top_k=None` instead of `return_all_scores=True` or `top_k=1` instead of `return_all_scores=False`.\n",
            "  warnings.warn(\n"
          ]
        },
        {
          "output_type": "stream",
          "name": "stdout",
          "text": [
            "\"bids\"<bids@blockchainexpedite.com> to Customer Support\n",
            "In progress\n",
            "joe <joe@blockchainexpedite.com> to service@customscity.com, joe@blockchainexpedite.com\n",
            "Requested a required document to continue the request process.\n",
            "Friday, March 22 2024 07:19 AM\n",
            "ATTACHMENTS: 1711116835376008_1043511938.png, 1711116836156022_1043511938.png, 1711116836173000_1407462424.png, 1711116836192003_1023368200.png, 1711116836213001_1407462424.png, 1711116836230017_1023368200.png, 1711116836248000_1043511938.png, 1711116836265000_1407462424.png, 1711116836282001_1043511938.png, 1711116836298011_1407462424.png, 1711116836314000_1023368200.png, 1711116836334000_1043511938.png, 1711116836352000_1407462424.png, 1711116836368000_1023368200.png\n",
            "-------------------------------------------\n",
            "{'EMAIL_ID': 'AAMkAGQyMmM3MDQ0LWY5NjYtNDc5MC1hNjJlLTVlZGU5MGFmYzdlNABGAAAAAACtCn7TEPB5Tq88sJveFzQGBwCe2-NKKTJQR4kZovzjmBc-AAAAAAEMAACe2-NKKTJQR4kZovzjmBc-AASb4gsMAAA=', 'CONVERSATION_ID': 'AAQkAGQyMmM3MDQ0LWY5NjYtNDc5MC1hNjJlLTVlZGU5MGFmYzdlNAAQAGEcjGsIzx5OjIjWgd89yFc=', 'SUBJECT': 'Re:[## 147071 ##] BEIO Blockchainexpedite - 22-Mar-2024, 08:09', 'SENDER': 'joe <joe@blockchainexpedite.com>', 'RECIPIENT': ['service@customscity.com'], 'CC': ['bids@blockchainexpedite.com <bids@blockchainexpedite.com>', 'eManifest <emanifest@customscity.com>'], 'DATE': 'Friday, March 22 2024 07:27 AM', 'ATTACHMENTS': ['1711117573289005_1407462424.png', '1711117573309000_1023368200.png', '1711117573327000_1043511938.png', '1711117573347006_1407462424.png', '1711117573368000_1043511938.png', '1711117573385015_1407462424.png', '1711117573406003_1023368200.png', '1711117573422000_1043511938.png', '1711117573443000_1407462424.png', '1711117573462000_1023368200.png', '1711117573480004_1043511938.png', '1711117573499000_1407462424.png', '1711117573520000_1023368200.png', '1711117573538002_1043511938.png', '1711117573565000_1407462424.png', '1711117573587000_1023368200.png', '1711117573605000_1043511938.png', '1711117573623001_1407462424.png', '1711117573641000_1023368200.png', '1711117573660006_1407462424.png', '1711117573678000_1023368200.png', '1711117573694005_1043511938.png', '1711117573717001_1407462424.png', '1711117573737000_1023368200.png'], 'EMAIL_BODY': 'Thank youHave a great day!!Joe Body\\xa0 \\xa07163614662-------- Original message --------From: Customer Support <service@customscity.com> Date: 2024-03-22 10:26\\u202fa.m. (GMT-05:00) To: joe <joe@blockchainexpedite.com> Cc: bids@blockchainexpedite.com, emanifest@customscity.com, joe@blockchainexpedite.com Subject: Re:[## 147071 ##] BEIO Blockchainexpedite - 22-Mar-2024, 08:09 Sure, attached your receipt, but please verify the entry cause we don´t see on the seystem yet.\\xa0\\xa0\\xa0Customer Support Specialist\\xa0\\xa0\\xa0\\xa0\\xa01-888-724-8914\\xa0\\xa0\\xa0\\xa0\\xa0\\xa0\\xa0\\xa0\\xa0\\xa01-888-724-8914\\xa0\\xa0\\xa0\\xa0service@customscity.com\\xa0\\xa0\\xa0\\xa0\\xa0www.customscity.com\\xa0\\xa0\\xa01315 Pickering Pkwy Suite 300 Pickering, ON L1V 7G5.\\xa0\\xa0 \\xa0 \\xa0\\xa0\\xa0\\xa0\\xa0\\xa0\\xa0\\xa0\\xa0---- on Fri, 22 Mar 2024 10:19:42 -0400 \"joe\"<joe@blockchainexpedite.com> wrote ---- Hello team, we have entry in the system now, please provide ace manifest asap.Thank youHave a great day!!Joe Body\\xa0 \\xa07163614662-------- Original message --------From: Customer Support <service@customscity.com> Date: 2024-03-22 10:13\\u202fa.m. (GMT-05:00) To: joe@blockchainexpedite.com Cc: bids@blockchainexpedite.com, emanifest@customscity.com, joe@blockchainexpedite.com Subject: Re:[## 147071 ##] BEIO Blockchainexpedite - 22-Mar-2024, 08:09 Good morning,\\xa0 we just waiting for the broker clearence but please can you confirm the e mail of the broker to be sure of the time of response.\\xa0\\xa0\\xa0Customer Support Specialist\\xa0\\xa0\\xa0\\xa0\\xa01-888-724-8914\\xa0\\xa0\\xa0\\xa0\\xa0\\xa0\\xa0\\xa0\\xa0\\xa01-888-724-8914\\xa0\\xa0\\xa0\\xa0service@customscity.com\\xa0\\xa0\\xa0\\xa0\\xa0www.customscity.com\\xa0\\xa0\\xa01315 Pickering Pkwy Suite 300 Pickering, ON L1V 7G5.\\xa0\\xa0 \\xa0 \\xa0\\xa0\\xa0\\xa0\\xa0\\xa0\\xa0\\xa0\\xa0---- El vie, 22 mar 2024 08:07:03 -0600 \"joe\" escribió ----Hello team, any updates on this clearence?\\xa0This is medical equipment, hot shot load...Please look into it and send ace manifest.\\xa0Thank youHave a great day!!Joe Body\\xa0 \\xa07163614662-------- Original message --------From: Customer Support <service@customscity.com> Date: 2024-03-22 9:04\\u202fa.m. (GMT-05:00) To: bids <bids@blockchainexpedite.com> Cc: emanifest@customscity.com, bids@blockchainexpedite.com, \\'joe\\' <joe@blockchainexpedite.com> Subject: Re:[## 147071 ##] BEIO Blockchainexpedite - 22-Mar-2024, 08:09 HelloWe received your emanifest request, we are working on it\\xa0 \\xa0 \\xa0 \\xa0 Customer Support Specialist \\xa0  \\xa0 1-888-724-8914 \\xa0\\xa0 \\xa0 \\xa0  \\xa0 1-888-724-8914 \\xa0 \\xa0 service@customscity.com \\xa0\\xa0 \\xa0 www.customscity.com \\xa0\\xa0 1315 Pickering Pkwy Suite 300 Pickering, ON L1V 7G5. \\xa0 \\xa0 \\xa0 \\xa0  \\xa0  \\xa0 \\xa0 ---- on Fri, 22 Mar 2024 06:50:43 -0600 \"bids\"<bids@blockchainexpedite.com> wrote ---- Hello team, please send papers to ExpeditorsCustom Broker ExpeditorsUnit 402\\xa0 AX76174 ON\\xa0Driver Josif BodyCrossing Queenston/Lewiston NY bridge1 boxTrip Nr 40203222024PLEASE SEND PAPERS TO BROKER ASAP, HOT SHOT LOAD!!THANK YOUMc123203 Blockchainexpedite\\xa0Joe Body\\xa0 \\xa07163614662Have a great day!!'}\n"
          ]
        },
        {
          "output_type": "stream",
          "name": "stderr",
          "text": [
            "Device set to use cpu\n",
            "/usr/local/lib/python3.11/dist-packages/transformers/pipelines/text_classification.py:106: UserWarning: `return_all_scores` is now deprecated,  if want a similar functionality use `top_k=None` instead of `return_all_scores=True` or `top_k=1` instead of `return_all_scores=False`.\n",
            "  warnings.warn(\n"
          ]
        },
        {
          "output_type": "stream",
          "name": "stdout",
          "text": [
            "\"bids\"<bids@blockchainexpedite.com> to Customer Support\n",
            "Process completed\n",
            "joe <joe@blockchainexpedite.com> to service@customscity.com\n",
            "Expressed gratitude for cooperation.\n",
            "Friday, March 22 2024 07:27 AM\n",
            "ATTACHMENTS: 1711117573289005_1407462424.png, 1711117573309000_1023368200.png, 1711117573327000_1043511938.png, 1711117573347006_1407462424.png, 1711117573368000_1043511938.png, 1711117573385015_1407462424.png, 1711117573406003_1023368200.png, 1711117573422000_1043511938.png, 1711117573443000_1407462424.png, 1711117573462000_1023368200.png, 1711117573480004_1043511938.png, 1711117573499000_1407462424.png, 1711117573520000_1023368200.png, 1711117573538002_1043511938.png, 1711117573565000_1407462424.png, 1711117573587000_1023368200.png, 1711117573605000_1043511938.png, 1711117573623001_1407462424.png, 1711117573641000_1023368200.png, 1711117573660006_1407462424.png, 1711117573678000_1023368200.png, 1711117573694005_1043511938.png, 1711117573717001_1407462424.png, 1711117573737000_1023368200.png\n",
            "-------------------------------------------\n",
            "{'EMAIL_ID': 'AAMkAGQyMmM3MDQ0LWY5NjYtNDc5MC1hNjJlLTVlZGU5MGFmYzdlNABGAAAAAACtCn7TEPB5Tq88sJveFzQGBwCe2-NKKTJQR4kZovzjmBc-AAAAAAEMAACe2-NKKTJQR4kZovzjmBc-AASfLFRBAAA=', 'CONVERSATION_ID': 'AAQkAGQyMmM3MDQ0LWY5NjYtNDc5MC1hNjJlLTVlZGU5MGFmYzdlNAAQANIDqVC1mLdHsoJWMyY_LeM=', 'SUBJECT': 'Re:[## 147679 ##] Beio0025222 - 27-Mar-2024, 09:34', 'SENDER': 'joe <joe@blockchainexpedite.com>', 'RECIPIENT': ['service@customscity.com', 'bids@blockchainexpedite.com'], 'CC': ['eManifest <emanifest@customscity.com>', 'rpolitewicz <rpolitewicz@balancedlogistics.ca>'], 'DATE': 'Wednesday, March 27 2024 08:21 AM', 'ATTACHMENTS': ['1711552633694000_1043511938.png', '1711552633719012_1407462424.png', '1711552633809021_1825941239.png', '1711552633882005_1043511938.png', '1711552633960000_1407462424.png', '1711552633990003_1825941239.png', '1711552634028008_1043511938.png', '1711552634060000_1407462424.png', '1711552634085020_1825941239.png', '1711552634110000_1043511938.png'], 'EMAIL_BODY': 'Thank youHave a great day!!Joe Body\\xa0 \\xa07163614662-------- Original message --------From: Customer Support <service@customscity.com> Date: 2024-03-27 11:17\\u202fa.m. (GMT-05:00) To: bids <bids@blockchainexpedite.com> Cc: emanifest <emanifest@customscity.com>, joe <joe@blockchainexpedite.com>, rpolitewicz <rpolitewicz@balancedlogistics.ca> Subject: Re:[## 147679 ##] Beio0025222 - 27-Mar-2024, 09:34 Attached is the cover sheet.Have a nice day!\\xa0 \\xa0 \\xa0  \\xa0 Customer Support Specialist \\xa0  \\xa0 1-888-724-8914 \\xa0\\xa0 \\xa0 \\xa0  \\xa0 1-888-724-8914 \\xa0  \\xa0 service@customscity.com \\xa0\\xa0 \\xa0 www.customscity.com \\xa0\\xa0 1315 Pickering Pkwy Suite 300 Pickering, ON L1V 7G5. \\xa0 \\xa0 \\xa0 \\xa0  \\xa0  \\xa0  \\xa0  ---- on Wed, 27 Mar 2024 09:03:24 -0600 \"bids\"<bids@blockchainexpedite.com> wrote ---- Hello team, just got off the phone with Bickland, they are waiting on customs to certtify this,please check for entry and send ace manifest.Thank youMc123203 Blockchainexpedite\\xa0Joe Body\\xa0 \\xa07163614662Have a great day!!-------- Original message --------From: Customer Support <service@customscity.com> Date: 2024-03-27 9:42\\u202fa.m. (GMT-05:00) To: \"BLOCKCHAIN EXPEDITE INC.\" <bids@blockchainexpedite.com> Subject: [##147679##] Your ticket has been created Dear BLOCKCHAIN EXPEDITE INC.,Your ticket has been created with the ticket ID 147679 and subject \"Beio0025222 - 27-Mar-2024, 09:34\"Someone from our customer service team will review it and respond shortly.Regards,Customs City Global Solutions Inc. Support Team.View ticket'}\n"
          ]
        },
        {
          "output_type": "stream",
          "name": "stderr",
          "text": [
            "Device set to use cpu\n",
            "/usr/local/lib/python3.11/dist-packages/transformers/pipelines/text_classification.py:106: UserWarning: `return_all_scores` is now deprecated,  if want a similar functionality use `top_k=None` instead of `return_all_scores=True` or `top_k=1` instead of `return_all_scores=False`.\n",
            "  warnings.warn(\n"
          ]
        },
        {
          "output_type": "stream",
          "name": "stdout",
          "text": [
            "Customer Support <service@customscity.com> to \"BLOCKCHAIN EXPEDITE INC.\" <bids@blockchainexpedite.com>\n",
            "Process completed\n",
            "joe <joe@blockchainexpedite.com> to service@customscity.com, bids@blockchainexpedite.com\n",
            "Expressed gratitude for cooperation.\n",
            "Wednesday, March 27 2024 08:21 AM\n",
            "ATTACHMENTS: 1711552633694000_1043511938.png, 1711552633719012_1407462424.png, 1711552633809021_1825941239.png, 1711552633882005_1043511938.png, 1711552633960000_1407462424.png, 1711552633990003_1825941239.png, 1711552634028008_1043511938.png, 1711552634060000_1407462424.png, 1711552634085020_1825941239.png, 1711552634110000_1043511938.png\n",
            "-------------------------------------------\n"
          ]
        }
      ]
    }
  ]
}